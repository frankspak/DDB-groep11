{
 "cells": [
  {
   "cell_type": "code",
   "execution_count": 1,
   "metadata": {},
   "outputs": [],
   "source": [
    "import pandas as pd\n",
    "import numpy as np\n",
    "import math\n",
    "import random\n",
    "from matplotlib import pyplot as plt\n",
    "import seaborn as sns\n",
    "from sklearn.metrics import mean_squared_error\n",
    "import datetime"
   ]
  },
  {
   "cell_type": "code",
   "execution_count": 2,
   "metadata": {},
   "outputs": [
    {
     "name": "stderr",
     "output_type": "stream",
     "text": [
      "c:\\users\\game pc\\appdata\\local\\programs\\python\\python37-32\\lib\\site-packages\\IPython\\core\\interactiveshell.py:3063: DtypeWarning: Columns (11,19,21,27,32,36,37,38,39,40,47,48,55,78,80,82,83,86,87,99,102,108,109,110,111,113,116,118,120,121,122,124,129) have mixed types.Specify dtype option on import or set low_memory=False.\n",
      "  interactivity=interactivity, compiler=compiler, result=result)\n"
     ]
    },
    {
     "name": "stdout",
     "output_type": "stream",
     "text": [
      "Done\n"
     ]
    }
   ],
   "source": [
    "filename = \"sap_storing_data_hu_project.csv\" \n",
    "n = sum(1 for line in open(filename, encoding='utf8'))-1  \n",
    "s = n//10\n",
    "skip = sorted(random.sample(range(1, n+1), n-s))\n",
    "df_not_cleaned = pd.read_csv(filename, skiprows=skip)\n",
    "#verwijder alle kolommen die niet van gebruik zijn:\n",
    "df = df_not_cleaned.drop(columns=['stm_sap_mon_meld_ddt', 'stm_mon_begin_ddt', 'stm_mon_toelichting_trdl', 'stm_oh_pg_mld', 'stm_geo_mld_uit_functiepl', 'stm_scenario_mon', 'stm_status_melding_sap', 'stm_mon_nr_status_omschr', 'stm_mon_nr__statuscode', 'stm_mon_nr_status_wijzdd', 'stm_aanntpl_ddt', 'stm_geo_gst_uit_functiepl', 'stm_objectdl_code_gst', 'stm_objectdl_groep_gst', 'stm_progfh_in_ddt', 'stm_progfh_in_invoer_ddt', 'stm_progfh_gw_ddt', 'stm_progfh_gw_lwd_ddt', 'stm_progfh_hz', 'stm_veroorz_groep', 'stm_veroorz_code', 'stm_progfh_gw_duur', 'stm_progfh_gw_lwd_tijd', 'stm_progfh_gw_lwd_datum', 'stm_progfh_gw_datum', 'stm_arbeid', 'stm_functiepl_gst', 'stm_functiepl_mld', 'stm_mon_begintijd', 'stm_mon_begindatum', 'stm_aangelegd_tijd', 'stm_aangelegd_dd', 'stm_dir_betrok_tr', 'stm_evb', 'stm_mon_vhdsincident', 'stm_mon_eind_ddt', 'stm_afspr_aanvangddt', 'stm_effect', 'stm_veroorz_tekst_kort', 'stm_projnr', 'stm_wbi_nummer', 'stm_status_gebr', 'stm_standplaats', 'stm_actie', 'stm_hinderwaarde', 'stm_rec_toegev_ddt', 'stm_afsluit_tijd', 'stm_afsluit_dd', 'stm_afsluit_ddt', 'stm_akkoord_melding_jn', 'stm_fact_jn', 'stm_status_sapnaarmon', 'stm_akkoord_mon_toewijz', 'stm_controle_dd', 'stm_mon_eind_tijd', 'stm_mon_eind_datum', 'stm_reactie_duur', 'stm_afspr_aanvangtijd', 'stm_afspr_aanvangdd', 'stm_historie_toelichting', 'stm_schade_verhaalb_jn', 'stm_x_bron_arch_dt', 'stm_x_bron_bestandsnaam', 'stm_x_bron_publ_dt', 'stm_rapportage_jaar', 'stm_rapportage_maand', 'stm_sorteerveld', 'stm_afspr_func_hersteltijd', 'stm_afspr_func_hersteldd', 'stm_relatiervo', 'stm_relatiervo_volgend', 'stm_relatiervo_vorig', 'stm_schade_statusdatum', 'stm_schade_status_ga', 'stm_schadenr', 'stm_x_start_sessie_dt', 'stm_x_bk', 'stm_x_run_id', 'stm_x_actueel_ind', 'stm_x_vervallen_ind'])\n",
    "print(\"Done\")"
   ]
  },
  {
   "cell_type": "markdown",
   "metadata": {},
   "source": [
    "# Data cleaning:\n",
    "\n",
    "\n",
    "De te bepalen welke variabelen het meest van toepassing zijn om te gebruiken kijken we naar welke\n",
    "kolommen informatie geven over de tijd van de melding, monteur. Tijd wanneer de melding word opgelost.\n",
    "Wat voor melding het is en info over de melding/storing, en de locatie. Zo zijn de volgende kolommen\n",
    "het meest van toepassing:\n",
    "\n",
    "Over soort melding\n",
    "- stm_sap_meldtekst (melding omschrijving)\n",
    "- stm_geo_mld (melding code) - nodig\n",
    "- stm_oorz_code (oorzaak code) - nodig\n",
    "- stm_prioriteit (prioriteit)\n",
    "\n",
    "Over tijd:\n",
    "- stm_sap_melddatum (datump melding) - nodig\n",
    "- stm_sap_meldtijd (tijdstip melding) - nodig\n",
    "- stm_aanngeb_dd (datum aannemer gebeld)\n",
    "- stm_aanngeb_tijd (tijd aannemer gebeld)\n",
    "- stm_aanntpl_dd (datum aannemer op plek)\n",
    "- stm_aanntpl_tijd (tijd aannemer op plek)\n",
    "\n",
    "- stm_fh_dd (Datum van functie herstel) - nodig\n",
    "- stm_fh_tijd (Tijdstip van functieherstel) - nodig\n",
    "- stm_sap_storeinddatum (Datum einde storing) - nodig\n",
    "- stm_sap_storeindtijd (Tijdstip einde storing) - nodig\n",
    "- stm_fh_duur (Duur van functiehersteltijd) - nodig\n",
    "\n",
    "Over equipment:\n",
    "- stm_equipm_nr_mld (equipment)\n",
    "- stm_equipm_omschr_mld (equipment omschrijving)\n",
    "\n",
    "Over locatie\n",
    "- stm_km_van_mld (locatie van)\n",
    "- stm_km_tot_mld (locatie tot)\n",
    "- stm_vl_post (VL post) - nodig\n",
    "- stm_contractgeb_mld(locatie melding) - nodig\n",
    "- stm_pplg_van (PPLG van locatie)\n",
    "- stm_pplg_naar (PPLG tot locatie)\n",
    "- stm_dstrglp_van (Dienstregelpunt van locatie)\n",
    "- stm_dstrglp_naar (Dienstregelpunt tot locatie)\n",
    "\n",
    "Over prognose:\n",
    "- stm_progfh_in_datum (Datum prognose)\n",
    "- stm_progfh_in_tijd (Tijdstip FHT prognose)\n",
    "- stm_progfh_in_invoer_dat (Invoer datum prognose)\n",
    "- stm_progfh_in_invoer_tijd (Invoer tijdstip FHT prognose)\n",
    "- stm_progfh_in_duur (Duur FHT)\n",
    "\n"
   ]
  },
  {
   "cell_type": "code",
   "execution_count": 3,
   "metadata": {
    "scrolled": true
   },
   "outputs": [],
   "source": [
    "#deze functie verwijdert alle rijen waar geen value op de gegeven kolommen zitten\n",
    "def drop_rows_with_null(lst, df):\n",
    "    dfisnull = df.isnull()[lst]\n",
    "    matches = dfisnull[(dfisnull).any(axis=1)]\n",
    "    return df.drop(matches.index)"
   ]
  },
  {
   "cell_type": "code",
   "execution_count": 4,
   "metadata": {},
   "outputs": [],
   "source": [
    "#Deze functie berkent de uitschiet grenzen\n",
    "def uitschieters_bereken(kolom):\n",
    "    q1 = kolom.quantile(0.25)\n",
    "    q3 = kolom.quantile(0.75)\n",
    "    iqr = q3 - q1\n",
    "    maxuitschieter = q3 + (iqr*1.5)\n",
    "    minuitschieter = q1 - (iqr*1.5)\n",
    "    return maxuitschieter, minuitschieter\n",
    "\n",
    "#Deze functie geeft de indexes van uitschieters in een kolom\n",
    "def return_uitschieters_indexes(kolom):\n",
    "    maxuitschieter = uitschieters_bereken(kolom)[0]\n",
    "    minuitschieter = uitschieters_bereken(kolom)[1]\n",
    "    uitschieters = [kolom[kolom > maxuitschieter].index, kolom[kolom < minuitschieter].index]\n",
    "    return uitschieters\n",
    "    \n",
    "#Deze functie geeft een kolom zonder uitschieters\n",
    "def return_kolom_zonder_uitschieters(kolom):\n",
    "    maxuitschieter = uitschieters_bereken(kolom)[0]\n",
    "    minuitschieter = uitschieters_bereken(kolom)[1]\n",
    "    kolom = kolom[kolom < maxuitschieter][kolom > minuitschieter]\n",
    "    return kolom\n"
   ]
  },
  {
   "cell_type": "code",
   "execution_count": 5,
   "metadata": {},
   "outputs": [],
   "source": [
    "#Deze functie berkent de extreme uitschiet grenzen\n",
    "def ex_uitschieters_bereken(kolom):\n",
    "    q1 = kolom.quantile(0.25)\n",
    "    q3 = kolom.quantile(0.75)\n",
    "    iqr = q3 - q1\n",
    "    maxuitschieter = q3 + (iqr*3)\n",
    "    minuitschieter = q1 - (iqr*3)\n",
    "    return maxuitschieter, minuitschieter\n",
    "\n",
    "#Deze functie geeft de indexes van extreme uitschieters in een kolom\n",
    "def return_ex_uitschieters_indexes(kolom):\n",
    "    maxuitschieter = uitschieters_ex_bereken(kolom)[0]\n",
    "    minuitschieter = uitschieters_ex_bereken(kolom)[1]\n",
    "    uitschieters = [kolom[kolom > maxuitschieter].index, kolom[kolom < minuitschieter].index]\n",
    "    return uitschieters\n",
    "    \n",
    "#Deze functie geeft een kolom zonder extreme uitschieters\n",
    "def return_kolom_zonder_ex_uitschieters(kolom):\n",
    "    maxuitschieter = uitschieters_ex_bereken(kolom)[0]\n",
    "    minuitschieter = uitschieters_ex_bereken(kolom)[1]\n",
    "    kolom = kolom[kolom < maxuitschieter][kolom > minuitschieter]\n",
    "    return kolom"
   ]
  },
  {
   "cell_type": "code",
   "execution_count": 6,
   "metadata": {
    "scrolled": true
   },
   "outputs": [
    {
     "name": "stdout",
     "output_type": "stream",
     "text": [
      "89854\n",
      "2784\n"
     ]
    },
    {
     "data": {
      "text/html": [
       "<div>\n",
       "<style scoped>\n",
       "    .dataframe tbody tr th:only-of-type {\n",
       "        vertical-align: middle;\n",
       "    }\n",
       "\n",
       "    .dataframe tbody tr th {\n",
       "        vertical-align: top;\n",
       "    }\n",
       "\n",
       "    .dataframe thead th {\n",
       "        text-align: right;\n",
       "    }\n",
       "</style>\n",
       "<table border=\"1\" class=\"dataframe\">\n",
       "  <thead>\n",
       "    <tr style=\"text-align: right;\">\n",
       "      <th></th>\n",
       "      <th>Unnamed: 0</th>\n",
       "      <th>#stm_sap_meldnr</th>\n",
       "      <th>stm_mon_nr</th>\n",
       "      <th>stm_vl_post</th>\n",
       "      <th>stm_sap_meld_ddt</th>\n",
       "      <th>stm_sap_meldtekst_lang</th>\n",
       "      <th>stm_sap_meldtekst</th>\n",
       "      <th>stm_geo_mld</th>\n",
       "      <th>stm_equipm_nr_mld</th>\n",
       "      <th>stm_equipm_soort_mld</th>\n",
       "      <th>...</th>\n",
       "      <th>stm_fh_dd</th>\n",
       "      <th>stm_fh_tijd</th>\n",
       "      <th>stm_fh_duur</th>\n",
       "      <th>stm_sap_storeinddatum</th>\n",
       "      <th>stm_sap_storeindtijd</th>\n",
       "      <th>stm_oorz_tekst_kort</th>\n",
       "      <th>stm_pplg_van</th>\n",
       "      <th>stm_pplg_naar</th>\n",
       "      <th>stm_dstrglp_van</th>\n",
       "      <th>stm_dstrglp_naar</th>\n",
       "    </tr>\n",
       "  </thead>\n",
       "  <tbody>\n",
       "    <tr>\n",
       "      <th>28</th>\n",
       "      <td>267</td>\n",
       "      <td>50053681</td>\n",
       "      <td>130.0</td>\n",
       "      <td>AH</td>\n",
       "      <td>29/01/2006 18:31:00</td>\n",
       "      <td>Logboeknr  RBV  :  130 Tijd: 1831   VL-Post: ...</td>\n",
       "      <td>Logboeknr  RBV  :  130 Tijd: 1831   VL-P</td>\n",
       "      <td>34</td>\n",
       "      <td>10211518.0</td>\n",
       "      <td>OVERWEG</td>\n",
       "      <td>...</td>\n",
       "      <td>29/01/2006</td>\n",
       "      <td>19:19:00</td>\n",
       "      <td>48.0</td>\n",
       "      <td>29/01/2006</td>\n",
       "      <td>19:19:00</td>\n",
       "      <td>vast zittende koolborstels</td>\n",
       "      <td>NaN</td>\n",
       "      <td>NaN</td>\n",
       "      <td>Rh</td>\n",
       "      <td>Vp</td>\n",
       "    </tr>\n",
       "    <tr>\n",
       "      <th>53</th>\n",
       "      <td>514</td>\n",
       "      <td>50054041</td>\n",
       "      <td>197.0</td>\n",
       "      <td>ZL</td>\n",
       "      <td>20/02/2006 21:56:00</td>\n",
       "      <td>Logboeknr  RBV  :  197 Tijd: 2156   VL-Post: ...</td>\n",
       "      <td>Logboeknr  RBV  :  197 Tijd: 2156   VL-P</td>\n",
       "      <td>603</td>\n",
       "      <td>10201765.0</td>\n",
       "      <td>WISSEL</td>\n",
       "      <td>...</td>\n",
       "      <td>20/02/2006</td>\n",
       "      <td>23:06:00</td>\n",
       "      <td>70.0</td>\n",
       "      <td>20/02/2006</td>\n",
       "      <td>23:06:00</td>\n",
       "      <td>NaN</td>\n",
       "      <td>NaN</td>\n",
       "      <td>NaN</td>\n",
       "      <td>Zl</td>\n",
       "      <td>NaN</td>\n",
       "    </tr>\n",
       "    <tr>\n",
       "      <th>54</th>\n",
       "      <td>531</td>\n",
       "      <td>50054070</td>\n",
       "      <td>34.0</td>\n",
       "      <td>UT</td>\n",
       "      <td>23/02/2006 00:50:00</td>\n",
       "      <td>Logboeknr  RBV  :   34 Tijd: 0050   VL-Post: ...</td>\n",
       "      <td>Logboeknr  RBV  :   34 Tijd: 0050   VL-P</td>\n",
       "      <td>102</td>\n",
       "      <td>10527094.0</td>\n",
       "      <td>WISSEL</td>\n",
       "      <td>...</td>\n",
       "      <td>23/02/2006</td>\n",
       "      <td>06:20:00</td>\n",
       "      <td>330.0</td>\n",
       "      <td>23/02/2006</td>\n",
       "      <td>06:20:00</td>\n",
       "      <td>Werkz. wbi 413208 niet doorgegaan</td>\n",
       "      <td>NaN</td>\n",
       "      <td>NaN</td>\n",
       "      <td>Wdba</td>\n",
       "      <td>NaN</td>\n",
       "    </tr>\n",
       "    <tr>\n",
       "      <th>66</th>\n",
       "      <td>634</td>\n",
       "      <td>50054224</td>\n",
       "      <td>90.0</td>\n",
       "      <td>AMR</td>\n",
       "      <td>03/03/2006 09:37:00</td>\n",
       "      <td>Logboeknr  RBV  :   90 Tijd: 0937   VL-Post: ...</td>\n",
       "      <td>Logboeknr  RBV  :   90 Tijd: 0937   VL-P</td>\n",
       "      <td>217</td>\n",
       "      <td>10247686.0</td>\n",
       "      <td>OVERWEG</td>\n",
       "      <td>...</td>\n",
       "      <td>03/03/2006</td>\n",
       "      <td>11:29:00</td>\n",
       "      <td>112.0</td>\n",
       "      <td>03/03/2006</td>\n",
       "      <td>11:29:00</td>\n",
       "      <td>overwegboom aan de linkerzijde verbogen.</td>\n",
       "      <td>NaN</td>\n",
       "      <td>NaN</td>\n",
       "      <td>Hks</td>\n",
       "      <td>NaN</td>\n",
       "    </tr>\n",
       "    <tr>\n",
       "      <th>74</th>\n",
       "      <td>711</td>\n",
       "      <td>50054348</td>\n",
       "      <td>158.0</td>\n",
       "      <td>GVC</td>\n",
       "      <td>10/03/2006 16:50:00</td>\n",
       "      <td>Logboeknr  RBV  :  158 Tijd: 1650   VL-Post: ...</td>\n",
       "      <td>Logboeknr  RBV  :  158 Tijd: 1650   VL-P</td>\n",
       "      <td>112</td>\n",
       "      <td>10107602.0</td>\n",
       "      <td>BAANLICHAA</td>\n",
       "      <td>...</td>\n",
       "      <td>10/03/2006</td>\n",
       "      <td>17:18:00</td>\n",
       "      <td>28.0</td>\n",
       "      <td>10/03/2006</td>\n",
       "      <td>17:18:00</td>\n",
       "      <td>NaN</td>\n",
       "      <td>NaN</td>\n",
       "      <td>NaN</td>\n",
       "      <td>Dt</td>\n",
       "      <td>NaN</td>\n",
       "    </tr>\n",
       "    <tr>\n",
       "      <th>...</th>\n",
       "      <td>...</td>\n",
       "      <td>...</td>\n",
       "      <td>...</td>\n",
       "      <td>...</td>\n",
       "      <td>...</td>\n",
       "      <td>...</td>\n",
       "      <td>...</td>\n",
       "      <td>...</td>\n",
       "      <td>...</td>\n",
       "      <td>...</td>\n",
       "      <td>...</td>\n",
       "      <td>...</td>\n",
       "      <td>...</td>\n",
       "      <td>...</td>\n",
       "      <td>...</td>\n",
       "      <td>...</td>\n",
       "      <td>...</td>\n",
       "      <td>...</td>\n",
       "      <td>...</td>\n",
       "      <td>...</td>\n",
       "      <td>...</td>\n",
       "    </tr>\n",
       "    <tr>\n",
       "      <th>89594</th>\n",
       "      <td>906057</td>\n",
       "      <td>94007614</td>\n",
       "      <td>9952.0</td>\n",
       "      <td>UT</td>\n",
       "      <td>18/12/2006 06:17:00</td>\n",
       "      <td>Gdm-Cl : Km 20.4 t.o.b.s.</td>\n",
       "      <td>Gdm-Cl : Km 20.4 t.o.b.s.</td>\n",
       "      <td>117</td>\n",
       "      <td>10621360.0</td>\n",
       "      <td>DETECTREIN</td>\n",
       "      <td>...</td>\n",
       "      <td>18/12/2006</td>\n",
       "      <td>09:22:00</td>\n",
       "      <td>185.0</td>\n",
       "      <td>19/12/2006</td>\n",
       "      <td>04:00:00</td>\n",
       "      <td>Er is een spoorstaafbreuk t.h.v. km. 20.</td>\n",
       "      <td>LEK</td>\n",
       "      <td>GDM</td>\n",
       "      <td>CL</td>\n",
       "      <td>NaN</td>\n",
       "    </tr>\n",
       "    <tr>\n",
       "      <th>89595</th>\n",
       "      <td>906069</td>\n",
       "      <td>94007627</td>\n",
       "      <td>1885.0</td>\n",
       "      <td>EHV</td>\n",
       "      <td>30/01/2007 15:20:00</td>\n",
       "      <td>Vl-Vlgr : Km 0.2 t.o.b.s</td>\n",
       "      <td>Vl-Vlgr : Km 0.2 t.o.b.s</td>\n",
       "      <td>56</td>\n",
       "      <td>10621345.0</td>\n",
       "      <td>DETECTREIN</td>\n",
       "      <td>...</td>\n",
       "      <td>30/01/2007</td>\n",
       "      <td>16:15:00</td>\n",
       "      <td>55.0</td>\n",
       "      <td>30/01/2007</td>\n",
       "      <td>16:15:00</td>\n",
       "      <td>losse kabel</td>\n",
       "      <td>VL</td>\n",
       "      <td>NaN</td>\n",
       "      <td>VL</td>\n",
       "      <td>NaN</td>\n",
       "    </tr>\n",
       "    <tr>\n",
       "      <th>89615</th>\n",
       "      <td>906238</td>\n",
       "      <td>94007799</td>\n",
       "      <td>976709.0</td>\n",
       "      <td>RSD</td>\n",
       "      <td>24/10/2010 11:05:00</td>\n",
       "      <td>Rsd : Wl-87 RL n.i.c.</td>\n",
       "      <td>Rsd : Wl-87 RL n.i.c.</td>\n",
       "      <td>545</td>\n",
       "      <td>10121000.0</td>\n",
       "      <td>WISSEL</td>\n",
       "      <td>...</td>\n",
       "      <td>24/10/2010</td>\n",
       "      <td>13:10:00</td>\n",
       "      <td>125.0</td>\n",
       "      <td>24/10/2010</td>\n",
       "      <td>13:11:00</td>\n",
       "      <td>NaN</td>\n",
       "      <td>RSD</td>\n",
       "      <td>NaN</td>\n",
       "      <td>RSD</td>\n",
       "      <td>ODB</td>\n",
       "    </tr>\n",
       "    <tr>\n",
       "      <th>89654</th>\n",
       "      <td>906631</td>\n",
       "      <td>95000480</td>\n",
       "      <td>53197.0</td>\n",
       "      <td>AMR</td>\n",
       "      <td>18/04/2007 03:47:00</td>\n",
       "      <td>utg:ontsporing op wsl 431A werktrein</td>\n",
       "      <td>utg:ontsporing op wsl 431A werktrein</td>\n",
       "      <td>78</td>\n",
       "      <td>10264860.0</td>\n",
       "      <td>WISSEL</td>\n",
       "      <td>...</td>\n",
       "      <td>18/04/2007</td>\n",
       "      <td>07:45:00</td>\n",
       "      <td>215.0</td>\n",
       "      <td>18/04/2007</td>\n",
       "      <td>07:49:00</td>\n",
       "      <td>NaN</td>\n",
       "      <td>UTG</td>\n",
       "      <td>NaN</td>\n",
       "      <td>UTG</td>\n",
       "      <td>NaN</td>\n",
       "    </tr>\n",
       "    <tr>\n",
       "      <th>89757</th>\n",
       "      <td>907672</td>\n",
       "      <td>96001115</td>\n",
       "      <td>978182.0</td>\n",
       "      <td>AH</td>\n",
       "      <td>25/10/2010 21:39:00</td>\n",
       "      <td>Zv : Wsl 43 A/B LL nic.</td>\n",
       "      <td>Zv : Wsl 43 A/B LL nic.</td>\n",
       "      <td>611</td>\n",
       "      <td>10202118.0</td>\n",
       "      <td>WISSEL</td>\n",
       "      <td>...</td>\n",
       "      <td>25/10/2010</td>\n",
       "      <td>21:50:00</td>\n",
       "      <td>10.0</td>\n",
       "      <td>25/10/2010</td>\n",
       "      <td>21:50:00</td>\n",
       "      <td>NaN</td>\n",
       "      <td>ZV</td>\n",
       "      <td>NaN</td>\n",
       "      <td>ZV</td>\n",
       "      <td>ZVBTWA</td>\n",
       "    </tr>\n",
       "  </tbody>\n",
       "</table>\n",
       "<p>2784 rows × 60 columns</p>\n",
       "</div>"
      ],
      "text/plain": [
       "       Unnamed: 0  #stm_sap_meldnr  stm_mon_nr stm_vl_post  \\\n",
       "28            267         50053681       130.0          AH   \n",
       "53            514         50054041       197.0          ZL   \n",
       "54            531         50054070        34.0          UT   \n",
       "66            634         50054224        90.0         AMR   \n",
       "74            711         50054348       158.0         GVC   \n",
       "...           ...              ...         ...         ...   \n",
       "89594      906057         94007614      9952.0          UT   \n",
       "89595      906069         94007627      1885.0         EHV   \n",
       "89615      906238         94007799    976709.0         RSD   \n",
       "89654      906631         95000480     53197.0         AMR   \n",
       "89757      907672         96001115    978182.0          AH   \n",
       "\n",
       "          stm_sap_meld_ddt                             stm_sap_meldtekst_lang  \\\n",
       "28     29/01/2006 18:31:00   Logboeknr  RBV  :  130 Tijd: 1831   VL-Post: ...   \n",
       "53     20/02/2006 21:56:00   Logboeknr  RBV  :  197 Tijd: 2156   VL-Post: ...   \n",
       "54     23/02/2006 00:50:00   Logboeknr  RBV  :   34 Tijd: 0050   VL-Post: ...   \n",
       "66     03/03/2006 09:37:00   Logboeknr  RBV  :   90 Tijd: 0937   VL-Post: ...   \n",
       "74     10/03/2006 16:50:00   Logboeknr  RBV  :  158 Tijd: 1650   VL-Post: ...   \n",
       "...                    ...                                                ...   \n",
       "89594  18/12/2006 06:17:00                          Gdm-Cl : Km 20.4 t.o.b.s.   \n",
       "89595  30/01/2007 15:20:00                           Vl-Vlgr : Km 0.2 t.o.b.s   \n",
       "89615  24/10/2010 11:05:00                              Rsd : Wl-87 RL n.i.c.   \n",
       "89654  18/04/2007 03:47:00               utg:ontsporing op wsl 431A werktrein   \n",
       "89757  25/10/2010 21:39:00                            Zv : Wsl 43 A/B LL nic.   \n",
       "\n",
       "                              stm_sap_meldtekst stm_geo_mld  \\\n",
       "28     Logboeknr  RBV  :  130 Tijd: 1831   VL-P          34   \n",
       "53     Logboeknr  RBV  :  197 Tijd: 2156   VL-P         603   \n",
       "54     Logboeknr  RBV  :   34 Tijd: 0050   VL-P         102   \n",
       "66     Logboeknr  RBV  :   90 Tijd: 0937   VL-P         217   \n",
       "74     Logboeknr  RBV  :  158 Tijd: 1650   VL-P         112   \n",
       "...                                         ...         ...   \n",
       "89594                 Gdm-Cl : Km 20.4 t.o.b.s.         117   \n",
       "89595                  Vl-Vlgr : Km 0.2 t.o.b.s          56   \n",
       "89615                     Rsd : Wl-87 RL n.i.c.         545   \n",
       "89654      utg:ontsporing op wsl 431A werktrein          78   \n",
       "89757                   Zv : Wsl 43 A/B LL nic.         611   \n",
       "\n",
       "       stm_equipm_nr_mld stm_equipm_soort_mld  ...   stm_fh_dd  stm_fh_tijd  \\\n",
       "28            10211518.0              OVERWEG  ...  29/01/2006     19:19:00   \n",
       "53            10201765.0               WISSEL  ...  20/02/2006     23:06:00   \n",
       "54            10527094.0               WISSEL  ...  23/02/2006     06:20:00   \n",
       "66            10247686.0              OVERWEG  ...  03/03/2006     11:29:00   \n",
       "74            10107602.0           BAANLICHAA  ...  10/03/2006     17:18:00   \n",
       "...                  ...                  ...  ...         ...          ...   \n",
       "89594         10621360.0           DETECTREIN  ...  18/12/2006     09:22:00   \n",
       "89595         10621345.0           DETECTREIN  ...  30/01/2007     16:15:00   \n",
       "89615         10121000.0               WISSEL  ...  24/10/2010     13:10:00   \n",
       "89654         10264860.0               WISSEL  ...  18/04/2007     07:45:00   \n",
       "89757         10202118.0               WISSEL  ...  25/10/2010     21:50:00   \n",
       "\n",
       "       stm_fh_duur  stm_sap_storeinddatum stm_sap_storeindtijd  \\\n",
       "28            48.0             29/01/2006             19:19:00   \n",
       "53            70.0             20/02/2006             23:06:00   \n",
       "54           330.0             23/02/2006             06:20:00   \n",
       "66           112.0             03/03/2006             11:29:00   \n",
       "74            28.0             10/03/2006             17:18:00   \n",
       "...            ...                    ...                  ...   \n",
       "89594        185.0             19/12/2006             04:00:00   \n",
       "89595         55.0             30/01/2007             16:15:00   \n",
       "89615        125.0             24/10/2010             13:11:00   \n",
       "89654        215.0             18/04/2007             07:49:00   \n",
       "89757         10.0             25/10/2010             21:50:00   \n",
       "\n",
       "                            stm_oorz_tekst_kort stm_pplg_van  stm_pplg_naar  \\\n",
       "28                   vast zittende koolborstels          NaN            NaN   \n",
       "53                                          NaN          NaN            NaN   \n",
       "54            Werkz. wbi 413208 niet doorgegaan          NaN            NaN   \n",
       "66     overwegboom aan de linkerzijde verbogen.          NaN            NaN   \n",
       "74                                          NaN          NaN            NaN   \n",
       "...                                         ...          ...            ...   \n",
       "89594  Er is een spoorstaafbreuk t.h.v. km. 20.          LEK            GDM   \n",
       "89595                               losse kabel           VL            NaN   \n",
       "89615                                       NaN          RSD            NaN   \n",
       "89654                                       NaN          UTG            NaN   \n",
       "89757                                       NaN           ZV            NaN   \n",
       "\n",
       "      stm_dstrglp_van stm_dstrglp_naar  \n",
       "28                 Rh               Vp  \n",
       "53                 Zl              NaN  \n",
       "54               Wdba              NaN  \n",
       "66                Hks              NaN  \n",
       "74                 Dt              NaN  \n",
       "...               ...              ...  \n",
       "89594              CL              NaN  \n",
       "89595              VL              NaN  \n",
       "89615             RSD              ODB  \n",
       "89654             UTG              NaN  \n",
       "89757              ZV           ZVBTWA  \n",
       "\n",
       "[2784 rows x 60 columns]"
      ]
     },
     "execution_count": 6,
     "metadata": {},
     "output_type": "execute_result"
    }
   ],
   "source": [
    "# Verwijder de rijen die geen value bevatten in de benodigde kolommen\n",
    "df_filtered = drop_rows_with_null(['stm_geo_mld', 'stm_sap_melddatum', 'stm_oorz_code', 'stm_sap_meldtijd',\n",
    "                          'stm_fh_dd', 'stm_fh_tijd', 'stm_sap_storeinddatum', 'stm_sap_storeindtijd',\n",
    "                          'stm_fh_duur', 'stm_vl_post', 'stm_contractgeb_mld'], df)\n",
    "df_filtered = (df_filtered.loc[(df_filtered['stm_fh_duur'] > 5) & (df_filtered['stm_fh_duur'] < 360)])\n",
    "df_filtered = (df_filtered[(df_filtered['stm_km_van_mld'] < 500)])\n",
    "# hoger dan 5 minuten,als het onder de 5 minuten zit is er een goede kans dat het een fout was.\n",
    "print(len(df))\n",
    "print(len(df_filtered))\n",
    "df_filtered"
   ]
  },
  {
   "cell_type": "code",
   "execution_count": 7,
   "metadata": {},
   "outputs": [
    {
     "data": {
      "text/html": [
       "<div>\n",
       "<style scoped>\n",
       "    .dataframe tbody tr th:only-of-type {\n",
       "        vertical-align: middle;\n",
       "    }\n",
       "\n",
       "    .dataframe tbody tr th {\n",
       "        vertical-align: top;\n",
       "    }\n",
       "\n",
       "    .dataframe thead th {\n",
       "        text-align: right;\n",
       "    }\n",
       "</style>\n",
       "<table border=\"1\" class=\"dataframe\">\n",
       "  <thead>\n",
       "    <tr style=\"text-align: right;\">\n",
       "      <th></th>\n",
       "      <th>stm_progfh_in_datum</th>\n",
       "      <th>stm_progfh_in_tijd</th>\n",
       "      <th>stm_progfh_in_invoer_dat</th>\n",
       "      <th>stm_progfh_in_invoer_tijd</th>\n",
       "      <th>stm_progfh_in_duur</th>\n",
       "    </tr>\n",
       "  </thead>\n",
       "  <tbody>\n",
       "    <tr>\n",
       "      <th>0</th>\n",
       "      <td>NaN</td>\n",
       "      <td>00:00:00</td>\n",
       "      <td>NaN</td>\n",
       "      <td>00:00:00</td>\n",
       "      <td>1e+08</td>\n",
       "    </tr>\n",
       "    <tr>\n",
       "      <th>1</th>\n",
       "      <td>NaN</td>\n",
       "      <td>00:00:00</td>\n",
       "      <td>NaN</td>\n",
       "      <td>00:00:00</td>\n",
       "      <td>1e+08</td>\n",
       "    </tr>\n",
       "    <tr>\n",
       "      <th>2</th>\n",
       "      <td>NaN</td>\n",
       "      <td>00:00:00</td>\n",
       "      <td>NaN</td>\n",
       "      <td>00:00:00</td>\n",
       "      <td>1e+08</td>\n",
       "    </tr>\n",
       "    <tr>\n",
       "      <th>3</th>\n",
       "      <td>NaN</td>\n",
       "      <td>00:00:00</td>\n",
       "      <td>NaN</td>\n",
       "      <td>00:00:00</td>\n",
       "      <td>1e+08</td>\n",
       "    </tr>\n",
       "    <tr>\n",
       "      <th>4</th>\n",
       "      <td>NaN</td>\n",
       "      <td>00:00:00</td>\n",
       "      <td>NaN</td>\n",
       "      <td>00:00:00</td>\n",
       "      <td>1e+08</td>\n",
       "    </tr>\n",
       "    <tr>\n",
       "      <th>...</th>\n",
       "      <td>...</td>\n",
       "      <td>...</td>\n",
       "      <td>...</td>\n",
       "      <td>...</td>\n",
       "      <td>...</td>\n",
       "    </tr>\n",
       "    <tr>\n",
       "      <th>89849</th>\n",
       "      <td>10/05/2013</td>\n",
       "      <td>22:50:00</td>\n",
       "      <td>10/05/2013</td>\n",
       "      <td>22:59:22</td>\n",
       "      <td>71</td>\n",
       "    </tr>\n",
       "    <tr>\n",
       "      <th>89850</th>\n",
       "      <td>NaN</td>\n",
       "      <td>00:00:00</td>\n",
       "      <td>NaN</td>\n",
       "      <td>00:00:00</td>\n",
       "      <td>99999999</td>\n",
       "    </tr>\n",
       "    <tr>\n",
       "      <th>89851</th>\n",
       "      <td>13/05/2013</td>\n",
       "      <td>02:30:00</td>\n",
       "      <td>13/05/2013</td>\n",
       "      <td>02:40:55</td>\n",
       "      <td>90</td>\n",
       "    </tr>\n",
       "    <tr>\n",
       "      <th>89852</th>\n",
       "      <td>11/05/2013</td>\n",
       "      <td>08:25:00</td>\n",
       "      <td>11/05/2013</td>\n",
       "      <td>08:31:24</td>\n",
       "      <td>4</td>\n",
       "    </tr>\n",
       "    <tr>\n",
       "      <th>89853</th>\n",
       "      <td>11/05/2013</td>\n",
       "      <td>11:00:00</td>\n",
       "      <td>11/05/2013</td>\n",
       "      <td>10:16:27</td>\n",
       "      <td>52</td>\n",
       "    </tr>\n",
       "  </tbody>\n",
       "</table>\n",
       "<p>89854 rows × 5 columns</p>\n",
       "</div>"
      ],
      "text/plain": [
       "      stm_progfh_in_datum stm_progfh_in_tijd stm_progfh_in_invoer_dat  \\\n",
       "0                     NaN           00:00:00                      NaN   \n",
       "1                     NaN           00:00:00                      NaN   \n",
       "2                     NaN           00:00:00                      NaN   \n",
       "3                     NaN           00:00:00                      NaN   \n",
       "4                     NaN           00:00:00                      NaN   \n",
       "...                   ...                ...                      ...   \n",
       "89849          10/05/2013           22:50:00               10/05/2013   \n",
       "89850                 NaN           00:00:00                      NaN   \n",
       "89851          13/05/2013           02:30:00               13/05/2013   \n",
       "89852          11/05/2013           08:25:00               11/05/2013   \n",
       "89853          11/05/2013           11:00:00               11/05/2013   \n",
       "\n",
       "      stm_progfh_in_invoer_tijd stm_progfh_in_duur  \n",
       "0                      00:00:00              1e+08  \n",
       "1                      00:00:00              1e+08  \n",
       "2                      00:00:00              1e+08  \n",
       "3                      00:00:00              1e+08  \n",
       "4                      00:00:00              1e+08  \n",
       "...                         ...                ...  \n",
       "89849                  22:59:22                 71  \n",
       "89850                  00:00:00           99999999  \n",
       "89851                  02:40:55                 90  \n",
       "89852                  08:31:24                  4  \n",
       "89853                  10:16:27                 52  \n",
       "\n",
       "[89854 rows x 5 columns]"
      ]
     },
     "execution_count": 7,
     "metadata": {},
     "output_type": "execute_result"
    }
   ],
   "source": [
    "#uitgeschreven lijsten zodat ik ze niet steeds hoef over te typen\n",
    "\n",
    "# melding\n",
    "df[['stm_sap_meldtekst', 'stm_geo_mld', 'stm_oorz_code', 'stm_prioriteit']]\n",
    "# tijd\n",
    "df[['stm_sap_melddatum', 'stm_sap_meldtijd', 'stm_aanngeb_dd', 'stm_aanngeb_tijd', 'stm_aanntpl_dd', 'stm_aanntpl_tijd']]\n",
    "df[['stm_fh_dd', 'stm_fh_tijd', 'stm_fh_duur', 'stm_sap_storeinddatum', 'stm_sap_storeindtijd']]\n",
    "# equipment\n",
    "df[['stm_equipm_omschr_mld', 'stm_equipm_nr_mld']]\n",
    "# locatie\n",
    "df[['stm_km_van_mld', 'stm_km_tot_mld', 'stm_vl_post', 'stm_contractgeb_mld', 'stm_pplg_van', 'stm_pplg_naar', 'stm_dstrglp_van', 'stm_dstrglp_naar']]\n",
    "# prognose\n",
    "df[['stm_progfh_in_datum', 'stm_progfh_in_tijd', 'stm_progfh_in_invoer_dat', 'stm_progfh_in_invoer_tijd', 'stm_progfh_in_duur']]\n"
   ]
  },
  {
   "cell_type": "markdown",
   "metadata": {},
   "source": [
    "# Baseline\n",
    "Target variabele is 'stm_fh_duur'. Dit is de functie hersteltijd dit houd in dat vanaf de melding tot dat het probleem opgelost is getimed wordt. \n",
    "\n",
    "baseline:  "
   ]
  },
  {
   "cell_type": "code",
   "execution_count": 8,
   "metadata": {},
   "outputs": [
    {
     "data": {
      "text/plain": [
       "28        48.0\n",
       "53        70.0\n",
       "54       330.0\n",
       "66       112.0\n",
       "74        28.0\n",
       "         ...  \n",
       "89594    185.0\n",
       "89595     55.0\n",
       "89615    125.0\n",
       "89654    215.0\n",
       "89757     10.0\n",
       "Name: stm_fh_duur, Length: 2784, dtype: float64"
      ]
     },
     "execution_count": 8,
     "metadata": {},
     "output_type": "execute_result"
    }
   ],
   "source": [
    "# De target variabele filteren tussen de 0 min en 360 min. Prodcut ower gaf dit als grens aan. \n",
    "data_fht = df_filtered['stm_fh_duur'].loc[(df_filtered['stm_fh_duur'] > 0) & (df_filtered['stm_fh_duur'] < 360)]\n",
    "data_fht"
   ]
  },
  {
   "cell_type": "code",
   "execution_count": 9,
   "metadata": {},
   "outputs": [
    {
     "data": {
      "text/plain": [
       "count    2784.000000\n",
       "mean      109.263290\n",
       "std        76.040437\n",
       "min         6.000000\n",
       "25%        53.000000\n",
       "50%        92.000000\n",
       "75%       145.000000\n",
       "max       359.000000\n",
       "Name: stm_fh_duur, dtype: float64"
      ]
     },
     "execution_count": 9,
     "metadata": {},
     "output_type": "execute_result"
    }
   ],
   "source": [
    "data_fht.describe()"
   ]
  },
  {
   "cell_type": "code",
   "execution_count": 10,
   "metadata": {},
   "outputs": [
    {
     "data": {
      "text/plain": [
       "109.26329022988506"
      ]
     },
     "execution_count": 10,
     "metadata": {},
     "output_type": "execute_result"
    }
   ],
   "source": [
    "data_fht.mean()"
   ]
  },
  {
   "cell_type": "code",
   "execution_count": 11,
   "metadata": {},
   "outputs": [
    {
     "data": {
      "text/plain": [
       "92.0"
      ]
     },
     "execution_count": 11,
     "metadata": {},
     "output_type": "execute_result"
    }
   ],
   "source": [
    "data_fht.median()"
   ]
  },
  {
   "cell_type": "code",
   "execution_count": 12,
   "metadata": {},
   "outputs": [
    {
     "data": {
      "text/plain": [
       "<matplotlib.axes._subplots.AxesSubplot at 0x30064870>"
      ]
     },
     "execution_count": 12,
     "metadata": {},
     "output_type": "execute_result"
    },
    {
     "data": {
      "image/png": "[encoded data removed]",
      "text/plain": [
       "<Figure size 1152x576 with 1 Axes>"
      ]
     },
     "metadata": {
      "needs_background": "light"
     },
     "output_type": "display_data"
    }
   ],
   "source": [
    "data_fht.plot.box(figsize=(16,8))"
   ]
  },
  {
   "cell_type": "code",
   "execution_count": 13,
   "metadata": {},
   "outputs": [
    {
     "data": {
      "text/plain": [
       "1676"
      ]
     },
     "execution_count": 13,
     "metadata": {},
     "output_type": "execute_result"
    }
   ],
   "source": [
    "len(data_fht[data_fht < data_fht.mean()])"
   ]
  },
  {
   "cell_type": "code",
   "execution_count": 14,
   "metadata": {},
   "outputs": [
    {
     "data": {
      "text/plain": [
       "60.20114942528736"
      ]
     },
     "execution_count": 14,
     "metadata": {},
     "output_type": "execute_result"
    }
   ],
   "source": [
    "len(data_fht[data_fht < data_fht.mean()])/len(data_fht)*100"
   ]
  },
  {
   "cell_type": "code",
   "execution_count": 15,
   "metadata": {},
   "outputs": [
    {
     "data": {
      "text/plain": [
       "49.46120689655172"
      ]
     },
     "execution_count": 15,
     "metadata": {},
     "output_type": "execute_result"
    }
   ],
   "source": [
    "len(data_fht[data_fht < data_fht.median()])/len(data_fht)*100"
   ]
  },
  {
   "cell_type": "markdown",
   "metadata": {},
   "source": [
    "61% van alle herstel tijden zit onder het gemiddelde 102 min\n",
    "\n",
    "50% van alle herstel tijden zit onder de mediaan 82 min\n",
    "\n"
   ]
  },
  {
   "cell_type": "code",
   "execution_count": 16,
   "metadata": {},
   "outputs": [
    {
     "data": {
      "text/html": [
       "<div>\n",
       "<style scoped>\n",
       "    .dataframe tbody tr th:only-of-type {\n",
       "        vertical-align: middle;\n",
       "    }\n",
       "\n",
       "    .dataframe tbody tr th {\n",
       "        vertical-align: top;\n",
       "    }\n",
       "\n",
       "    .dataframe thead th {\n",
       "        text-align: right;\n",
       "    }\n",
       "</style>\n",
       "<table border=\"1\" class=\"dataframe\">\n",
       "  <thead>\n",
       "    <tr style=\"text-align: right;\">\n",
       "      <th></th>\n",
       "      <th>stm_fh_duur</th>\n",
       "      <th>mediaan</th>\n",
       "      <th>mean</th>\n",
       "    </tr>\n",
       "  </thead>\n",
       "  <tbody>\n",
       "    <tr>\n",
       "      <th>28</th>\n",
       "      <td>48.0</td>\n",
       "      <td>92.0</td>\n",
       "      <td>109.26329</td>\n",
       "    </tr>\n",
       "    <tr>\n",
       "      <th>53</th>\n",
       "      <td>70.0</td>\n",
       "      <td>92.0</td>\n",
       "      <td>109.26329</td>\n",
       "    </tr>\n",
       "    <tr>\n",
       "      <th>54</th>\n",
       "      <td>330.0</td>\n",
       "      <td>92.0</td>\n",
       "      <td>109.26329</td>\n",
       "    </tr>\n",
       "    <tr>\n",
       "      <th>66</th>\n",
       "      <td>112.0</td>\n",
       "      <td>92.0</td>\n",
       "      <td>109.26329</td>\n",
       "    </tr>\n",
       "    <tr>\n",
       "      <th>74</th>\n",
       "      <td>28.0</td>\n",
       "      <td>92.0</td>\n",
       "      <td>109.26329</td>\n",
       "    </tr>\n",
       "  </tbody>\n",
       "</table>\n",
       "</div>"
      ],
      "text/plain": [
       "    stm_fh_duur  mediaan       mean\n",
       "28         48.0     92.0  109.26329\n",
       "53         70.0     92.0  109.26329\n",
       "54        330.0     92.0  109.26329\n",
       "66        112.0     92.0  109.26329\n",
       "74         28.0     92.0  109.26329"
      ]
     },
     "execution_count": 16,
     "metadata": {},
     "output_type": "execute_result"
    }
   ],
   "source": [
    "data_fht = data_fht.to_frame()\n",
    "data_fht['mediaan'] = data_fht['stm_fh_duur'].median()\n",
    "data_fht['mean'] = data_fht['stm_fh_duur'].mean()\n",
    "data_fht.head()"
   ]
  },
  {
   "cell_type": "code",
   "execution_count": 17,
   "metadata": {},
   "outputs": [
    {
     "data": {
      "text/plain": [
       "76.02677899041328"
      ]
     },
     "execution_count": 17,
     "metadata": {},
     "output_type": "execute_result"
    }
   ],
   "source": [
    "# de score bepalen aan de hand van de RSME\n",
    "np.sqrt(mean_squared_error(data_fht.loc[:,'stm_fh_duur'],data_fht.loc[:,'mean']))"
   ]
  },
  {
   "cell_type": "code",
   "execution_count": 18,
   "metadata": {},
   "outputs": [
    {
     "data": {
      "text/plain": [
       "77.96212101539048"
      ]
     },
     "execution_count": 18,
     "metadata": {},
     "output_type": "execute_result"
    }
   ],
   "source": [
    "#de score bepalen aan de hand van de RSME\n",
    "np.sqrt(mean_squared_error(data_fht.loc[:,'stm_fh_duur'],data_fht.loc[:,'mediaan']))"
   ]
  },
  {
   "cell_type": "markdown",
   "metadata": {},
   "source": [
    "# KNeighborsregression"
   ]
  },
  {
   "cell_type": "code",
   "execution_count": 19,
   "metadata": {},
   "outputs": [],
   "source": [
    "data_KN = df_filtered[['stm_km_van_mld', 'stm_prioriteit']]"
   ]
  },
  {
   "cell_type": "code",
   "execution_count": 20,
   "metadata": {},
   "outputs": [],
   "source": [
    "df_filtered['stm_sap_meld_ddt'] = df_filtered['stm_sap_meld_ddt'].apply(pd.to_datetime)"
   ]
  },
  {
   "cell_type": "code",
   "execution_count": 21,
   "metadata": {},
   "outputs": [],
   "source": [
    "df_year = pd.DataFrame(df_filtered['stm_sap_meld_ddt'].dt.year)\n",
    "df_filtered.insert(5, 'Jaar', df_year)"
   ]
  },
  {
   "cell_type": "code",
   "execution_count": 22,
   "metadata": {},
   "outputs": [],
   "source": [
    "df_day = pd.DataFrame(df_filtered['stm_sap_meld_ddt'].dt.dayofyear)\n",
    "df_filtered.insert(6, 'Dag_van_jaar', df_day)"
   ]
  },
  {
   "cell_type": "code",
   "execution_count": 23,
   "metadata": {},
   "outputs": [],
   "source": [
    "df_hour = pd.DataFrame(df_filtered['stm_sap_meld_ddt'].dt.hour)\n",
    "df_filtered.insert(7, 'Uur_van_dag', df_hour)"
   ]
  },
  {
   "cell_type": "code",
   "execution_count": 24,
   "metadata": {},
   "outputs": [],
   "source": [
    "df_min = pd.DataFrame(df_filtered['stm_sap_meld_ddt'].dt.minute)\n",
    "df_filtered.insert(8, 'Minuut_van_uur', df_min)"
   ]
  },
  {
   "cell_type": "code",
   "execution_count": 25,
   "metadata": {},
   "outputs": [],
   "source": [
    "df_hour_min = (df_filtered['Uur_van_dag'] * 60) + df_filtered['Minuut_van_uur']\n",
    "df_filtered.insert(9, 'Minuut_van_dag', df_hour_min)"
   ]
  },
  {
   "cell_type": "code",
   "execution_count": 26,
   "metadata": {},
   "outputs": [],
   "source": [
    "X = df_filtered[['stm_km_van_mld', 'stm_prioriteit', 'Dag_van_jaar', 'Jaar', 'Minuut_van_dag']]\n",
    "y = df_filtered[['stm_fh_duur']]"
   ]
  },
  {
   "cell_type": "code",
   "execution_count": 27,
   "metadata": {},
   "outputs": [],
   "source": [
    "from sklearn.model_selection import train_test_split\n",
    "\n",
    "X_train, X_test, y_train, y_test = train_test_split(X, y, test_size=0.1, random_state=None)"
   ]
  },
  {
   "cell_type": "code",
   "execution_count": 28,
   "metadata": {},
   "outputs": [
    {
     "data": {
      "text/plain": [
       "KNeighborsClassifier()"
      ]
     },
     "execution_count": 28,
     "metadata": {},
     "output_type": "execute_result"
    }
   ],
   "source": [
    "from sklearn.neighbors import KNeighborsClassifier\n",
    "\n",
    "clf = KNeighborsClassifier()\n",
    "\n",
    "clf"
   ]
  },
  {
   "cell_type": "code",
   "execution_count": 29,
   "metadata": {},
   "outputs": [
    {
     "name": "stderr",
     "output_type": "stream",
     "text": [
      "c:\\users\\game pc\\appdata\\local\\programs\\python\\python37-32\\lib\\site-packages\\ipykernel_launcher.py:1: DataConversionWarning: A column-vector y was passed when a 1d array was expected. Please change the shape of y to (n_samples, ), for example using ravel().\n",
      "  \"\"\"Entry point for launching an IPython kernel.\n"
     ]
    },
    {
     "data": {
      "text/plain": [
       "KNeighborsClassifier()"
      ]
     },
     "execution_count": 29,
     "metadata": {},
     "output_type": "execute_result"
    }
   ],
   "source": [
    "clf.fit(X_train, y_train)"
   ]
  },
  {
   "cell_type": "code",
   "execution_count": 30,
   "metadata": {},
   "outputs": [],
   "source": [
    "y_pred_train = clf.predict(X_train)\n",
    "\n",
    "y_pred_test = clf.predict(X_test)"
   ]
  },
  {
   "cell_type": "code",
   "execution_count": 31,
   "metadata": {},
   "outputs": [
    {
     "name": "stdout",
     "output_type": "stream",
     "text": [
      "Accuracy traindata\n",
      "0.24750499001996007\n",
      "\n",
      "Accuracy testdata\n",
      "0.03225806451612903\n"
     ]
    }
   ],
   "source": [
    "from sklearn.metrics import accuracy_score\n",
    "\n",
    "print('Accuracy traindata')\n",
    "print(accuracy_score(y_train, y_pred_train))\n",
    "\n",
    "print('')\n",
    "print('Accuracy testdata')\n",
    "print(accuracy_score(y_test, y_pred_test))"
   ]
  },
  {
   "cell_type": "code",
   "execution_count": 32,
   "metadata": {},
   "outputs": [
    {
     "data": {
      "text/plain": [
       "count    2784.000000\n",
       "mean        6.107399\n",
       "std        43.168685\n",
       "min         0.000000\n",
       "25%         0.000000\n",
       "50%         0.000000\n",
       "75%         0.000000\n",
       "max       491.000000\n",
       "Name: stm_km_van_mld, dtype: float64"
      ]
     },
     "execution_count": 32,
     "metadata": {},
     "output_type": "execute_result"
    }
   ],
   "source": [
    "df_filtered['stm_km_van_mld'].describe()"
   ]
  },
  {
   "cell_type": "markdown",
   "metadata": {},
   "source": [
    "# linear regression "
   ]
  },
  {
   "cell_type": "code",
   "execution_count": 33,
   "metadata": {},
   "outputs": [],
   "source": [
    "X = df_filtered[['stm_km_van_mld', 'stm_prioriteit', 'Dag_van_jaar', 'Jaar', 'Minuut_van_dag']]\n",
    "y = df_filtered[['stm_fh_duur']]"
   ]
  },
  {
   "cell_type": "code",
   "execution_count": 34,
   "metadata": {},
   "outputs": [],
   "source": [
    "# de data splitsen in training en testing data\n",
    "from sklearn.model_selection import train_test_split\n",
    "# test_size\n",
    "X_train, X_test, y_train,y_test = train_test_split(X,y, test_size=0.1, random_state=None) "
   ]
  },
  {
   "cell_type": "code",
   "execution_count": 35,
   "metadata": {},
   "outputs": [],
   "source": [
    "from sklearn.linear_model import LinearRegression"
   ]
  },
  {
   "cell_type": "code",
   "execution_count": 36,
   "metadata": {},
   "outputs": [],
   "source": [
    "linear_reg_model = LinearRegression()"
   ]
  },
  {
   "cell_type": "code",
   "execution_count": 37,
   "metadata": {},
   "outputs": [
    {
     "data": {
      "text/plain": [
       "LinearRegression()"
      ]
     },
     "execution_count": 37,
     "metadata": {},
     "output_type": "execute_result"
    }
   ],
   "source": [
    "linear_reg_model.fit(X_train, y_train)"
   ]
  },
  {
   "cell_type": "code",
   "execution_count": 48,
   "metadata": {},
   "outputs": [
    {
     "name": "stdout",
     "output_type": "stream",
     "text": [
      "79.57123603574507\n"
     ]
    }
   ],
   "source": [
    "from sklearn.metrics import mean_squared_error\n",
    "\n",
    "y_pred_test = linear_reg_model.predict(X_test)\n",
    "\n",
    "error_metric = np.sqrt(mean_squared_error(y_pred=y_pred_test, y_true=y_test))\n",
    "print(error_metric)"
   ]
  },
  {
   "cell_type": "code",
   "execution_count": 39,
   "metadata": {},
   "outputs": [
    {
     "data": {
      "text/plain": [
       "Text(0.5, 1.0, 'voorspelling tegen over daadwerkelijke data')"
      ]
     },
     "execution_count": 39,
     "metadata": {},
     "output_type": "execute_result"
    },
    {
     "data": {
      "image/png": "[encoded data removed]",
      "text/plain": [
       "<Figure size 432x288 with 1 Axes>"
      ]
     },
     "metadata": {
      "needs_background": "light"
     },
     "output_type": "display_data"
    }
   ],
   "source": [
    "# model plotten en lineare regressie er in verwerken\n",
    "fig, ax = plt.subplots()\n",
    "ax.scatter(y_test, y_pred_test)\n",
    "ax.plot(y_test, y_test, color='red')\n",
    "ax.set_xlabel('testing')\n",
    "ax.set_ylabel('predicting')\n",
    "ax.set_title('voorspelling tegen over daadwerkelijke data')"
   ]
  },
  {
   "cell_type": "code",
   "execution_count": 40,
   "metadata": {},
   "outputs": [
    {
     "data": {
      "text/plain": [
       "array([[141.78912518]])"
      ]
     },
     "execution_count": 40,
     "metadata": {},
     "output_type": "execute_result"
    }
   ],
   "source": [
    "from collections import OrderedDict\n",
    "new_data = OrderedDict([\n",
    "    ('stm_km_van_mld',50),\n",
    "    ('stm_prioriteit',5),\n",
    "    ('Dag_van_jaar',214),\n",
    "    ('Jaar',2020),\n",
    "    ('Minuut_van_dag', 800)\n",
    "])\n",
    "\n",
    "new_data = pd.Series(new_data).values.reshape(1,-1)\n",
    "\n",
    "linear_reg_model.predict(new_data)"
   ]
  },
  {
   "cell_type": "markdown",
   "metadata": {},
   "source": [
    "# extra tree classifier"
   ]
  },
  {
   "cell_type": "code",
   "execution_count": 41,
   "metadata": {},
   "outputs": [],
   "source": [
    "from sklearn.ensemble import ExtraTreesClassifier"
   ]
  },
  {
   "cell_type": "code",
   "execution_count": 42,
   "metadata": {},
   "outputs": [],
   "source": [
    "X = df_filtered[['stm_km_van_mld', 'stm_prioriteit', 'Dag_van_jaar', 'Jaar', 'Minuut_van_dag']]\n",
    "y = df_filtered[['stm_fh_duur']]"
   ]
  },
  {
   "cell_type": "code",
   "execution_count": 43,
   "metadata": {},
   "outputs": [],
   "source": [
    "# de data splitsen in training en testing data\n",
    "from sklearn.model_selection import train_test_split\n",
    "# test_size\n",
    "X_train, X_test, y_train,y_test = train_test_split(X,y, test_size=0.25, random_state=None) "
   ]
  },
  {
   "cell_type": "code",
   "execution_count": 44,
   "metadata": {},
   "outputs": [],
   "source": [
    "clf = ExtraTreesClassifier(n_estimators=100, random_state=0)"
   ]
  },
  {
   "cell_type": "code",
   "execution_count": 45,
   "metadata": {},
   "outputs": [
    {
     "data": {
      "text/html": [
       "<div>\n",
       "<style scoped>\n",
       "    .dataframe tbody tr th:only-of-type {\n",
       "        vertical-align: middle;\n",
       "    }\n",
       "\n",
       "    .dataframe tbody tr th {\n",
       "        vertical-align: top;\n",
       "    }\n",
       "\n",
       "    .dataframe thead th {\n",
       "        text-align: right;\n",
       "    }\n",
       "</style>\n",
       "<table border=\"1\" class=\"dataframe\">\n",
       "  <thead>\n",
       "    <tr style=\"text-align: right;\">\n",
       "      <th></th>\n",
       "      <th>stm_km_van_mld</th>\n",
       "      <th>stm_prioriteit</th>\n",
       "      <th>Dag_van_jaar</th>\n",
       "      <th>Jaar</th>\n",
       "      <th>Minuut_van_dag</th>\n",
       "    </tr>\n",
       "  </thead>\n",
       "  <tbody>\n",
       "    <tr>\n",
       "      <th>70145</th>\n",
       "      <td>0.0</td>\n",
       "      <td>4.0</td>\n",
       "      <td>171</td>\n",
       "      <td>2015</td>\n",
       "      <td>930</td>\n",
       "    </tr>\n",
       "    <tr>\n",
       "      <th>76175</th>\n",
       "      <td>0.0</td>\n",
       "      <td>2.0</td>\n",
       "      <td>114</td>\n",
       "      <td>2016</td>\n",
       "      <td>1242</td>\n",
       "    </tr>\n",
       "    <tr>\n",
       "      <th>85005</th>\n",
       "      <td>0.0</td>\n",
       "      <td>2.0</td>\n",
       "      <td>268</td>\n",
       "      <td>2017</td>\n",
       "      <td>439</td>\n",
       "    </tr>\n",
       "    <tr>\n",
       "      <th>30065</th>\n",
       "      <td>0.0</td>\n",
       "      <td>4.0</td>\n",
       "      <td>35</td>\n",
       "      <td>2008</td>\n",
       "      <td>1356</td>\n",
       "    </tr>\n",
       "    <tr>\n",
       "      <th>22520</th>\n",
       "      <td>0.0</td>\n",
       "      <td>2.0</td>\n",
       "      <td>108</td>\n",
       "      <td>2006</td>\n",
       "      <td>832</td>\n",
       "    </tr>\n",
       "    <tr>\n",
       "      <th>...</th>\n",
       "      <td>...</td>\n",
       "      <td>...</td>\n",
       "      <td>...</td>\n",
       "      <td>...</td>\n",
       "      <td>...</td>\n",
       "    </tr>\n",
       "    <tr>\n",
       "      <th>65036</th>\n",
       "      <td>0.0</td>\n",
       "      <td>2.0</td>\n",
       "      <td>227</td>\n",
       "      <td>2014</td>\n",
       "      <td>1121</td>\n",
       "    </tr>\n",
       "    <tr>\n",
       "      <th>75441</th>\n",
       "      <td>0.0</td>\n",
       "      <td>2.0</td>\n",
       "      <td>87</td>\n",
       "      <td>2016</td>\n",
       "      <td>482</td>\n",
       "    </tr>\n",
       "    <tr>\n",
       "      <th>26537</th>\n",
       "      <td>0.0</td>\n",
       "      <td>2.0</td>\n",
       "      <td>118</td>\n",
       "      <td>2007</td>\n",
       "      <td>672</td>\n",
       "    </tr>\n",
       "    <tr>\n",
       "      <th>89595</th>\n",
       "      <td>0.0</td>\n",
       "      <td>2.0</td>\n",
       "      <td>30</td>\n",
       "      <td>2007</td>\n",
       "      <td>920</td>\n",
       "    </tr>\n",
       "    <tr>\n",
       "      <th>63064</th>\n",
       "      <td>0.0</td>\n",
       "      <td>2.0</td>\n",
       "      <td>65</td>\n",
       "      <td>2014</td>\n",
       "      <td>1097</td>\n",
       "    </tr>\n",
       "  </tbody>\n",
       "</table>\n",
       "<p>696 rows × 5 columns</p>\n",
       "</div>"
      ],
      "text/plain": [
       "       stm_km_van_mld  stm_prioriteit  Dag_van_jaar  Jaar  Minuut_van_dag\n",
       "70145             0.0             4.0           171  2015             930\n",
       "76175             0.0             2.0           114  2016            1242\n",
       "85005             0.0             2.0           268  2017             439\n",
       "30065             0.0             4.0            35  2008            1356\n",
       "22520             0.0             2.0           108  2006             832\n",
       "...               ...             ...           ...   ...             ...\n",
       "65036             0.0             2.0           227  2014            1121\n",
       "75441             0.0             2.0            87  2016             482\n",
       "26537             0.0             2.0           118  2007             672\n",
       "89595             0.0             2.0            30  2007             920\n",
       "63064             0.0             2.0            65  2014            1097\n",
       "\n",
       "[696 rows x 5 columns]"
      ]
     },
     "execution_count": 45,
     "metadata": {},
     "output_type": "execute_result"
    }
   ],
   "source": [
    "X_test"
   ]
  },
  {
   "cell_type": "code",
   "execution_count": 46,
   "metadata": {},
   "outputs": [
    {
     "data": {
      "text/html": [
       "<div>\n",
       "<style scoped>\n",
       "    .dataframe tbody tr th:only-of-type {\n",
       "        vertical-align: middle;\n",
       "    }\n",
       "\n",
       "    .dataframe tbody tr th {\n",
       "        vertical-align: top;\n",
       "    }\n",
       "\n",
       "    .dataframe thead th {\n",
       "        text-align: right;\n",
       "    }\n",
       "</style>\n",
       "<table border=\"1\" class=\"dataframe\">\n",
       "  <thead>\n",
       "    <tr style=\"text-align: right;\">\n",
       "      <th></th>\n",
       "      <th>stm_fh_duur</th>\n",
       "    </tr>\n",
       "  </thead>\n",
       "  <tbody>\n",
       "    <tr>\n",
       "      <th>70145</th>\n",
       "      <td>17.0</td>\n",
       "    </tr>\n",
       "    <tr>\n",
       "      <th>76175</th>\n",
       "      <td>38.0</td>\n",
       "    </tr>\n",
       "    <tr>\n",
       "      <th>85005</th>\n",
       "      <td>116.0</td>\n",
       "    </tr>\n",
       "    <tr>\n",
       "      <th>30065</th>\n",
       "      <td>10.0</td>\n",
       "    </tr>\n",
       "    <tr>\n",
       "      <th>22520</th>\n",
       "      <td>52.0</td>\n",
       "    </tr>\n",
       "    <tr>\n",
       "      <th>...</th>\n",
       "      <td>...</td>\n",
       "    </tr>\n",
       "    <tr>\n",
       "      <th>65036</th>\n",
       "      <td>235.0</td>\n",
       "    </tr>\n",
       "    <tr>\n",
       "      <th>75441</th>\n",
       "      <td>172.0</td>\n",
       "    </tr>\n",
       "    <tr>\n",
       "      <th>26537</th>\n",
       "      <td>167.0</td>\n",
       "    </tr>\n",
       "    <tr>\n",
       "      <th>89595</th>\n",
       "      <td>55.0</td>\n",
       "    </tr>\n",
       "    <tr>\n",
       "      <th>63064</th>\n",
       "      <td>95.0</td>\n",
       "    </tr>\n",
       "  </tbody>\n",
       "</table>\n",
       "<p>696 rows × 1 columns</p>\n",
       "</div>"
      ],
      "text/plain": [
       "       stm_fh_duur\n",
       "70145         17.0\n",
       "76175         38.0\n",
       "85005        116.0\n",
       "30065         10.0\n",
       "22520         52.0\n",
       "...            ...\n",
       "65036        235.0\n",
       "75441        172.0\n",
       "26537        167.0\n",
       "89595         55.0\n",
       "63064         95.0\n",
       "\n",
       "[696 rows x 1 columns]"
      ]
     },
     "execution_count": 46,
     "metadata": {},
     "output_type": "execute_result"
    }
   ],
   "source": [
    "y_test"
   ]
  },
  {
   "cell_type": "code",
   "execution_count": 47,
   "metadata": {},
   "outputs": [
    {
     "name": "stderr",
     "output_type": "stream",
     "text": [
      "c:\\users\\game pc\\appdata\\local\\programs\\python\\python37-32\\lib\\site-packages\\ipykernel_launcher.py:1: DataConversionWarning: A column-vector y was passed when a 1d array was expected. Please change the shape of y to (n_samples,), for example using ravel().\n",
      "  \"\"\"Entry point for launching an IPython kernel.\n"
     ]
    },
    {
     "ename": "MemoryError",
     "evalue": "could not allocate 10289152 bytes",
     "output_type": "error",
     "traceback": [
      "\u001b[1;31m---------------------------------------------------------------------------\u001b[0m",
      "\u001b[1;31mMemoryError\u001b[0m                               Traceback (most recent call last)",
      "\u001b[1;32m<ipython-input-47-4f66baab8f93>\u001b[0m in \u001b[0;36m<module>\u001b[1;34m\u001b[0m\n\u001b[1;32m----> 1\u001b[1;33m \u001b[0mclf\u001b[0m\u001b[1;33m.\u001b[0m\u001b[0mfit\u001b[0m\u001b[1;33m(\u001b[0m\u001b[0mX_train\u001b[0m\u001b[1;33m,\u001b[0m \u001b[0my_train\u001b[0m\u001b[1;33m)\u001b[0m\u001b[1;33m\u001b[0m\u001b[1;33m\u001b[0m\u001b[0m\n\u001b[0m",
      "\u001b[1;32mc:\\users\\game pc\\appdata\\local\\programs\\python\\python37-32\\lib\\site-packages\\sklearn\\ensemble\\_forest.py\u001b[0m in \u001b[0;36mfit\u001b[1;34m(self, X, y, sample_weight)\u001b[0m\n\u001b[0;32m    390\u001b[0m                     \u001b[0mverbose\u001b[0m\u001b[1;33m=\u001b[0m\u001b[0mself\u001b[0m\u001b[1;33m.\u001b[0m\u001b[0mverbose\u001b[0m\u001b[1;33m,\u001b[0m \u001b[0mclass_weight\u001b[0m\u001b[1;33m=\u001b[0m\u001b[0mself\u001b[0m\u001b[1;33m.\u001b[0m\u001b[0mclass_weight\u001b[0m\u001b[1;33m,\u001b[0m\u001b[1;33m\u001b[0m\u001b[1;33m\u001b[0m\u001b[0m\n\u001b[0;32m    391\u001b[0m                     n_samples_bootstrap=n_samples_bootstrap)\n\u001b[1;32m--> 392\u001b[1;33m                 for i, t in enumerate(trees))\n\u001b[0m\u001b[0;32m    393\u001b[0m \u001b[1;33m\u001b[0m\u001b[0m\n\u001b[0;32m    394\u001b[0m             \u001b[1;31m# Collect newly grown trees\u001b[0m\u001b[1;33m\u001b[0m\u001b[1;33m\u001b[0m\u001b[1;33m\u001b[0m\u001b[0m\n",
      "\u001b[1;32mc:\\users\\game pc\\appdata\\local\\programs\\python\\python37-32\\lib\\site-packages\\joblib\\parallel.py\u001b[0m in \u001b[0;36m__call__\u001b[1;34m(self, iterable)\u001b[0m\n\u001b[0;32m   1030\u001b[0m                 \u001b[0mself\u001b[0m\u001b[1;33m.\u001b[0m\u001b[0m_iterating\u001b[0m \u001b[1;33m=\u001b[0m \u001b[0mself\u001b[0m\u001b[1;33m.\u001b[0m\u001b[0m_original_iterator\u001b[0m \u001b[1;32mis\u001b[0m \u001b[1;32mnot\u001b[0m \u001b[1;32mNone\u001b[0m\u001b[1;33m\u001b[0m\u001b[1;33m\u001b[0m\u001b[0m\n\u001b[0;32m   1031\u001b[0m \u001b[1;33m\u001b[0m\u001b[0m\n\u001b[1;32m-> 1032\u001b[1;33m             \u001b[1;32mwhile\u001b[0m \u001b[0mself\u001b[0m\u001b[1;33m.\u001b[0m\u001b[0mdispatch_one_batch\u001b[0m\u001b[1;33m(\u001b[0m\u001b[0miterator\u001b[0m\u001b[1;33m)\u001b[0m\u001b[1;33m:\u001b[0m\u001b[1;33m\u001b[0m\u001b[1;33m\u001b[0m\u001b[0m\n\u001b[0m\u001b[0;32m   1033\u001b[0m                 \u001b[1;32mpass\u001b[0m\u001b[1;33m\u001b[0m\u001b[1;33m\u001b[0m\u001b[0m\n\u001b[0;32m   1034\u001b[0m \u001b[1;33m\u001b[0m\u001b[0m\n",
      "\u001b[1;32mc:\\users\\game pc\\appdata\\local\\programs\\python\\python37-32\\lib\\site-packages\\joblib\\parallel.py\u001b[0m in \u001b[0;36mdispatch_one_batch\u001b[1;34m(self, iterator)\u001b[0m\n\u001b[0;32m    845\u001b[0m                 \u001b[1;32mreturn\u001b[0m \u001b[1;32mFalse\u001b[0m\u001b[1;33m\u001b[0m\u001b[1;33m\u001b[0m\u001b[0m\n\u001b[0;32m    846\u001b[0m             \u001b[1;32melse\u001b[0m\u001b[1;33m:\u001b[0m\u001b[1;33m\u001b[0m\u001b[1;33m\u001b[0m\u001b[0m\n\u001b[1;32m--> 847\u001b[1;33m                 \u001b[0mself\u001b[0m\u001b[1;33m.\u001b[0m\u001b[0m_dispatch\u001b[0m\u001b[1;33m(\u001b[0m\u001b[0mtasks\u001b[0m\u001b[1;33m)\u001b[0m\u001b[1;33m\u001b[0m\u001b[1;33m\u001b[0m\u001b[0m\n\u001b[0m\u001b[0;32m    848\u001b[0m                 \u001b[1;32mreturn\u001b[0m \u001b[1;32mTrue\u001b[0m\u001b[1;33m\u001b[0m\u001b[1;33m\u001b[0m\u001b[0m\n\u001b[0;32m    849\u001b[0m \u001b[1;33m\u001b[0m\u001b[0m\n",
      "\u001b[1;32mc:\\users\\game pc\\appdata\\local\\programs\\python\\python37-32\\lib\\site-packages\\joblib\\parallel.py\u001b[0m in \u001b[0;36m_dispatch\u001b[1;34m(self, batch)\u001b[0m\n\u001b[0;32m    763\u001b[0m         \u001b[1;32mwith\u001b[0m \u001b[0mself\u001b[0m\u001b[1;33m.\u001b[0m\u001b[0m_lock\u001b[0m\u001b[1;33m:\u001b[0m\u001b[1;33m\u001b[0m\u001b[1;33m\u001b[0m\u001b[0m\n\u001b[0;32m    764\u001b[0m             \u001b[0mjob_idx\u001b[0m \u001b[1;33m=\u001b[0m \u001b[0mlen\u001b[0m\u001b[1;33m(\u001b[0m\u001b[0mself\u001b[0m\u001b[1;33m.\u001b[0m\u001b[0m_jobs\u001b[0m\u001b[1;33m)\u001b[0m\u001b[1;33m\u001b[0m\u001b[1;33m\u001b[0m\u001b[0m\n\u001b[1;32m--> 765\u001b[1;33m             \u001b[0mjob\u001b[0m \u001b[1;33m=\u001b[0m \u001b[0mself\u001b[0m\u001b[1;33m.\u001b[0m\u001b[0m_backend\u001b[0m\u001b[1;33m.\u001b[0m\u001b[0mapply_async\u001b[0m\u001b[1;33m(\u001b[0m\u001b[0mbatch\u001b[0m\u001b[1;33m,\u001b[0m \u001b[0mcallback\u001b[0m\u001b[1;33m=\u001b[0m\u001b[0mcb\u001b[0m\u001b[1;33m)\u001b[0m\u001b[1;33m\u001b[0m\u001b[1;33m\u001b[0m\u001b[0m\n\u001b[0m\u001b[0;32m    766\u001b[0m             \u001b[1;31m# A job can complete so quickly than its callback is\u001b[0m\u001b[1;33m\u001b[0m\u001b[1;33m\u001b[0m\u001b[1;33m\u001b[0m\u001b[0m\n\u001b[0;32m    767\u001b[0m             \u001b[1;31m# called before we get here, causing self._jobs to\u001b[0m\u001b[1;33m\u001b[0m\u001b[1;33m\u001b[0m\u001b[1;33m\u001b[0m\u001b[0m\n",
      "\u001b[1;32mc:\\users\\game pc\\appdata\\local\\programs\\python\\python37-32\\lib\\site-packages\\joblib\\_parallel_backends.py\u001b[0m in \u001b[0;36mapply_async\u001b[1;34m(self, func, callback)\u001b[0m\n\u001b[0;32m    206\u001b[0m     \u001b[1;32mdef\u001b[0m \u001b[0mapply_async\u001b[0m\u001b[1;33m(\u001b[0m\u001b[0mself\u001b[0m\u001b[1;33m,\u001b[0m \u001b[0mfunc\u001b[0m\u001b[1;33m,\u001b[0m \u001b[0mcallback\u001b[0m\u001b[1;33m=\u001b[0m\u001b[1;32mNone\u001b[0m\u001b[1;33m)\u001b[0m\u001b[1;33m:\u001b[0m\u001b[1;33m\u001b[0m\u001b[1;33m\u001b[0m\u001b[0m\n\u001b[0;32m    207\u001b[0m         \u001b[1;34m\"\"\"Schedule a func to be run\"\"\"\u001b[0m\u001b[1;33m\u001b[0m\u001b[1;33m\u001b[0m\u001b[0m\n\u001b[1;32m--> 208\u001b[1;33m         \u001b[0mresult\u001b[0m \u001b[1;33m=\u001b[0m \u001b[0mImmediateResult\u001b[0m\u001b[1;33m(\u001b[0m\u001b[0mfunc\u001b[0m\u001b[1;33m)\u001b[0m\u001b[1;33m\u001b[0m\u001b[1;33m\u001b[0m\u001b[0m\n\u001b[0m\u001b[0;32m    209\u001b[0m         \u001b[1;32mif\u001b[0m \u001b[0mcallback\u001b[0m\u001b[1;33m:\u001b[0m\u001b[1;33m\u001b[0m\u001b[1;33m\u001b[0m\u001b[0m\n\u001b[0;32m    210\u001b[0m             \u001b[0mcallback\u001b[0m\u001b[1;33m(\u001b[0m\u001b[0mresult\u001b[0m\u001b[1;33m)\u001b[0m\u001b[1;33m\u001b[0m\u001b[1;33m\u001b[0m\u001b[0m\n",
      "\u001b[1;32mc:\\users\\game pc\\appdata\\local\\programs\\python\\python37-32\\lib\\site-packages\\joblib\\_parallel_backends.py\u001b[0m in \u001b[0;36m__init__\u001b[1;34m(self, batch)\u001b[0m\n\u001b[0;32m    570\u001b[0m         \u001b[1;31m# Don't delay the application, to avoid keeping the input\u001b[0m\u001b[1;33m\u001b[0m\u001b[1;33m\u001b[0m\u001b[1;33m\u001b[0m\u001b[0m\n\u001b[0;32m    571\u001b[0m         \u001b[1;31m# arguments in memory\u001b[0m\u001b[1;33m\u001b[0m\u001b[1;33m\u001b[0m\u001b[1;33m\u001b[0m\u001b[0m\n\u001b[1;32m--> 572\u001b[1;33m         \u001b[0mself\u001b[0m\u001b[1;33m.\u001b[0m\u001b[0mresults\u001b[0m \u001b[1;33m=\u001b[0m \u001b[0mbatch\u001b[0m\u001b[1;33m(\u001b[0m\u001b[1;33m)\u001b[0m\u001b[1;33m\u001b[0m\u001b[1;33m\u001b[0m\u001b[0m\n\u001b[0m\u001b[0;32m    573\u001b[0m \u001b[1;33m\u001b[0m\u001b[0m\n\u001b[0;32m    574\u001b[0m     \u001b[1;32mdef\u001b[0m \u001b[0mget\u001b[0m\u001b[1;33m(\u001b[0m\u001b[0mself\u001b[0m\u001b[1;33m)\u001b[0m\u001b[1;33m:\u001b[0m\u001b[1;33m\u001b[0m\u001b[1;33m\u001b[0m\u001b[0m\n",
      "\u001b[1;32mc:\\users\\game pc\\appdata\\local\\programs\\python\\python37-32\\lib\\site-packages\\joblib\\parallel.py\u001b[0m in \u001b[0;36m__call__\u001b[1;34m(self)\u001b[0m\n\u001b[0;32m    251\u001b[0m         \u001b[1;32mwith\u001b[0m \u001b[0mparallel_backend\u001b[0m\u001b[1;33m(\u001b[0m\u001b[0mself\u001b[0m\u001b[1;33m.\u001b[0m\u001b[0m_backend\u001b[0m\u001b[1;33m,\u001b[0m \u001b[0mn_jobs\u001b[0m\u001b[1;33m=\u001b[0m\u001b[0mself\u001b[0m\u001b[1;33m.\u001b[0m\u001b[0m_n_jobs\u001b[0m\u001b[1;33m)\u001b[0m\u001b[1;33m:\u001b[0m\u001b[1;33m\u001b[0m\u001b[1;33m\u001b[0m\u001b[0m\n\u001b[0;32m    252\u001b[0m             return [func(*args, **kwargs)\n\u001b[1;32m--> 253\u001b[1;33m                     for func, args, kwargs in self.items]\n\u001b[0m\u001b[0;32m    254\u001b[0m \u001b[1;33m\u001b[0m\u001b[0m\n\u001b[0;32m    255\u001b[0m     \u001b[1;32mdef\u001b[0m \u001b[0m__reduce__\u001b[0m\u001b[1;33m(\u001b[0m\u001b[0mself\u001b[0m\u001b[1;33m)\u001b[0m\u001b[1;33m:\u001b[0m\u001b[1;33m\u001b[0m\u001b[1;33m\u001b[0m\u001b[0m\n",
      "\u001b[1;32mc:\\users\\game pc\\appdata\\local\\programs\\python\\python37-32\\lib\\site-packages\\joblib\\parallel.py\u001b[0m in \u001b[0;36m<listcomp>\u001b[1;34m(.0)\u001b[0m\n\u001b[0;32m    251\u001b[0m         \u001b[1;32mwith\u001b[0m \u001b[0mparallel_backend\u001b[0m\u001b[1;33m(\u001b[0m\u001b[0mself\u001b[0m\u001b[1;33m.\u001b[0m\u001b[0m_backend\u001b[0m\u001b[1;33m,\u001b[0m \u001b[0mn_jobs\u001b[0m\u001b[1;33m=\u001b[0m\u001b[0mself\u001b[0m\u001b[1;33m.\u001b[0m\u001b[0m_n_jobs\u001b[0m\u001b[1;33m)\u001b[0m\u001b[1;33m:\u001b[0m\u001b[1;33m\u001b[0m\u001b[1;33m\u001b[0m\u001b[0m\n\u001b[0;32m    252\u001b[0m             return [func(*args, **kwargs)\n\u001b[1;32m--> 253\u001b[1;33m                     for func, args, kwargs in self.items]\n\u001b[0m\u001b[0;32m    254\u001b[0m \u001b[1;33m\u001b[0m\u001b[0m\n\u001b[0;32m    255\u001b[0m     \u001b[1;32mdef\u001b[0m \u001b[0m__reduce__\u001b[0m\u001b[1;33m(\u001b[0m\u001b[0mself\u001b[0m\u001b[1;33m)\u001b[0m\u001b[1;33m:\u001b[0m\u001b[1;33m\u001b[0m\u001b[1;33m\u001b[0m\u001b[0m\n",
      "\u001b[1;32mc:\\users\\game pc\\appdata\\local\\programs\\python\\python37-32\\lib\\site-packages\\sklearn\\ensemble\\_forest.py\u001b[0m in \u001b[0;36m_parallel_build_trees\u001b[1;34m(tree, forest, X, y, sample_weight, tree_idx, n_trees, verbose, class_weight, n_samples_bootstrap)\u001b[0m\n\u001b[0;32m    168\u001b[0m         \u001b[0mtree\u001b[0m\u001b[1;33m.\u001b[0m\u001b[0mfit\u001b[0m\u001b[1;33m(\u001b[0m\u001b[0mX\u001b[0m\u001b[1;33m,\u001b[0m \u001b[0my\u001b[0m\u001b[1;33m,\u001b[0m \u001b[0msample_weight\u001b[0m\u001b[1;33m=\u001b[0m\u001b[0mcurr_sample_weight\u001b[0m\u001b[1;33m,\u001b[0m \u001b[0mcheck_input\u001b[0m\u001b[1;33m=\u001b[0m\u001b[1;32mFalse\u001b[0m\u001b[1;33m)\u001b[0m\u001b[1;33m\u001b[0m\u001b[1;33m\u001b[0m\u001b[0m\n\u001b[0;32m    169\u001b[0m     \u001b[1;32melse\u001b[0m\u001b[1;33m:\u001b[0m\u001b[1;33m\u001b[0m\u001b[1;33m\u001b[0m\u001b[0m\n\u001b[1;32m--> 170\u001b[1;33m         \u001b[0mtree\u001b[0m\u001b[1;33m.\u001b[0m\u001b[0mfit\u001b[0m\u001b[1;33m(\u001b[0m\u001b[0mX\u001b[0m\u001b[1;33m,\u001b[0m \u001b[0my\u001b[0m\u001b[1;33m,\u001b[0m \u001b[0msample_weight\u001b[0m\u001b[1;33m=\u001b[0m\u001b[0msample_weight\u001b[0m\u001b[1;33m,\u001b[0m \u001b[0mcheck_input\u001b[0m\u001b[1;33m=\u001b[0m\u001b[1;32mFalse\u001b[0m\u001b[1;33m)\u001b[0m\u001b[1;33m\u001b[0m\u001b[1;33m\u001b[0m\u001b[0m\n\u001b[0m\u001b[0;32m    171\u001b[0m \u001b[1;33m\u001b[0m\u001b[0m\n\u001b[0;32m    172\u001b[0m     \u001b[1;32mreturn\u001b[0m \u001b[0mtree\u001b[0m\u001b[1;33m\u001b[0m\u001b[1;33m\u001b[0m\u001b[0m\n",
      "\u001b[1;32mc:\\users\\game pc\\appdata\\local\\programs\\python\\python37-32\\lib\\site-packages\\sklearn\\tree\\_classes.py\u001b[0m in \u001b[0;36mfit\u001b[1;34m(self, X, y, sample_weight, check_input, X_idx_sorted)\u001b[0m\n\u001b[0;32m    892\u001b[0m             \u001b[0msample_weight\u001b[0m\u001b[1;33m=\u001b[0m\u001b[0msample_weight\u001b[0m\u001b[1;33m,\u001b[0m\u001b[1;33m\u001b[0m\u001b[1;33m\u001b[0m\u001b[0m\n\u001b[0;32m    893\u001b[0m             \u001b[0mcheck_input\u001b[0m\u001b[1;33m=\u001b[0m\u001b[0mcheck_input\u001b[0m\u001b[1;33m,\u001b[0m\u001b[1;33m\u001b[0m\u001b[1;33m\u001b[0m\u001b[0m\n\u001b[1;32m--> 894\u001b[1;33m             X_idx_sorted=X_idx_sorted)\n\u001b[0m\u001b[0;32m    895\u001b[0m         \u001b[1;32mreturn\u001b[0m \u001b[0mself\u001b[0m\u001b[1;33m\u001b[0m\u001b[1;33m\u001b[0m\u001b[0m\n\u001b[0;32m    896\u001b[0m \u001b[1;33m\u001b[0m\u001b[0m\n",
      "\u001b[1;32mc:\\users\\game pc\\appdata\\local\\programs\\python\\python37-32\\lib\\site-packages\\sklearn\\tree\\_classes.py\u001b[0m in \u001b[0;36mfit\u001b[1;34m(self, X, y, sample_weight, check_input, X_idx_sorted)\u001b[0m\n\u001b[0;32m    373\u001b[0m                                            min_impurity_split)\n\u001b[0;32m    374\u001b[0m \u001b[1;33m\u001b[0m\u001b[0m\n\u001b[1;32m--> 375\u001b[1;33m         \u001b[0mbuilder\u001b[0m\u001b[1;33m.\u001b[0m\u001b[0mbuild\u001b[0m\u001b[1;33m(\u001b[0m\u001b[0mself\u001b[0m\u001b[1;33m.\u001b[0m\u001b[0mtree_\u001b[0m\u001b[1;33m,\u001b[0m \u001b[0mX\u001b[0m\u001b[1;33m,\u001b[0m \u001b[0my\u001b[0m\u001b[1;33m,\u001b[0m \u001b[0msample_weight\u001b[0m\u001b[1;33m,\u001b[0m \u001b[0mX_idx_sorted\u001b[0m\u001b[1;33m)\u001b[0m\u001b[1;33m\u001b[0m\u001b[1;33m\u001b[0m\u001b[0m\n\u001b[0m\u001b[0;32m    376\u001b[0m \u001b[1;33m\u001b[0m\u001b[0m\n\u001b[0;32m    377\u001b[0m         \u001b[1;32mif\u001b[0m \u001b[0mself\u001b[0m\u001b[1;33m.\u001b[0m\u001b[0mn_outputs_\u001b[0m \u001b[1;33m==\u001b[0m \u001b[1;36m1\u001b[0m \u001b[1;32mand\u001b[0m \u001b[0mis_classifier\u001b[0m\u001b[1;33m(\u001b[0m\u001b[0mself\u001b[0m\u001b[1;33m)\u001b[0m\u001b[1;33m:\u001b[0m\u001b[1;33m\u001b[0m\u001b[1;33m\u001b[0m\u001b[0m\n",
      "\u001b[1;32msklearn\\tree\\_tree.pyx\u001b[0m in \u001b[0;36msklearn.tree._tree.DepthFirstTreeBuilder.build\u001b[1;34m()\u001b[0m\n",
      "\u001b[1;32msklearn\\tree\\_tree.pyx\u001b[0m in \u001b[0;36msklearn.tree._tree.DepthFirstTreeBuilder.build\u001b[1;34m()\u001b[0m\n",
      "\u001b[1;32msklearn\\tree\\_tree.pyx\u001b[0m in \u001b[0;36msklearn.tree._tree.Tree._add_node\u001b[1;34m()\u001b[0m\n",
      "\u001b[1;32msklearn\\tree\\_tree.pyx\u001b[0m in \u001b[0;36msklearn.tree._tree.Tree._resize_c\u001b[1;34m()\u001b[0m\n",
      "\u001b[1;32msklearn\\tree\\_utils.pyx\u001b[0m in \u001b[0;36msklearn.tree._utils.safe_realloc\u001b[1;34m()\u001b[0m\n",
      "\u001b[1;31mMemoryError\u001b[0m: could not allocate 10289152 bytes"
     ]
    }
   ],
   "source": [
    "clf.fit(X_train, y_train)"
   ]
  },
  {
   "cell_type": "code",
   "execution_count": null,
   "metadata": {},
   "outputs": [],
   "source": [
    "clf.predict(X_test)"
   ]
  },
  {
   "cell_type": "code",
   "execution_count": null,
   "metadata": {},
   "outputs": [],
   "source": [
    "from sklearn.metrics import accuracy_score, confusion_matrix "
   ]
  },
  {
   "cell_type": "code",
   "execution_count": null,
   "metadata": {},
   "outputs": [],
   "source": [
    "confusion_matrix(list(y_test), clf.predict(X_test))"
   ]
  },
  {
   "cell_type": "code",
   "execution_count": null,
   "metadata": {},
   "outputs": [],
   "source": [
    "accuracy_score(list(y_test), clf.predict(X_test))"
   ]
  },
  {
   "cell_type": "code",
   "execution_count": null,
   "metadata": {},
   "outputs": [],
   "source": [
    "y.shape"
   ]
  },
  {
   "cell_type": "code",
   "execution_count": null,
   "metadata": {},
   "outputs": [],
   "source": [
    "X.shape"
   ]
  },
  {
   "cell_type": "code",
   "execution_count": null,
   "metadata": {},
   "outputs": [],
   "source": []
  }
 ],
 "metadata": {
  "kernelspec": {
   "display_name": "Python 3",
   "language": "python",
   "name": "python3"
  },
  "language_info": {
   "codemirror_mode": {
    "name": "ipython",
    "version": 3
   },
   "file_extension": ".py",
   "mimetype": "text/x-python",
   "name": "python",
   "nbconvert_exporter": "python",
   "pygments_lexer": "ipython3",
   "version": "3.7.2"
  }
 },
 "nbformat": 4,
 "nbformat_minor": 4
}
