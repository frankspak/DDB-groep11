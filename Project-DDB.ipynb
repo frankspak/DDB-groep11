{
 "cells": [
  {
   "cell_type": "code",
   "execution_count": 1,
   "metadata": {},
   "outputs": [],
   "source": [
    "import pandas as pd\n",
    "import numpy as np\n",
    "import math\n",
    "import random\n",
    "from matplotlib import pyplot as plt\n",
    "import seaborn as sns\n",
    "from sklearn.metrics import mean_squared_error\n",
    "import datetime"
   ]
  },
  {
   "cell_type": "code",
   "execution_count": 2,
   "metadata": {},
   "outputs": [
    {
     "name": "stdout",
     "output_type": "stream",
     "text": [
      "Done\n"
     ]
    }
   ],
   "source": [
    "filename = \"sap_storing_data_hu_project.csv\" \n",
    "df_not_cleaned = pd.read_csv(filename, low_memory=False)\n",
    "#verwijder alle kolommen die niet van gebruik zijn:\n",
    "df = df_not_cleaned.drop(columns=['stm_sap_mon_meld_ddt', 'stm_mon_begin_ddt', 'stm_mon_toelichting_trdl', 'stm_oh_pg_mld', 'stm_geo_mld_uit_functiepl', 'stm_scenario_mon', 'stm_status_melding_sap', 'stm_mon_nr_status_omschr', 'stm_mon_nr__statuscode', 'stm_mon_nr_status_wijzdd', 'stm_aanntpl_ddt', 'stm_geo_gst_uit_functiepl', 'stm_objectdl_code_gst', 'stm_objectdl_groep_gst', 'stm_progfh_in_ddt', 'stm_progfh_in_invoer_ddt', 'stm_progfh_gw_ddt', 'stm_progfh_gw_lwd_ddt', 'stm_progfh_hz', 'stm_veroorz_groep', 'stm_veroorz_code', 'stm_progfh_gw_duur', 'stm_progfh_gw_lwd_tijd', 'stm_progfh_gw_lwd_datum', 'stm_progfh_gw_datum', 'stm_arbeid', 'stm_functiepl_gst', 'stm_functiepl_mld', 'stm_mon_begintijd', 'stm_mon_begindatum', 'stm_aangelegd_tijd', 'stm_aangelegd_dd', 'stm_dir_betrok_tr', 'stm_evb', 'stm_mon_vhdsincident', 'stm_mon_eind_ddt', 'stm_afspr_aanvangddt', 'stm_effect', 'stm_veroorz_tekst_kort', 'stm_projnr', 'stm_wbi_nummer', 'stm_status_gebr', 'stm_standplaats', 'stm_actie', 'stm_hinderwaarde', 'stm_rec_toegev_ddt', 'stm_afsluit_tijd', 'stm_afsluit_dd', 'stm_afsluit_ddt', 'stm_akkoord_melding_jn', 'stm_fact_jn', 'stm_status_sapnaarmon', 'stm_akkoord_mon_toewijz', 'stm_controle_dd', 'stm_mon_eind_tijd', 'stm_mon_eind_datum', 'stm_reactie_duur', 'stm_afspr_aanvangtijd', 'stm_afspr_aanvangdd', 'stm_historie_toelichting', 'stm_schade_verhaalb_jn', 'stm_x_bron_arch_dt', 'stm_x_bron_bestandsnaam', 'stm_x_bron_publ_dt', 'stm_rapportage_jaar', 'stm_rapportage_maand', 'stm_sorteerveld', 'stm_afspr_func_hersteltijd', 'stm_afspr_func_hersteldd', 'stm_relatiervo', 'stm_relatiervo_volgend', 'stm_relatiervo_vorig', 'stm_schade_statusdatum', 'stm_schade_status_ga', 'stm_schadenr', 'stm_x_start_sessie_dt', 'stm_x_bk', 'stm_x_run_id', 'stm_x_actueel_ind', 'stm_x_vervallen_ind'])\n",
    "print(\"Done\")"
   ]
  },
  {
   "cell_type": "markdown",
   "metadata": {},
   "source": [
    "# Data cleaning:\n",
    "\n",
    "\n",
    "De te bepalen welke variabelen het meest van toepassing zijn om te gebruiken kijken we naar welke\n",
    "kolommen informatie geven over de tijd van de melding, monteur. Tijd wanneer de melding word opgelost.\n",
    "Wat voor melding het is en info over de melding/storing, en de locatie. Zo zijn de volgende kolommen\n",
    "het meest van toepassing:\n",
    "\n",
    "Over soort melding\n",
    "- stm_sap_meldtekst (melding omschrijving)\n",
    "- stm_geo_mld (melding code) - nodig\n",
    "- stm_oorz_code (oorzaak code) - nodig\n",
    "- stm_prioriteit (prioriteit)\n",
    "\n",
    "Over tijd:\n",
    "- stm_sap_melddatum (datump melding) - nodig\n",
    "- stm_sap_meldtijd (tijdstip melding) - nodig\n",
    "- stm_aanngeb_dd (datum aannemer gebeld)\n",
    "- stm_aanngeb_tijd (tijd aannemer gebeld)\n",
    "- stm_aanntpl_dd (datum aannemer op plek)\n",
    "- stm_aanntpl_tijd (tijd aannemer op plek)\n",
    "\n",
    "- stm_fh_dd (Datum van functie herstel) - nodig\n",
    "- stm_fh_tijd (Tijdstip van functieherstel) - nodig\n",
    "- stm_sap_storeinddatum (Datum einde storing) - nodig\n",
    "- stm_sap_storeindtijd (Tijdstip einde storing) - nodig\n",
    "- stm_fh_duur (Duur van functiehersteltijd) - nodig\n",
    "\n",
    "Over equipment:\n",
    "- stm_equipm_nr_mld (equipment)\n",
    "- stm_equipm_omschr_mld (equipment omschrijving)\n",
    "\n",
    "Over locatie\n",
    "- stm_km_van_mld (locatie van)\n",
    "- stm_km_tot_mld (locatie tot)\n",
    "- stm_vl_post (VL post) - nodig\n",
    "- stm_contractgeb_mld(locatie melding) - nodig\n",
    "- stm_pplg_van (PPLG van locatie)\n",
    "- stm_pplg_naar (PPLG tot locatie)\n",
    "- stm_dstrglp_van (Dienstregelpunt van locatie)\n",
    "- stm_dstrglp_naar (Dienstregelpunt tot locatie)\n",
    "\n",
    "Over prognose:\n",
    "- stm_progfh_in_datum (Datum prognose)\n",
    "- stm_progfh_in_tijd (Tijdstip FHT prognose)\n",
    "- stm_progfh_in_invoer_dat (Invoer datum prognose)\n",
    "- stm_progfh_in_invoer_tijd (Invoer tijdstip FHT prognose)\n",
    "- stm_progfh_in_duur (Duur FHT)\n",
    "\n"
   ]
  },
  {
   "cell_type": "code",
   "execution_count": 3,
   "metadata": {
    "scrolled": true
   },
   "outputs": [],
   "source": [
    "#deze functie verwijdert alle rijen waar geen value op de gegeven kolommen zitten\n",
    "def drop_rows_with_null(lst, df):\n",
    "    dfisnull = df.isnull()[lst]\n",
    "    matches = dfisnull[(dfisnull).any(axis=1)]\n",
    "    return df.drop(matches.index)"
   ]
  },
  {
   "cell_type": "code",
   "execution_count": 4,
   "metadata": {},
   "outputs": [],
   "source": [
    "#Deze functie berkent de uitschiet grenzen\n",
    "def uitschieters_bereken(kolom):\n",
    "    q1 = kolom.quantile(0.25)\n",
    "    q3 = kolom.quantile(0.75)\n",
    "    iqr = q3 - q1\n",
    "    maxuitschieter = q3 + (iqr*1.5)\n",
    "    minuitschieter = q1 - (iqr*1.5)\n",
    "    return maxuitschieter, minuitschieter\n",
    "\n",
    "#Deze functie geeft de indexes van uitschieters in een kolom\n",
    "def return_uitschieters_indexes(kolom):\n",
    "    maxuitschieter = uitschieters_bereken(kolom)[0]\n",
    "    minuitschieter = uitschieters_bereken(kolom)[1]\n",
    "    uitschieters = [kolom[kolom > maxuitschieter].index, kolom[kolom < minuitschieter].index]\n",
    "    return uitschieters\n",
    "    \n",
    "#Deze functie geeft een kolom zonder uitschieters\n",
    "def return_kolom_zonder_uitschieters(kolom):\n",
    "    maxuitschieter = uitschieters_bereken(kolom)[0]\n",
    "    minuitschieter = uitschieters_bereken(kolom)[1]\n",
    "    kolom = kolom[kolom < maxuitschieter][kolom > minuitschieter]\n",
    "    return kolom\n"
   ]
  },
  {
   "cell_type": "code",
   "execution_count": 5,
   "metadata": {},
   "outputs": [],
   "source": [
    "#Deze functie berkent de extreme uitschiet grenzen\n",
    "def ex_uitschieters_bereken(kolom):\n",
    "    q1 = kolom.quantile(0.25)\n",
    "    q3 = kolom.quantile(0.75)\n",
    "    iqr = q3 - q1\n",
    "    maxuitschieter = q3 + (iqr*3)\n",
    "    minuitschieter = q1 - (iqr*3)\n",
    "    return maxuitschieter, minuitschieter\n",
    "\n",
    "#Deze functie geeft de indexes van extreme uitschieters in een kolom\n",
    "def return_ex_uitschieters_indexes(kolom):\n",
    "    maxuitschieter = uitschieters_ex_bereken(kolom)[0]\n",
    "    minuitschieter = uitschieters_ex_bereken(kolom)[1]\n",
    "    uitschieters = [kolom[kolom > maxuitschieter].index, kolom[kolom < minuitschieter].index]\n",
    "    return uitschieters\n",
    "    \n",
    "#Deze functie geeft een kolom zonder extreme uitschieters\n",
    "def return_kolom_zonder_ex_uitschieters(kolom):\n",
    "    maxuitschieter = uitschieters_ex_bereken(kolom)[0]\n",
    "    minuitschieter = uitschieters_ex_bereken(kolom)[1]\n",
    "    kolom = kolom[kolom < maxuitschieter][kolom > minuitschieter]\n",
    "    return kolom"
   ]
  },
  {
   "cell_type": "code",
   "execution_count": 6,
   "metadata": {
    "scrolled": true
   },
   "outputs": [
    {
     "name": "stdout",
     "output_type": "stream",
     "text": [
      "898526\n",
      "132923\n"
     ]
    },
    {
     "data": {
      "text/html": [
       "<div>\n",
       "<style scoped>\n",
       "    .dataframe tbody tr th:only-of-type {\n",
       "        vertical-align: middle;\n",
       "    }\n",
       "\n",
       "    .dataframe tbody tr th {\n",
       "        vertical-align: top;\n",
       "    }\n",
       "\n",
       "    .dataframe thead th {\n",
       "        text-align: right;\n",
       "    }\n",
       "</style>\n",
       "<table border=\"1\" class=\"dataframe\">\n",
       "  <thead>\n",
       "    <tr style=\"text-align: right;\">\n",
       "      <th></th>\n",
       "      <th>Unnamed: 0</th>\n",
       "      <th>#stm_sap_meldnr</th>\n",
       "      <th>stm_mon_nr</th>\n",
       "      <th>stm_vl_post</th>\n",
       "      <th>stm_sap_meld_ddt</th>\n",
       "      <th>stm_sap_meldtekst_lang</th>\n",
       "      <th>stm_sap_meldtekst</th>\n",
       "      <th>stm_geo_mld</th>\n",
       "      <th>stm_equipm_nr_mld</th>\n",
       "      <th>stm_equipm_soort_mld</th>\n",
       "      <th>...</th>\n",
       "      <th>stm_fh_dd</th>\n",
       "      <th>stm_fh_tijd</th>\n",
       "      <th>stm_fh_duur</th>\n",
       "      <th>stm_sap_storeinddatum</th>\n",
       "      <th>stm_sap_storeindtijd</th>\n",
       "      <th>stm_oorz_tekst_kort</th>\n",
       "      <th>stm_pplg_van</th>\n",
       "      <th>stm_pplg_naar</th>\n",
       "      <th>stm_dstrglp_van</th>\n",
       "      <th>stm_dstrglp_naar</th>\n",
       "    </tr>\n",
       "  </thead>\n",
       "  <tbody>\n",
       "    <tr>\n",
       "      <th>85</th>\n",
       "      <td>87</td>\n",
       "      <td>50053389</td>\n",
       "      <td>37.0</td>\n",
       "      <td>EHV</td>\n",
       "      <td>10/01/2006 16:11:00</td>\n",
       "      <td>Logboeknr  RBV  :   37 Tijd: 1611   VL-Post: ...</td>\n",
       "      <td>Logboeknr  RBV  :   37 Tijd: 1611   VL-P</td>\n",
       "      <td>618.0</td>\n",
       "      <td>10646141.0</td>\n",
       "      <td>SYSTBOVENL</td>\n",
       "      <td>...</td>\n",
       "      <td>10/01/2006</td>\n",
       "      <td>16:31:00</td>\n",
       "      <td>20.0</td>\n",
       "      <td>11/01/2006</td>\n",
       "      <td>10:33:00</td>\n",
       "      <td>Geen SMC-melding. Afwijzing. Bij het SMC</td>\n",
       "      <td>NaN</td>\n",
       "      <td>NaN</td>\n",
       "      <td>EHV</td>\n",
       "      <td>NaN</td>\n",
       "    </tr>\n",
       "    <tr>\n",
       "      <th>123</th>\n",
       "      <td>125</td>\n",
       "      <td>50053438</td>\n",
       "      <td>62.0</td>\n",
       "      <td>AH</td>\n",
       "      <td>15/01/2006 23:08:00</td>\n",
       "      <td>Logboeknr  RBV  :   62 Tijd: 2308   VL-Post: ...</td>\n",
       "      <td>Logboeknr  RBV  :   62 Tijd: 2308   VL-P</td>\n",
       "      <td>514.0</td>\n",
       "      <td>10201441.0</td>\n",
       "      <td>WISSEL</td>\n",
       "      <td>...</td>\n",
       "      <td>15/01/2006</td>\n",
       "      <td>23:20:00</td>\n",
       "      <td>12.0</td>\n",
       "      <td>15/01/2006</td>\n",
       "      <td>23:20:00</td>\n",
       "      <td>NaN</td>\n",
       "      <td>NaN</td>\n",
       "      <td>NaN</td>\n",
       "      <td>Nm</td>\n",
       "      <td>NaN</td>\n",
       "    </tr>\n",
       "    <tr>\n",
       "      <th>205</th>\n",
       "      <td>208</td>\n",
       "      <td>50053591</td>\n",
       "      <td>39.0</td>\n",
       "      <td>EHV</td>\n",
       "      <td>20/01/2006 14:32:00</td>\n",
       "      <td>Logboeknr  RBV  :   39 Tijd: 1432   VL-Post: ...</td>\n",
       "      <td>Logboeknr  RBV  :   39 Tijd: 1432   VL-P</td>\n",
       "      <td>515.0</td>\n",
       "      <td>10527838.0</td>\n",
       "      <td>WISSEL</td>\n",
       "      <td>...</td>\n",
       "      <td>20/01/2006</td>\n",
       "      <td>14:47:00</td>\n",
       "      <td>15.0</td>\n",
       "      <td>23/01/2006</td>\n",
       "      <td>11:39:00</td>\n",
       "      <td>Geen SMC-melding.</td>\n",
       "      <td>NaN</td>\n",
       "      <td>NaN</td>\n",
       "      <td>Vga</td>\n",
       "      <td>NaN</td>\n",
       "    </tr>\n",
       "    <tr>\n",
       "      <th>226</th>\n",
       "      <td>229</td>\n",
       "      <td>50053628</td>\n",
       "      <td>250.0</td>\n",
       "      <td>ZL</td>\n",
       "      <td>24/01/2006 20:20:00</td>\n",
       "      <td>Logboeknr  RBV  :  250 Tijd: 2020   VL-Post: ...</td>\n",
       "      <td>Logboeknr  RBV  :  250 Tijd: 2020   VL-P</td>\n",
       "      <td>25.0</td>\n",
       "      <td>10211614.0</td>\n",
       "      <td>OVERWEG</td>\n",
       "      <td>...</td>\n",
       "      <td>24/01/2006</td>\n",
       "      <td>20:30:00</td>\n",
       "      <td>10.0</td>\n",
       "      <td>24/01/2006</td>\n",
       "      <td>20:30:00</td>\n",
       "      <td>NaN</td>\n",
       "      <td>NaN</td>\n",
       "      <td>NaN</td>\n",
       "      <td>AMRI</td>\n",
       "      <td>NaN</td>\n",
       "    </tr>\n",
       "    <tr>\n",
       "      <th>240</th>\n",
       "      <td>243</td>\n",
       "      <td>50053652</td>\n",
       "      <td>42.0</td>\n",
       "      <td>RSD</td>\n",
       "      <td>25/01/2006 09:30:00</td>\n",
       "      <td>Logboeknr  RBV  :   42 Tijd: 0930   VL-Post: ...</td>\n",
       "      <td>Logboeknr  RBV  :   42 Tijd: 0930   VL-P</td>\n",
       "      <td>127.0</td>\n",
       "      <td>10621371.0</td>\n",
       "      <td>DETECTREIN</td>\n",
       "      <td>...</td>\n",
       "      <td>25/01/2006</td>\n",
       "      <td>09:44:00</td>\n",
       "      <td>14.0</td>\n",
       "      <td>30/01/2006</td>\n",
       "      <td>11:21:00</td>\n",
       "      <td>Geen SMC-melding.Geen onderzoek geweest.</td>\n",
       "      <td>NaN</td>\n",
       "      <td>NaN</td>\n",
       "      <td>Arn</td>\n",
       "      <td>NaN</td>\n",
       "    </tr>\n",
       "    <tr>\n",
       "      <th>...</th>\n",
       "      <td>...</td>\n",
       "      <td>...</td>\n",
       "      <td>...</td>\n",
       "      <td>...</td>\n",
       "      <td>...</td>\n",
       "      <td>...</td>\n",
       "      <td>...</td>\n",
       "      <td>...</td>\n",
       "      <td>...</td>\n",
       "      <td>...</td>\n",
       "      <td>...</td>\n",
       "      <td>...</td>\n",
       "      <td>...</td>\n",
       "      <td>...</td>\n",
       "      <td>...</td>\n",
       "      <td>...</td>\n",
       "      <td>...</td>\n",
       "      <td>...</td>\n",
       "      <td>...</td>\n",
       "      <td>...</td>\n",
       "      <td>...</td>\n",
       "    </tr>\n",
       "    <tr>\n",
       "      <th>898413</th>\n",
       "      <td>908517</td>\n",
       "      <td>99003207</td>\n",
       "      <td>3669429.0</td>\n",
       "      <td>MT</td>\n",
       "      <td>21/05/2016 13:17:56</td>\n",
       "      <td>[2+] Mtr-Edng : Sp-Sb/TB t.o.b.s. alle ovw'en ...</td>\n",
       "      <td>[2+] Mtr-Edng : Sp-Sb/TB t.o.b.s. alle o</td>\n",
       "      <td>71.0</td>\n",
       "      <td>10621358.0</td>\n",
       "      <td>DETECTREIN</td>\n",
       "      <td>...</td>\n",
       "      <td>21/05/2016</td>\n",
       "      <td>14:35:00</td>\n",
       "      <td>175.0</td>\n",
       "      <td>21/05/2016</td>\n",
       "      <td>14:50:00</td>\n",
       "      <td>Gestoord object: SECTIE 913AT. Gestoord</td>\n",
       "      <td>MTR</td>\n",
       "      <td>NaN</td>\n",
       "      <td>MTR</td>\n",
       "      <td>EDN</td>\n",
       "    </tr>\n",
       "    <tr>\n",
       "      <th>898472</th>\n",
       "      <td>908576</td>\n",
       "      <td>99003486</td>\n",
       "      <td>1995699.0</td>\n",
       "      <td>RTD</td>\n",
       "      <td>10/05/2013 17:54:00</td>\n",
       "      <td>Brd : deuren buis 2, 3, 4 en open tijdens tre...</td>\n",
       "      <td>Brd : deuren buis 2, 3, 4 en open tijden</td>\n",
       "      <td>116.0</td>\n",
       "      <td>10590754.0</td>\n",
       "      <td>TUNCONSTR</td>\n",
       "      <td>...</td>\n",
       "      <td>10/05/2013</td>\n",
       "      <td>19:38:00</td>\n",
       "      <td>104.0</td>\n",
       "      <td>10/05/2013</td>\n",
       "      <td>20:40:00</td>\n",
       "      <td>NaN</td>\n",
       "      <td>RTST</td>\n",
       "      <td>NaN</td>\n",
       "      <td>RTST</td>\n",
       "      <td>RLB</td>\n",
       "    </tr>\n",
       "    <tr>\n",
       "      <th>898473</th>\n",
       "      <td>908577</td>\n",
       "      <td>99003486</td>\n",
       "      <td>1995699.0</td>\n",
       "      <td>RTD</td>\n",
       "      <td>10/05/2013 17:54:00</td>\n",
       "      <td>Brd : deuren buis 2, 3, 4 en open tijdens tre...</td>\n",
       "      <td>Brd : deuren buis 2, 3, 4 en open tijden</td>\n",
       "      <td>116.0</td>\n",
       "      <td>10590754.0</td>\n",
       "      <td>TUNCONSTR</td>\n",
       "      <td>...</td>\n",
       "      <td>10/05/2013</td>\n",
       "      <td>19:38:00</td>\n",
       "      <td>104.0</td>\n",
       "      <td>10/05/2013</td>\n",
       "      <td>20:40:00</td>\n",
       "      <td>NaN</td>\n",
       "      <td>RTST</td>\n",
       "      <td>NaN</td>\n",
       "      <td>RTST</td>\n",
       "      <td>RLB</td>\n",
       "    </tr>\n",
       "    <tr>\n",
       "      <th>898474</th>\n",
       "      <td>908578</td>\n",
       "      <td>99003486</td>\n",
       "      <td>1995699.0</td>\n",
       "      <td>RTD</td>\n",
       "      <td>10/05/2013 17:54:00</td>\n",
       "      <td>Brd TTI: deuren buis 2, 3, 4 en open tijdens ...</td>\n",
       "      <td>Brd TTI: deuren buis 2, 3, 4 en open tij</td>\n",
       "      <td>116.0</td>\n",
       "      <td>10590754.0</td>\n",
       "      <td>TUNCONSTR</td>\n",
       "      <td>...</td>\n",
       "      <td>10/05/2013</td>\n",
       "      <td>19:38:00</td>\n",
       "      <td>104.0</td>\n",
       "      <td>10/05/2013</td>\n",
       "      <td>20:40:00</td>\n",
       "      <td>NaN</td>\n",
       "      <td>RTST</td>\n",
       "      <td>NaN</td>\n",
       "      <td>RTST</td>\n",
       "      <td>RLB</td>\n",
       "    </tr>\n",
       "    <tr>\n",
       "      <th>898475</th>\n",
       "      <td>908579</td>\n",
       "      <td>99003486</td>\n",
       "      <td>1995699.0</td>\n",
       "      <td>RTD</td>\n",
       "      <td>10/05/2013 17:54:00</td>\n",
       "      <td>Brd TTI: deuren buis 2, 3, 4 en open tijdens ...</td>\n",
       "      <td>Brd TTI: deuren buis 2, 3, 4 en open tij</td>\n",
       "      <td>116.0</td>\n",
       "      <td>10590754.0</td>\n",
       "      <td>TUNCONSTR</td>\n",
       "      <td>...</td>\n",
       "      <td>10/05/2013</td>\n",
       "      <td>19:38:00</td>\n",
       "      <td>104.0</td>\n",
       "      <td>10/05/2013</td>\n",
       "      <td>20:40:00</td>\n",
       "      <td>Status gewijzigd van Concept naar Compl</td>\n",
       "      <td>NaN</td>\n",
       "      <td>RTST</td>\n",
       "      <td>RLB</td>\n",
       "      <td>00/00/0000</td>\n",
       "    </tr>\n",
       "  </tbody>\n",
       "</table>\n",
       "<p>132923 rows × 60 columns</p>\n",
       "</div>"
      ],
      "text/plain": [
       "       Unnamed: 0  #stm_sap_meldnr  stm_mon_nr stm_vl_post  \\\n",
       "85             87         50053389        37.0         EHV   \n",
       "123           125         50053438        62.0          AH   \n",
       "205           208         50053591        39.0         EHV   \n",
       "226           229         50053628       250.0          ZL   \n",
       "240           243         50053652        42.0         RSD   \n",
       "...           ...              ...         ...         ...   \n",
       "898413     908517         99003207   3669429.0          MT   \n",
       "898472     908576         99003486   1995699.0         RTD   \n",
       "898473     908577         99003486   1995699.0         RTD   \n",
       "898474     908578         99003486   1995699.0         RTD   \n",
       "898475     908579         99003486   1995699.0         RTD   \n",
       "\n",
       "           stm_sap_meld_ddt  \\\n",
       "85      10/01/2006 16:11:00   \n",
       "123     15/01/2006 23:08:00   \n",
       "205     20/01/2006 14:32:00   \n",
       "226     24/01/2006 20:20:00   \n",
       "240     25/01/2006 09:30:00   \n",
       "...                     ...   \n",
       "898413  21/05/2016 13:17:56   \n",
       "898472  10/05/2013 17:54:00   \n",
       "898473  10/05/2013 17:54:00   \n",
       "898474  10/05/2013 17:54:00   \n",
       "898475  10/05/2013 17:54:00   \n",
       "\n",
       "                                   stm_sap_meldtekst_lang  \\\n",
       "85       Logboeknr  RBV  :   37 Tijd: 1611   VL-Post: ...   \n",
       "123      Logboeknr  RBV  :   62 Tijd: 2308   VL-Post: ...   \n",
       "205      Logboeknr  RBV  :   39 Tijd: 1432   VL-Post: ...   \n",
       "226      Logboeknr  RBV  :  250 Tijd: 2020   VL-Post: ...   \n",
       "240      Logboeknr  RBV  :   42 Tijd: 0930   VL-Post: ...   \n",
       "...                                                   ...   \n",
       "898413  [2+] Mtr-Edng : Sp-Sb/TB t.o.b.s. alle ovw'en ...   \n",
       "898472   Brd : deuren buis 2, 3, 4 en open tijdens tre...   \n",
       "898473   Brd : deuren buis 2, 3, 4 en open tijdens tre...   \n",
       "898474   Brd TTI: deuren buis 2, 3, 4 en open tijdens ...   \n",
       "898475   Brd TTI: deuren buis 2, 3, 4 en open tijdens ...   \n",
       "\n",
       "                               stm_sap_meldtekst stm_geo_mld  \\\n",
       "85      Logboeknr  RBV  :   37 Tijd: 1611   VL-P       618.0   \n",
       "123     Logboeknr  RBV  :   62 Tijd: 2308   VL-P       514.0   \n",
       "205     Logboeknr  RBV  :   39 Tijd: 1432   VL-P       515.0   \n",
       "226     Logboeknr  RBV  :  250 Tijd: 2020   VL-P        25.0   \n",
       "240     Logboeknr  RBV  :   42 Tijd: 0930   VL-P       127.0   \n",
       "...                                          ...         ...   \n",
       "898413  [2+] Mtr-Edng : Sp-Sb/TB t.o.b.s. alle o        71.0   \n",
       "898472  Brd : deuren buis 2, 3, 4 en open tijden       116.0   \n",
       "898473  Brd : deuren buis 2, 3, 4 en open tijden       116.0   \n",
       "898474  Brd TTI: deuren buis 2, 3, 4 en open tij       116.0   \n",
       "898475  Brd TTI: deuren buis 2, 3, 4 en open tij       116.0   \n",
       "\n",
       "        stm_equipm_nr_mld stm_equipm_soort_mld  ...   stm_fh_dd  stm_fh_tijd  \\\n",
       "85             10646141.0           SYSTBOVENL  ...  10/01/2006     16:31:00   \n",
       "123            10201441.0               WISSEL  ...  15/01/2006     23:20:00   \n",
       "205            10527838.0               WISSEL  ...  20/01/2006     14:47:00   \n",
       "226            10211614.0              OVERWEG  ...  24/01/2006     20:30:00   \n",
       "240            10621371.0           DETECTREIN  ...  25/01/2006     09:44:00   \n",
       "...                   ...                  ...  ...         ...          ...   \n",
       "898413         10621358.0           DETECTREIN  ...  21/05/2016     14:35:00   \n",
       "898472         10590754.0            TUNCONSTR  ...  10/05/2013     19:38:00   \n",
       "898473         10590754.0            TUNCONSTR  ...  10/05/2013     19:38:00   \n",
       "898474         10590754.0            TUNCONSTR  ...  10/05/2013     19:38:00   \n",
       "898475         10590754.0            TUNCONSTR  ...  10/05/2013     19:38:00   \n",
       "\n",
       "        stm_fh_duur  stm_sap_storeinddatum stm_sap_storeindtijd  \\\n",
       "85             20.0             11/01/2006             10:33:00   \n",
       "123            12.0             15/01/2006             23:20:00   \n",
       "205            15.0             23/01/2006             11:39:00   \n",
       "226            10.0             24/01/2006             20:30:00   \n",
       "240            14.0             30/01/2006             11:21:00   \n",
       "...             ...                    ...                  ...   \n",
       "898413        175.0             21/05/2016             14:50:00   \n",
       "898472        104.0             10/05/2013             20:40:00   \n",
       "898473        104.0             10/05/2013             20:40:00   \n",
       "898474        104.0             10/05/2013             20:40:00   \n",
       "898475        104.0             10/05/2013             20:40:00   \n",
       "\n",
       "                             stm_oorz_tekst_kort stm_pplg_van  stm_pplg_naar  \\\n",
       "85      Geen SMC-melding. Afwijzing. Bij het SMC          NaN            NaN   \n",
       "123                                          NaN          NaN            NaN   \n",
       "205                            Geen SMC-melding.          NaN            NaN   \n",
       "226                                          NaN          NaN            NaN   \n",
       "240     Geen SMC-melding.Geen onderzoek geweest.          NaN            NaN   \n",
       "...                                          ...          ...            ...   \n",
       "898413   Gestoord object: SECTIE 913AT. Gestoord          MTR            NaN   \n",
       "898472                                       NaN         RTST            NaN   \n",
       "898473                                       NaN         RTST            NaN   \n",
       "898474                                       NaN         RTST            NaN   \n",
       "898475   Status gewijzigd van Concept naar Compl          NaN           RTST   \n",
       "\n",
       "       stm_dstrglp_van stm_dstrglp_naar  \n",
       "85                 EHV              NaN  \n",
       "123                 Nm              NaN  \n",
       "205                Vga              NaN  \n",
       "226               AMRI              NaN  \n",
       "240                Arn              NaN  \n",
       "...                ...              ...  \n",
       "898413             MTR              EDN  \n",
       "898472            RTST              RLB  \n",
       "898473            RTST              RLB  \n",
       "898474            RTST              RLB  \n",
       "898475             RLB       00/00/0000  \n",
       "\n",
       "[132923 rows x 60 columns]"
      ]
     },
     "execution_count": 6,
     "metadata": {},
     "output_type": "execute_result"
    }
   ],
   "source": [
    "# Verwijder de rijen die geen value bevatten in de benodigde kolommen\n",
    "df_filtered = drop_rows_with_null(['stm_geo_mld', 'stm_sap_melddatum', 'stm_oorz_code', 'stm_sap_meldtijd',\n",
    "                          'stm_fh_dd', 'stm_fh_tijd', 'stm_sap_storeinddatum', 'stm_sap_storeindtijd',\n",
    "                          'stm_fh_duur', 'stm_vl_post', 'stm_contractgeb_mld'], df)\n",
    "print(len(df))\n",
    "print(len(df_filtered))\n",
    "df_filtered"
   ]
  },
  {
   "cell_type": "markdown",
   "metadata": {},
   "source": [
    "# Data preparation:"
   ]
  },
  {
   "cell_type": "code",
   "execution_count": 7,
   "metadata": {},
   "outputs": [],
   "source": [
    "df_filtered['stm_sap_meld_ddt'] = df_filtered['stm_sap_meld_ddt'].apply(pd.to_datetime) # maakt het type: datetime"
   ]
  },
  {
   "cell_type": "code",
   "execution_count": 8,
   "metadata": {},
   "outputs": [],
   "source": [
    "df_year = pd.DataFrame(df_filtered['stm_sap_meld_ddt'].dt.year)\n",
    "df_filtered.insert(5, 'Jaar', df_year) # zet het jaar los in de tabel"
   ]
  },
  {
   "cell_type": "code",
   "execution_count": 9,
   "metadata": {},
   "outputs": [],
   "source": [
    "df_day = pd.DataFrame(df_filtered['stm_sap_meld_ddt'].dt.dayofyear)\n",
    "df_filtered.insert(6, 'Dag_van_jaar', df_day) # zet de dag count van het jaar los in de tabel (1-365)"
   ]
  },
  {
   "cell_type": "code",
   "execution_count": 10,
   "metadata": {},
   "outputs": [],
   "source": [
    "df_hour = pd.DataFrame(df_filtered['stm_sap_meld_ddt'].dt.hour)\n",
    "df_filtered.insert(7, 'Uur_van_dag', df_hour) # zet het uur van de dag los in de tabel (0-23)"
   ]
  },
  {
   "cell_type": "code",
   "execution_count": 11,
   "metadata": {},
   "outputs": [],
   "source": [
    "df_min = pd.DataFrame(df_filtered['stm_sap_meld_ddt'].dt.minute)\n",
    "df_filtered.insert(8, 'Minuut_van_uur', df_min) # zet de minuten van het uur los in de tabel (0-59)"
   ]
  },
  {
   "cell_type": "code",
   "execution_count": 12,
   "metadata": {},
   "outputs": [],
   "source": [
    "df_hour_min = (df_filtered['Uur_van_dag'] * 60) + df_filtered['Minuut_van_uur']\n",
    "df_filtered.insert(9, 'Minuut_van_dag', df_hour_min) # zet de minuut van de dag in een tabel (0-1440)"
   ]
  },
  {
   "cell_type": "code",
   "execution_count": 13,
   "metadata": {},
   "outputs": [],
   "source": [
    "# hoger dan 5 minuten,als het onder de 5 minuten zit is er een goede kans dat het een fout was.\n",
    "df_filtered = (df_filtered.loc[(df_filtered['stm_fh_duur'] > 5) & (df_filtered['stm_fh_duur'] < 360)])\n",
    "df_filtered = (df_filtered[(df_filtered['stm_km_van_mld'] < 500)]) # minder dan 500 km omdat het anders onrealistisch grote \n",
    "# afstanden worden voor Nederland."
   ]
  },
  {
   "cell_type": "code",
   "execution_count": null,
   "metadata": {},
   "outputs": [],
   "source": []
  },
  {
   "cell_type": "code",
   "execution_count": 14,
   "metadata": {},
   "outputs": [],
   "source": [
    "# minuut van de dag dat de aannemer ter plekken is gekomen lijst gemaakt en in dataset gezet.\n",
    "df_filtered['stm_aanntpl_tijd'] = df_filtered['stm_aanntpl_tijd'].apply(pd.to_datetime)\n",
    "df_hour = pd.DataFrame(df_filtered['stm_aanntpl_tijd'].dt.hour)\n",
    "df_filtered.insert(0, 'Uur_herstel', df_hour)\n",
    "df_min = pd.DataFrame(df_filtered['stm_aanntpl_tijd'].dt.minute)\n",
    "df_filtered.insert(1, 'Min_van_uur_herstel', df_min)\n",
    "df_min_of_day_herstel = (df_filtered['Uur_herstel'] * 60) + df_filtered['Min_van_uur_herstel']\n",
    "df_filtered.insert(2, 'Minuut_van_dag_herstel', df_min_of_day_herstel)\n",
    "# Eigenlijk precies hetzelfde als hier boven maar dan in 1 cel"
   ]
  },
  {
   "cell_type": "code",
   "execution_count": 15,
   "metadata": {},
   "outputs": [],
   "source": [
    "# minuut van de dag dat de aannemer klaar is lijst gemaakt en in dataset gezet.\n",
    "df_filtered['stm_fh_ddt'] = df_filtered['stm_fh_ddt'].apply(pd.to_datetime)\n",
    "df_hour2 = pd.DataFrame(df_filtered['stm_fh_ddt'].dt.hour)\n",
    "df_filtered.insert(3, 'Uur_hersteld', df_hour2)\n",
    "df_min2 = pd.DataFrame(df_filtered['stm_fh_ddt'].dt.minute)\n",
    "df_filtered.insert(4, 'Min_van_uur_hersteld', df_min2)\n",
    "df_min_of_day_herstel2 = (df_filtered['Uur_hersteld'] * 60) + df_filtered['Min_van_uur_hersteld']\n",
    "df_filtered.insert(5, 'Minuut_van_dag_hersteld', df_min_of_day_herstel2)\n",
    "# Eigenlijk precies hetzelfde als hier boven maar dan in 1 cel"
   ]
  },
  {
   "cell_type": "code",
   "execution_count": 16,
   "metadata": {},
   "outputs": [],
   "source": [
    "Echte_herstel_tijd = df_filtered['Minuut_van_dag_hersteld'] - df_filtered['Minuut_van_dag_herstel']\n",
    "df_filtered.insert(6, 'Echte_hersteltijd', Echte_herstel_tijd)\n",
    "# berekent het verschil tussen de minuten van de dag (dus het berekent eigenlijk de reparatie tijd, \n",
    "# van aankomst aannemer tot gefixt)"
   ]
  },
  {
   "cell_type": "code",
   "execution_count": 45,
   "metadata": {},
   "outputs": [],
   "source": [
    "# hoger dan 5 minuten,als het onder de 5 minuten zit is er een goede kans dat het een fout was.\n",
    "df_filtered = (df_filtered.loc[(df_filtered['Echte_hersteltijd'] > 5) & (df_filtered['Echte_hersteltijd'] < 360)])"
   ]
  },
  {
   "cell_type": "markdown",
   "metadata": {},
   "source": [
    "# Baseline\n",
    "Target variabele is 'stm_fh_duur'. Dit is de functie hersteltijd dit houd in dat vanaf de melding tot dat het probleem opgelost is getimed wordt. \n",
    "\n",
    "baseline:  "
   ]
  },
  {
   "cell_type": "code",
   "execution_count": 18,
   "metadata": {},
   "outputs": [
    {
     "data": {
      "text/plain": [
       "351        27\n",
       "353       288\n",
       "609       260\n",
       "664         6\n",
       "669       110\n",
       "         ... \n",
       "898208     15\n",
       "898410     40\n",
       "898411     40\n",
       "898412     40\n",
       "898413     40\n",
       "Name: Echte_hersteltijd, Length: 21429, dtype: int64"
      ]
     },
     "execution_count": 18,
     "metadata": {},
     "output_type": "execute_result"
    }
   ],
   "source": [
    "# De target variabele filteren tussen de 0 min en 360 min. Prodcut ower gaf dit als grens aan. \n",
    "#data_fht = df_filtered['stm_fh_duur'].loc[(df_filtered['stm_fh_duur'] > 0) & (df_filtered['stm_fh_duur'] < 360)]\n",
    "data_fht = df_filtered['Echte_hersteltijd'].loc[(df_filtered['Echte_hersteltijd'] > 0) & (df_filtered['Echte_hersteltijd'] < 360)]\n",
    "data_fht"
   ]
  },
  {
   "cell_type": "code",
   "execution_count": 19,
   "metadata": {},
   "outputs": [
    {
     "data": {
      "text/plain": [
       "count    21429.000000\n",
       "mean        63.454338\n",
       "std         57.675521\n",
       "min          6.000000\n",
       "25%         24.000000\n",
       "50%         45.000000\n",
       "75%         82.000000\n",
       "max        350.000000\n",
       "Name: Echte_hersteltijd, dtype: float64"
      ]
     },
     "execution_count": 19,
     "metadata": {},
     "output_type": "execute_result"
    }
   ],
   "source": [
    "data_fht.describe()"
   ]
  },
  {
   "cell_type": "code",
   "execution_count": 20,
   "metadata": {},
   "outputs": [
    {
     "data": {
      "text/plain": [
       "63.45433757991507"
      ]
     },
     "execution_count": 20,
     "metadata": {},
     "output_type": "execute_result"
    }
   ],
   "source": [
    "data_fht.mean()"
   ]
  },
  {
   "cell_type": "code",
   "execution_count": 21,
   "metadata": {},
   "outputs": [
    {
     "data": {
      "text/plain": [
       "45.0"
      ]
     },
     "execution_count": 21,
     "metadata": {},
     "output_type": "execute_result"
    }
   ],
   "source": [
    "data_fht.median()"
   ]
  },
  {
   "cell_type": "code",
   "execution_count": 22,
   "metadata": {},
   "outputs": [
    {
     "data": {
      "text/plain": [
       "<AxesSubplot:>"
      ]
     },
     "execution_count": 22,
     "metadata": {},
     "output_type": "execute_result"
    },
    {
     "data": {
      "image/png": "[encoded data removed]",
      "text/plain": [
       "<Figure size 1152x576 with 1 Axes>"
      ]
     },
     "metadata": {
      "needs_background": "light"
     },
     "output_type": "display_data"
    }
   ],
   "source": [
    "data_fht.plot.box(figsize=(16,8))"
   ]
  },
  {
   "cell_type": "code",
   "execution_count": 23,
   "metadata": {},
   "outputs": [
    {
     "data": {
      "text/plain": [
       "13974"
      ]
     },
     "execution_count": 23,
     "metadata": {},
     "output_type": "execute_result"
    }
   ],
   "source": [
    "len(data_fht[data_fht < data_fht.mean()])"
   ]
  },
  {
   "cell_type": "code",
   "execution_count": 24,
   "metadata": {},
   "outputs": [
    {
     "data": {
      "text/plain": [
       "65.21069578608429"
      ]
     },
     "execution_count": 24,
     "metadata": {},
     "output_type": "execute_result"
    }
   ],
   "source": [
    "len(data_fht[data_fht < data_fht.mean()])/len(data_fht)*100"
   ]
  },
  {
   "cell_type": "code",
   "execution_count": 25,
   "metadata": {},
   "outputs": [
    {
     "data": {
      "text/plain": [
       "48.52769611274441"
      ]
     },
     "execution_count": 25,
     "metadata": {},
     "output_type": "execute_result"
    }
   ],
   "source": [
    "len(data_fht[data_fht < data_fht.median()])/len(data_fht)*100"
   ]
  },
  {
   "cell_type": "markdown",
   "metadata": {},
   "source": [
    "65% van alle herstel tijden zit onder het gemiddelde 102 min\n",
    "\n",
    "48% van alle herstel tijden zit onder de mediaan 82 min\n",
    "\n"
   ]
  },
  {
   "cell_type": "code",
   "execution_count": 26,
   "metadata": {},
   "outputs": [
    {
     "data": {
      "text/html": [
       "<div>\n",
       "<style scoped>\n",
       "    .dataframe tbody tr th:only-of-type {\n",
       "        vertical-align: middle;\n",
       "    }\n",
       "\n",
       "    .dataframe tbody tr th {\n",
       "        vertical-align: top;\n",
       "    }\n",
       "\n",
       "    .dataframe thead th {\n",
       "        text-align: right;\n",
       "    }\n",
       "</style>\n",
       "<table border=\"1\" class=\"dataframe\">\n",
       "  <thead>\n",
       "    <tr style=\"text-align: right;\">\n",
       "      <th></th>\n",
       "      <th>Echte_hersteltijd</th>\n",
       "      <th>mediaan</th>\n",
       "      <th>mean</th>\n",
       "    </tr>\n",
       "  </thead>\n",
       "  <tbody>\n",
       "    <tr>\n",
       "      <th>351</th>\n",
       "      <td>27</td>\n",
       "      <td>45.0</td>\n",
       "      <td>63.454338</td>\n",
       "    </tr>\n",
       "    <tr>\n",
       "      <th>353</th>\n",
       "      <td>288</td>\n",
       "      <td>45.0</td>\n",
       "      <td>63.454338</td>\n",
       "    </tr>\n",
       "    <tr>\n",
       "      <th>609</th>\n",
       "      <td>260</td>\n",
       "      <td>45.0</td>\n",
       "      <td>63.454338</td>\n",
       "    </tr>\n",
       "    <tr>\n",
       "      <th>664</th>\n",
       "      <td>6</td>\n",
       "      <td>45.0</td>\n",
       "      <td>63.454338</td>\n",
       "    </tr>\n",
       "    <tr>\n",
       "      <th>669</th>\n",
       "      <td>110</td>\n",
       "      <td>45.0</td>\n",
       "      <td>63.454338</td>\n",
       "    </tr>\n",
       "  </tbody>\n",
       "</table>\n",
       "</div>"
      ],
      "text/plain": [
       "     Echte_hersteltijd  mediaan       mean\n",
       "351                 27     45.0  63.454338\n",
       "353                288     45.0  63.454338\n",
       "609                260     45.0  63.454338\n",
       "664                  6     45.0  63.454338\n",
       "669                110     45.0  63.454338"
      ]
     },
     "execution_count": 26,
     "metadata": {},
     "output_type": "execute_result"
    }
   ],
   "source": [
    "data_fht = data_fht.to_frame()\n",
    "#data_fht['mediaan'] = data_fht['stm_fh_duur'].median()\n",
    "data_fht['mediaan'] = data_fht['Echte_hersteltijd'].median()\n",
    "#data_fht['mean'] = data_fht['stm_fh_duur'].mean()\n",
    "data_fht['mean'] = data_fht['Echte_hersteltijd'].mean()\n",
    "data_fht.head()"
   ]
  },
  {
   "cell_type": "code",
   "execution_count": 27,
   "metadata": {},
   "outputs": [
    {
     "data": {
      "text/plain": [
       "57.674175679913716"
      ]
     },
     "execution_count": 27,
     "metadata": {},
     "output_type": "execute_result"
    }
   ],
   "source": [
    "# de score bepalen aan de hand van de RSME\n",
    "#np.sqrt(mean_squared_error(data_fht.loc[:,'stm_fh_duur'],data_fht.loc[:,'mean']))\n",
    "np.sqrt(mean_squared_error(data_fht.loc[:,'Echte_hersteltijd'],data_fht.loc[:,'mean']))"
   ]
  },
  {
   "cell_type": "code",
   "execution_count": 28,
   "metadata": {},
   "outputs": [
    {
     "data": {
      "text/plain": [
       "60.554711756154994"
      ]
     },
     "execution_count": 28,
     "metadata": {},
     "output_type": "execute_result"
    }
   ],
   "source": [
    "#de score bepalen aan de hand van de RSME\n",
    "#np.sqrt(mean_squared_error(data_fht.loc[:,'stm_fh_duur'],data_fht.loc[:,'mediaan']))\n",
    "np.sqrt(mean_squared_error(data_fht.loc[:,'Echte_hersteltijd'],data_fht.loc[:,'mediaan']))"
   ]
  },
  {
   "cell_type": "markdown",
   "metadata": {},
   "source": [
    "# KNeighborsregression"
   ]
  },
  {
   "cell_type": "code",
   "execution_count": 29,
   "metadata": {},
   "outputs": [],
   "source": [
    "X = df_filtered[['stm_km_van_mld', 'stm_prioriteit', 'Dag_van_jaar', 'Jaar', 'Minuut_van_dag']]\n",
    "#y = df_filtered[['stm_fh_duur']] # oude niet 'echte' hersteltijd.\n",
    "y = df_filtered[['Echte_hersteltijd']]"
   ]
  },
  {
   "cell_type": "code",
   "execution_count": 30,
   "metadata": {},
   "outputs": [],
   "source": [
    "from sklearn.model_selection import train_test_split\n",
    "\n",
    "X_train, X_test, y_train, y_test = train_test_split(X, y, test_size=0.1, random_state=None)"
   ]
  },
  {
   "cell_type": "code",
   "execution_count": 31,
   "metadata": {},
   "outputs": [
    {
     "data": {
      "text/plain": [
       "KNeighborsClassifier()"
      ]
     },
     "execution_count": 31,
     "metadata": {},
     "output_type": "execute_result"
    }
   ],
   "source": [
    "from sklearn.neighbors import KNeighborsClassifier\n",
    "\n",
    "clf = KNeighborsClassifier()\n",
    "\n",
    "clf"
   ]
  },
  {
   "cell_type": "code",
   "execution_count": 32,
   "metadata": {},
   "outputs": [
    {
     "name": "stderr",
     "output_type": "stream",
     "text": [
      "<ipython-input-32-4f66baab8f93>:1: DataConversionWarning: A column-vector y was passed when a 1d array was expected. Please change the shape of y to (n_samples, ), for example using ravel().\n",
      "  clf.fit(X_train, y_train)\n"
     ]
    },
    {
     "data": {
      "text/plain": [
       "KNeighborsClassifier()"
      ]
     },
     "execution_count": 32,
     "metadata": {},
     "output_type": "execute_result"
    }
   ],
   "source": [
    "clf.fit(X_train, y_train)"
   ]
  },
  {
   "cell_type": "code",
   "execution_count": 33,
   "metadata": {},
   "outputs": [],
   "source": [
    "y_pred_train = clf.predict(X_train)\n",
    "\n",
    "y_pred_test = clf.predict(X_test)"
   ]
  },
  {
   "cell_type": "code",
   "execution_count": 34,
   "metadata": {},
   "outputs": [
    {
     "name": "stdout",
     "output_type": "stream",
     "text": [
      "Accuracy traindata\n",
      "0.465570880431401\n",
      "\n",
      "Accuracy testdata\n",
      "0.24498366775548297\n"
     ]
    }
   ],
   "source": [
    "from sklearn.metrics import accuracy_score\n",
    "\n",
    "print('Accuracy traindata')\n",
    "print(accuracy_score(y_train, y_pred_train))\n",
    "\n",
    "print('')\n",
    "print('Accuracy testdata')\n",
    "print(accuracy_score(y_test, y_pred_test))"
   ]
  },
  {
   "cell_type": "code",
   "execution_count": 35,
   "metadata": {},
   "outputs": [
    {
     "name": "stdout",
     "output_type": "stream",
     "text": [
      "66.7301836166086\n"
     ]
    }
   ],
   "source": [
    "y_pred_test_KN = clf.predict(X_test)\n",
    "\n",
    "error_metric_KN = np.sqrt(mean_squared_error(y_pred=y_pred_test, y_true=y_test))\n",
    "print(error_metric_KN)"
   ]
  },
  {
   "cell_type": "code",
   "execution_count": 36,
   "metadata": {},
   "outputs": [
    {
     "data": {
      "text/plain": [
       "count    21429.000000\n",
       "mean         7.032153\n",
       "std         46.864075\n",
       "min          0.000000\n",
       "25%          0.000000\n",
       "50%          0.000000\n",
       "75%          0.000000\n",
       "max        498.000000\n",
       "Name: stm_km_van_mld, dtype: float64"
      ]
     },
     "execution_count": 36,
     "metadata": {},
     "output_type": "execute_result"
    }
   ],
   "source": [
    "df_filtered['stm_km_van_mld'].describe()"
   ]
  },
  {
   "cell_type": "markdown",
   "metadata": {},
   "source": [
    "# linear regression "
   ]
  },
  {
   "cell_type": "code",
   "execution_count": 37,
   "metadata": {},
   "outputs": [],
   "source": [
    "X = df_filtered[['stm_km_van_mld', 'stm_prioriteit', 'Dag_van_jaar', 'Jaar', 'Minuut_van_dag']]\n",
    "#y = df_filtered[['stm_fh_duur']]\n",
    "y= df_filtered[['Echte_hersteltijd']]"
   ]
  },
  {
   "cell_type": "code",
   "execution_count": 38,
   "metadata": {},
   "outputs": [],
   "source": [
    "# de data splitsen in training en testing data\n",
    "from sklearn.model_selection import train_test_split\n",
    "# test_size\n",
    "X_train, X_test, y_train,y_test = train_test_split(X,y, test_size=0.1, random_state=None) "
   ]
  },
  {
   "cell_type": "code",
   "execution_count": 39,
   "metadata": {},
   "outputs": [],
   "source": [
    "from sklearn.linear_model import LinearRegression"
   ]
  },
  {
   "cell_type": "code",
   "execution_count": 40,
   "metadata": {},
   "outputs": [],
   "source": [
    "linear_reg_model = LinearRegression()"
   ]
  },
  {
   "cell_type": "code",
   "execution_count": 41,
   "metadata": {},
   "outputs": [
    {
     "data": {
      "text/plain": [
       "LinearRegression()"
      ]
     },
     "execution_count": 41,
     "metadata": {},
     "output_type": "execute_result"
    }
   ],
   "source": [
    "linear_reg_model.fit(X_train, y_train)"
   ]
  },
  {
   "cell_type": "code",
   "execution_count": 42,
   "metadata": {},
   "outputs": [
    {
     "name": "stdout",
     "output_type": "stream",
     "text": [
      "59.114044473110205\n"
     ]
    }
   ],
   "source": [
    "from sklearn.metrics import mean_squared_error\n",
    "\n",
    "y_pred_test = linear_reg_model.predict(X_test)\n",
    "\n",
    "error_metric = np.sqrt(mean_squared_error(y_pred=y_pred_test, y_true=y_test))\n",
    "print(error_metric)"
   ]
  },
  {
   "cell_type": "code",
   "execution_count": 43,
   "metadata": {},
   "outputs": [
    {
     "data": {
      "text/plain": [
       "Text(0.5, 1.0, 'voorspelling tegen over daadwerkelijke data')"
      ]
     },
     "execution_count": 43,
     "metadata": {},
     "output_type": "execute_result"
    },
    {
     "data": {
      "image/png": "[encoded data removed]",
      "text/plain": [
       "<Figure size 432x288 with 1 Axes>"
      ]
     },
     "metadata": {
      "needs_background": "light"
     },
     "output_type": "display_data"
    }
   ],
   "source": [
    "# model plotten en lineare regressie er in verwerken\n",
    "fig, ax = plt.subplots()\n",
    "ax.scatter(y_test, y_pred_test)\n",
    "ax.plot(y_test, y_test, color='red')\n",
    "ax.set_xlabel('testing')\n",
    "ax.set_ylabel('predicting')\n",
    "ax.set_title('voorspelling tegen over daadwerkelijke data')"
   ]
  },
  {
   "cell_type": "code",
   "execution_count": 44,
   "metadata": {},
   "outputs": [
    {
     "data": {
      "text/plain": [
       "array([[65.91454001]])"
      ]
     },
     "execution_count": 44,
     "metadata": {},
     "output_type": "execute_result"
    }
   ],
   "source": [
    "from collections import OrderedDict\n",
    "new_data = OrderedDict([\n",
    "    ('stm_km_van_mld',50),\n",
    "    ('stm_prioriteit',5),\n",
    "    ('Dag_van_jaar',214),\n",
    "    ('Jaar',2020),\n",
    "    ('Minuut_van_dag', 800)\n",
    "])\n",
    "\n",
    "new_data = pd.Series(new_data).values.reshape(1,-1)\n",
    "\n",
    "linear_reg_model.predict(new_data)"
   ]
  },
  {
   "cell_type": "code",
   "execution_count": null,
   "metadata": {},
   "outputs": [],
   "source": []
  }
 ],
 "metadata": {
  "kernelspec": {
   "display_name": "Python 3",
   "language": "python",
   "name": "python3"
  },
  "language_info": {
   "codemirror_mode": {
    "name": "ipython",
    "version": 3
   },
   "file_extension": ".py",
   "mimetype": "text/x-python",
   "name": "python",
   "nbconvert_exporter": "python",
   "pygments_lexer": "ipython3",
   "version": "3.8.0"
  }
 },
 "nbformat": 4,
 "nbformat_minor": 4
}
