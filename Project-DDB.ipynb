{
 "cells": [
  {
   "cell_type": "code",
   "execution_count": 1,
   "metadata": {},
   "outputs": [],
   "source": [
    "import pandas as pd\n",
    "import numpy as np\n",
    "import math\n",
    "import random\n",
    "from matplotlib import pyplot as plt\n",
    "import seaborn as sns\n",
    "from sklearn.metrics import mean_squared_error\n",
    "import datetime"
   ]
  },
  {
   "cell_type": "code",
   "execution_count": 2,
   "metadata": {},
   "outputs": [
    {
     "name": "stdout",
     "output_type": "stream",
     "text": [
      "Done\n"
     ]
    }
   ],
   "source": [
    "filename = \"sap_storing_data_hu_project.csv\" \n",
    "df_not_cleaned = pd.read_csv(filename, low_memory=False)\n",
    "#verwijder alle kolommen die niet van gebruik zijn:\n",
    "df = df_not_cleaned.drop(columns=['stm_sap_mon_meld_ddt', 'stm_mon_begin_ddt', 'stm_mon_toelichting_trdl', 'stm_oh_pg_mld', 'stm_geo_mld_uit_functiepl', 'stm_scenario_mon', 'stm_status_melding_sap', 'stm_mon_nr_status_omschr', 'stm_mon_nr__statuscode', 'stm_mon_nr_status_wijzdd', 'stm_aanntpl_ddt', 'stm_geo_gst_uit_functiepl', 'stm_objectdl_code_gst', 'stm_objectdl_groep_gst', 'stm_progfh_in_ddt', 'stm_progfh_in_invoer_ddt', 'stm_progfh_gw_ddt', 'stm_progfh_gw_lwd_ddt', 'stm_progfh_hz', 'stm_veroorz_groep', 'stm_veroorz_code', 'stm_progfh_gw_duur', 'stm_progfh_gw_lwd_tijd', 'stm_progfh_gw_lwd_datum', 'stm_progfh_gw_datum', 'stm_arbeid', 'stm_functiepl_gst', 'stm_functiepl_mld', 'stm_mon_begintijd', 'stm_mon_begindatum', 'stm_aangelegd_tijd', 'stm_aangelegd_dd', 'stm_dir_betrok_tr', 'stm_evb', 'stm_mon_vhdsincident', 'stm_mon_eind_ddt', 'stm_afspr_aanvangddt', 'stm_effect', 'stm_veroorz_tekst_kort', 'stm_projnr', 'stm_wbi_nummer', 'stm_status_gebr', 'stm_standplaats', 'stm_actie', 'stm_hinderwaarde', 'stm_rec_toegev_ddt', 'stm_afsluit_tijd', 'stm_afsluit_dd', 'stm_afsluit_ddt', 'stm_akkoord_melding_jn', 'stm_fact_jn', 'stm_status_sapnaarmon', 'stm_akkoord_mon_toewijz', 'stm_controle_dd', 'stm_mon_eind_tijd', 'stm_mon_eind_datum', 'stm_reactie_duur', 'stm_afspr_aanvangtijd', 'stm_afspr_aanvangdd', 'stm_historie_toelichting', 'stm_schade_verhaalb_jn', 'stm_x_bron_arch_dt', 'stm_x_bron_bestandsnaam', 'stm_x_bron_publ_dt', 'stm_rapportage_jaar', 'stm_rapportage_maand', 'stm_sorteerveld', 'stm_afspr_func_hersteltijd', 'stm_afspr_func_hersteldd', 'stm_relatiervo', 'stm_relatiervo_volgend', 'stm_relatiervo_vorig', 'stm_schade_statusdatum', 'stm_schade_status_ga', 'stm_schadenr', 'stm_x_start_sessie_dt', 'stm_x_bk', 'stm_x_run_id', 'stm_x_actueel_ind', 'stm_x_vervallen_ind'])\n",
    "print(\"Done\")"
   ]
  },
  {
   "cell_type": "markdown",
   "metadata": {},
   "source": [
    "# Data cleaning:\n",
    "\n",
    "\n",
    "De te bepalen welke variabelen het meest van toepassing zijn om te gebruiken kijken we naar welke\n",
    "kolommen informatie geven over de tijd van de melding, monteur. Tijd wanneer de melding word opgelost.\n",
    "Wat voor melding het is en info over de melding/storing, en de locatie. Zo zijn de volgende kolommen\n",
    "het meest van toepassing:\n",
    "\n",
    "Over soort melding\n",
    "- stm_sap_meldtekst (melding omschrijving)\n",
    "- stm_geo_mld (melding code) - nodig\n",
    "- stm_oorz_code (oorzaak code) - nodig\n",
    "- stm_prioriteit (prioriteit)\n",
    "\n",
    "Over tijd:\n",
    "- stm_sap_melddatum (datump melding) - nodig\n",
    "- stm_sap_meldtijd (tijdstip melding) - nodig\n",
    "- stm_aanngeb_dd (datum aannemer gebeld)\n",
    "- stm_aanngeb_tijd (tijd aannemer gebeld)\n",
    "- stm_aanntpl_dd (datum aannemer op plek)\n",
    "- stm_aanntpl_tijd (tijd aannemer op plek)\n",
    "\n",
    "- stm_fh_dd (Datum van functie herstel) - nodig\n",
    "- stm_fh_tijd (Tijdstip van functieherstel) - nodig\n",
    "- stm_sap_storeinddatum (Datum einde storing) - nodig\n",
    "- stm_sap_storeindtijd (Tijdstip einde storing) - nodig\n",
    "- stm_fh_duur (Duur van functiehersteltijd) - nodig\n",
    "\n",
    "Over equipment:\n",
    "- stm_equipm_nr_mld (equipment)\n",
    "- stm_equipm_omschr_mld (equipment omschrijving)\n",
    "\n",
    "Over locatie\n",
    "- stm_km_van_mld (locatie van)\n",
    "- stm_km_tot_mld (locatie tot)\n",
    "- stm_vl_post (VL post) - nodig\n",
    "- stm_contractgeb_mld(locatie melding) - nodig\n",
    "- stm_pplg_van (PPLG van locatie)\n",
    "- stm_pplg_naar (PPLG tot locatie)\n",
    "- stm_dstrglp_van (Dienstregelpunt van locatie)\n",
    "- stm_dstrglp_naar (Dienstregelpunt tot locatie)\n",
    "\n",
    "Over prognose:\n",
    "- stm_progfh_in_datum (Datum prognose)\n",
    "- stm_progfh_in_tijd (Tijdstip FHT prognose)\n",
    "- stm_progfh_in_invoer_dat (Invoer datum prognose)\n",
    "- stm_progfh_in_invoer_tijd (Invoer tijdstip FHT prognose)\n",
    "- stm_progfh_in_duur (Duur FHT)\n",
    "\n"
   ]
  },
  {
   "cell_type": "code",
   "execution_count": 3,
   "metadata": {
    "scrolled": true
   },
   "outputs": [],
   "source": [
    "#deze functie verwijdert alle rijen waar geen value op de gegeven kolommen zitten\n",
    "def drop_rows_with_null(lst, df):\n",
    "    dfisnull = df.isnull()[lst]\n",
    "    matches = dfisnull[(dfisnull).any(axis=1)]\n",
    "    return df.drop(matches.index)"
   ]
  },
  {
   "cell_type": "code",
   "execution_count": 4,
   "metadata": {},
   "outputs": [],
   "source": [
    "#Deze functie berkent de uitschiet grenzen\n",
    "def uitschieters_bereken(kolom):\n",
    "    q1 = kolom.quantile(0.25)\n",
    "    q3 = kolom.quantile(0.75)\n",
    "    iqr = q3 - q1\n",
    "    maxuitschieter = q3 + (iqr*1.5)\n",
    "    minuitschieter = q1 - (iqr*1.5)\n",
    "    return maxuitschieter, minuitschieter\n",
    "\n",
    "#Deze functie geeft de indexes van uitschieters in een kolom\n",
    "def return_uitschieters_indexes(kolom):\n",
    "    maxuitschieter = uitschieters_bereken(kolom)[0]\n",
    "    minuitschieter = uitschieters_bereken(kolom)[1]\n",
    "    uitschieters = [kolom[kolom > maxuitschieter].index, kolom[kolom < minuitschieter].index]\n",
    "    return uitschieters\n",
    "    \n",
    "#Deze functie geeft een kolom zonder uitschieters\n",
    "def return_kolom_zonder_uitschieters(kolom):\n",
    "    maxuitschieter = uitschieters_bereken(kolom)[0]\n",
    "    minuitschieter = uitschieters_bereken(kolom)[1]\n",
    "    kolom = kolom[kolom < maxuitschieter][kolom > minuitschieter]\n",
    "    return kolom\n"
   ]
  },
  {
   "cell_type": "code",
   "execution_count": 5,
   "metadata": {},
   "outputs": [],
   "source": [
    "#Deze functie berkent de extreme uitschiet grenzen\n",
    "def ex_uitschieters_bereken(kolom):\n",
    "    q1 = kolom.quantile(0.25)\n",
    "    q3 = kolom.quantile(0.75)\n",
    "    iqr = q3 - q1\n",
    "    maxuitschieter = q3 + (iqr*3)\n",
    "    minuitschieter = q1 - (iqr*3)\n",
    "    return maxuitschieter, minuitschieter\n",
    "\n",
    "#Deze functie geeft de indexes van extreme uitschieters in een kolom\n",
    "def return_ex_uitschieters_indexes(kolom):\n",
    "    maxuitschieter = uitschieters_ex_bereken(kolom)[0]\n",
    "    minuitschieter = uitschieters_ex_bereken(kolom)[1]\n",
    "    uitschieters = [kolom[kolom > maxuitschieter].index, kolom[kolom < minuitschieter].index]\n",
    "    return uitschieters\n",
    "    \n",
    "#Deze functie geeft een kolom zonder extreme uitschieters\n",
    "def return_kolom_zonder_ex_uitschieters(kolom):\n",
    "    maxuitschieter = uitschieters_ex_bereken(kolom)[0]\n",
    "    minuitschieter = uitschieters_ex_bereken(kolom)[1]\n",
    "    kolom = kolom[kolom < maxuitschieter][kolom > minuitschieter]\n",
    "    return kolom"
   ]
  },
  {
   "cell_type": "code",
   "execution_count": 6,
   "metadata": {
    "scrolled": true
   },
   "outputs": [
    {
     "name": "stdout",
     "output_type": "stream",
     "text": [
      "898526\n",
      "737230\n"
     ]
    },
    {
     "data": {
      "text/html": [
       "<div>\n",
       "<style scoped>\n",
       "    .dataframe tbody tr th:only-of-type {\n",
       "        vertical-align: middle;\n",
       "    }\n",
       "\n",
       "    .dataframe tbody tr th {\n",
       "        vertical-align: top;\n",
       "    }\n",
       "\n",
       "    .dataframe thead th {\n",
       "        text-align: right;\n",
       "    }\n",
       "</style>\n",
       "<table border=\"1\" class=\"dataframe\">\n",
       "  <thead>\n",
       "    <tr style=\"text-align: right;\">\n",
       "      <th></th>\n",
       "      <th>Unnamed: 0</th>\n",
       "      <th>#stm_sap_meldnr</th>\n",
       "      <th>stm_mon_nr</th>\n",
       "      <th>stm_vl_post</th>\n",
       "      <th>stm_sap_meld_ddt</th>\n",
       "      <th>stm_sap_meldtekst_lang</th>\n",
       "      <th>stm_sap_meldtekst</th>\n",
       "      <th>stm_geo_mld</th>\n",
       "      <th>stm_equipm_nr_mld</th>\n",
       "      <th>stm_equipm_soort_mld</th>\n",
       "      <th>...</th>\n",
       "      <th>stm_fh_dd</th>\n",
       "      <th>stm_fh_tijd</th>\n",
       "      <th>stm_fh_duur</th>\n",
       "      <th>stm_sap_storeinddatum</th>\n",
       "      <th>stm_sap_storeindtijd</th>\n",
       "      <th>stm_oorz_tekst_kort</th>\n",
       "      <th>stm_pplg_van</th>\n",
       "      <th>stm_pplg_naar</th>\n",
       "      <th>stm_dstrglp_van</th>\n",
       "      <th>stm_dstrglp_naar</th>\n",
       "    </tr>\n",
       "  </thead>\n",
       "  <tbody>\n",
       "    <tr>\n",
       "      <th>1</th>\n",
       "      <td>1</td>\n",
       "      <td>50053211</td>\n",
       "      <td>0.0</td>\n",
       "      <td>NaN</td>\n",
       "      <td>02/01/2006 09:00:00</td>\n",
       "      <td>Logboeknr  Geeltje  :   49 Tijd: 0900   VL-Po...</td>\n",
       "      <td>Logboeknr  Geeltje  :   49 Tijd: 0900</td>\n",
       "      <td>624.0</td>\n",
       "      <td>NaN</td>\n",
       "      <td>NaN</td>\n",
       "      <td>...</td>\n",
       "      <td>02/01/2006</td>\n",
       "      <td>09:00:00</td>\n",
       "      <td>0.0</td>\n",
       "      <td>02/01/2006</td>\n",
       "      <td>09:00:00</td>\n",
       "      <td>NaN</td>\n",
       "      <td>NaN</td>\n",
       "      <td>NaN</td>\n",
       "      <td>NaN</td>\n",
       "      <td>NaN</td>\n",
       "    </tr>\n",
       "    <tr>\n",
       "      <th>2</th>\n",
       "      <td>2</td>\n",
       "      <td>50053213</td>\n",
       "      <td>48.0</td>\n",
       "      <td>GN</td>\n",
       "      <td>02/01/2006 12:35:00</td>\n",
       "      <td>Logboeknr  RBV  :   48 Tijd: 1235   VL-Post: ...</td>\n",
       "      <td>Logboeknr  RBV  :   48 Tijd: 1235   VL-P</td>\n",
       "      <td>201.0</td>\n",
       "      <td>NaN</td>\n",
       "      <td>NaN</td>\n",
       "      <td>...</td>\n",
       "      <td>02/01/2006</td>\n",
       "      <td>13:26:00</td>\n",
       "      <td>51.0</td>\n",
       "      <td>02/01/2006</td>\n",
       "      <td>13:26:00</td>\n",
       "      <td>schapen op de spoorbaan!</td>\n",
       "      <td>NaN</td>\n",
       "      <td>NaN</td>\n",
       "      <td>Lp</td>\n",
       "      <td>Apg</td>\n",
       "    </tr>\n",
       "    <tr>\n",
       "      <th>3</th>\n",
       "      <td>3</td>\n",
       "      <td>50053214</td>\n",
       "      <td>72.0</td>\n",
       "      <td>ZL</td>\n",
       "      <td>02/01/2006 16:40:00</td>\n",
       "      <td>Logboeknr  RBV  :   72 Tijd: 1640   VL-Post: ...</td>\n",
       "      <td>Logboeknr  RBV  :   72 Tijd: 1640   VL-P</td>\n",
       "      <td>25.0</td>\n",
       "      <td>NaN</td>\n",
       "      <td>NaN</td>\n",
       "      <td>...</td>\n",
       "      <td>02/01/2006</td>\n",
       "      <td>17:20:00</td>\n",
       "      <td>40.0</td>\n",
       "      <td>02/01/2006</td>\n",
       "      <td>17:20:00</td>\n",
       "      <td>Persoon langs de baan</td>\n",
       "      <td>NaN</td>\n",
       "      <td>NaN</td>\n",
       "      <td>Hgl</td>\n",
       "      <td>NaN</td>\n",
       "    </tr>\n",
       "    <tr>\n",
       "      <th>4</th>\n",
       "      <td>4</td>\n",
       "      <td>50053215</td>\n",
       "      <td>96.0</td>\n",
       "      <td>ZL</td>\n",
       "      <td>02/01/2006 22:30:00</td>\n",
       "      <td>Logboeknr  RBV  :   96 Tijd: 2230   VL-Post: ...</td>\n",
       "      <td>Logboeknr  RBV  :   96 Tijd: 2230   VL-P</td>\n",
       "      <td>12.0</td>\n",
       "      <td>NaN</td>\n",
       "      <td>NaN</td>\n",
       "      <td>...</td>\n",
       "      <td>02/01/2006</td>\n",
       "      <td>22:36:00</td>\n",
       "      <td>6.0</td>\n",
       "      <td>02/01/2006</td>\n",
       "      <td>22:36:00</td>\n",
       "      <td>Bijna aanrijding met persoon</td>\n",
       "      <td>NaN</td>\n",
       "      <td>NaN</td>\n",
       "      <td>Hgv</td>\n",
       "      <td>NaN</td>\n",
       "    </tr>\n",
       "    <tr>\n",
       "      <th>5</th>\n",
       "      <td>5</td>\n",
       "      <td>50053218</td>\n",
       "      <td>38.0</td>\n",
       "      <td>EHV</td>\n",
       "      <td>02/01/2006 11:23:00</td>\n",
       "      <td>Logboeknr  RBV  :   38 Tijd: 1123   VL-Post: ...</td>\n",
       "      <td>Logboeknr  RBV  :   38 Tijd: 1123   VL-P</td>\n",
       "      <td>614.0</td>\n",
       "      <td>10621391.0</td>\n",
       "      <td>DETECTREIN</td>\n",
       "      <td>...</td>\n",
       "      <td>02/01/2006</td>\n",
       "      <td>11:30:00</td>\n",
       "      <td>7.0</td>\n",
       "      <td>NaN</td>\n",
       "      <td>00:00:00</td>\n",
       "      <td>Geen SMC-melding.Geen onderzoek geweest.</td>\n",
       "      <td>NaN</td>\n",
       "      <td>NaN</td>\n",
       "      <td>Ht</td>\n",
       "      <td>NaN</td>\n",
       "    </tr>\n",
       "    <tr>\n",
       "      <th>...</th>\n",
       "      <td>...</td>\n",
       "      <td>...</td>\n",
       "      <td>...</td>\n",
       "      <td>...</td>\n",
       "      <td>...</td>\n",
       "      <td>...</td>\n",
       "      <td>...</td>\n",
       "      <td>...</td>\n",
       "      <td>...</td>\n",
       "      <td>...</td>\n",
       "      <td>...</td>\n",
       "      <td>...</td>\n",
       "      <td>...</td>\n",
       "      <td>...</td>\n",
       "      <td>...</td>\n",
       "      <td>...</td>\n",
       "      <td>...</td>\n",
       "      <td>...</td>\n",
       "      <td>...</td>\n",
       "      <td>...</td>\n",
       "      <td>...</td>\n",
       "    </tr>\n",
       "    <tr>\n",
       "      <th>898521</th>\n",
       "      <td>908625</td>\n",
       "      <td>99003505</td>\n",
       "      <td>0.0</td>\n",
       "      <td>NaN</td>\n",
       "      <td>11/05/2013 08:06:00</td>\n",
       "      <td>GVC : sp-2 en 3  stop lampen op de stootjukke...</td>\n",
       "      <td>GVC : sp-2 en 3  stop lampen op de stoot</td>\n",
       "      <td>560.0</td>\n",
       "      <td>NaN</td>\n",
       "      <td>NaN</td>\n",
       "      <td>...</td>\n",
       "      <td>11/05/2013</td>\n",
       "      <td>09:29:00</td>\n",
       "      <td>83.0</td>\n",
       "      <td>11/05/2013</td>\n",
       "      <td>09:30:00</td>\n",
       "      <td>NaN</td>\n",
       "      <td>NaN</td>\n",
       "      <td>NaN</td>\n",
       "      <td>NaN</td>\n",
       "      <td>11/05/2013</td>\n",
       "    </tr>\n",
       "    <tr>\n",
       "      <th>898522</th>\n",
       "      <td>908626</td>\n",
       "      <td>99003506</td>\n",
       "      <td>0.0</td>\n",
       "      <td>NaN</td>\n",
       "      <td>11/05/2013 09:21:00</td>\n",
       "      <td>Whz : Ovw 100.1 albert Plesmanweg blijft  dic...</td>\n",
       "      <td>Whz : Ovw 100.1 albert Plesmanweg blijft</td>\n",
       "      <td>468.0</td>\n",
       "      <td>10021085.0</td>\n",
       "      <td>OVERWEG</td>\n",
       "      <td>...</td>\n",
       "      <td>11/05/2013</td>\n",
       "      <td>10:44:00</td>\n",
       "      <td>83.0</td>\n",
       "      <td>11/05/2013</td>\n",
       "      <td>10:44:00</td>\n",
       "      <td>NaN</td>\n",
       "      <td>NaN</td>\n",
       "      <td>NaN</td>\n",
       "      <td>NaN</td>\n",
       "      <td>NaN</td>\n",
       "    </tr>\n",
       "    <tr>\n",
       "      <th>898523</th>\n",
       "      <td>908627</td>\n",
       "      <td>99003506</td>\n",
       "      <td>0.0</td>\n",
       "      <td>NaN</td>\n",
       "      <td>11/05/2013 09:21:00</td>\n",
       "      <td>Whz : Ovw 100.1 albert Plesmanweg blijft  dic...</td>\n",
       "      <td>Whz : Ovw 100.1 albert Plesmanweg blijft</td>\n",
       "      <td>468.0</td>\n",
       "      <td>10021085.0</td>\n",
       "      <td>OVERWEG</td>\n",
       "      <td>...</td>\n",
       "      <td>11/05/2013</td>\n",
       "      <td>10:44:00</td>\n",
       "      <td>83.0</td>\n",
       "      <td>11/05/2013</td>\n",
       "      <td>10:44:00</td>\n",
       "      <td>NaN</td>\n",
       "      <td>NaN</td>\n",
       "      <td>NaN</td>\n",
       "      <td>NaN</td>\n",
       "      <td>00/00/0000</td>\n",
       "    </tr>\n",
       "    <tr>\n",
       "      <th>898524</th>\n",
       "      <td>908628</td>\n",
       "      <td>99999999</td>\n",
       "      <td>0.0</td>\n",
       "      <td>NaN</td>\n",
       "      <td>20/08/2016 14:15:17</td>\n",
       "      <td>Bdg-Apn : Km 12.7 twee gedode zwanen langs het...</td>\n",
       "      <td>Bdg-Apn : Km 12.7 twee gedode zwanen lan</td>\n",
       "      <td>102.0</td>\n",
       "      <td>NaN</td>\n",
       "      <td>NaN</td>\n",
       "      <td>...</td>\n",
       "      <td>20/08/2016</td>\n",
       "      <td>15:14:00</td>\n",
       "      <td>19.0</td>\n",
       "      <td>20/08/2016</td>\n",
       "      <td>15:15:00</td>\n",
       "      <td>Gestoord object: SPOOR LA. Gestoord onde</td>\n",
       "      <td>NaN</td>\n",
       "      <td>NaN</td>\n",
       "      <td>NaN</td>\n",
       "      <td>NaN</td>\n",
       "    </tr>\n",
       "    <tr>\n",
       "      <th>898525</th>\n",
       "      <td>908629</td>\n",
       "      <td>99999999</td>\n",
       "      <td>0.0</td>\n",
       "      <td>NaN</td>\n",
       "      <td>20/08/2016 14:15:17</td>\n",
       "      <td>Bdg-Apn : Km 12.7 twee gedode zwanen langs het...</td>\n",
       "      <td>Bdg-Apn : Km 12.7 twee gedode zwanen lan</td>\n",
       "      <td>102.0</td>\n",
       "      <td>NaN</td>\n",
       "      <td>NaN</td>\n",
       "      <td>...</td>\n",
       "      <td>20/08/2016</td>\n",
       "      <td>15:14:00</td>\n",
       "      <td>19.0</td>\n",
       "      <td>20/08/2016</td>\n",
       "      <td>15:15:00</td>\n",
       "      <td>Gestoord object: SPOOR LA. Gestoord onde</td>\n",
       "      <td>NaN</td>\n",
       "      <td>NaN</td>\n",
       "      <td>NaN</td>\n",
       "      <td>NaN</td>\n",
       "    </tr>\n",
       "  </tbody>\n",
       "</table>\n",
       "<p>737230 rows × 60 columns</p>\n",
       "</div>"
      ],
      "text/plain": [
       "       Unnamed: 0  #stm_sap_meldnr  stm_mon_nr stm_vl_post  \\\n",
       "1               1         50053211         0.0         NaN   \n",
       "2               2         50053213        48.0          GN   \n",
       "3               3         50053214        72.0          ZL   \n",
       "4               4         50053215        96.0          ZL   \n",
       "5               5         50053218        38.0         EHV   \n",
       "...           ...              ...         ...         ...   \n",
       "898521     908625         99003505         0.0         NaN   \n",
       "898522     908626         99003506         0.0         NaN   \n",
       "898523     908627         99003506         0.0         NaN   \n",
       "898524     908628         99999999         0.0         NaN   \n",
       "898525     908629         99999999         0.0         NaN   \n",
       "\n",
       "           stm_sap_meld_ddt  \\\n",
       "1       02/01/2006 09:00:00   \n",
       "2       02/01/2006 12:35:00   \n",
       "3       02/01/2006 16:40:00   \n",
       "4       02/01/2006 22:30:00   \n",
       "5       02/01/2006 11:23:00   \n",
       "...                     ...   \n",
       "898521  11/05/2013 08:06:00   \n",
       "898522  11/05/2013 09:21:00   \n",
       "898523  11/05/2013 09:21:00   \n",
       "898524  20/08/2016 14:15:17   \n",
       "898525  20/08/2016 14:15:17   \n",
       "\n",
       "                                   stm_sap_meldtekst_lang  \\\n",
       "1        Logboeknr  Geeltje  :   49 Tijd: 0900   VL-Po...   \n",
       "2        Logboeknr  RBV  :   48 Tijd: 1235   VL-Post: ...   \n",
       "3        Logboeknr  RBV  :   72 Tijd: 1640   VL-Post: ...   \n",
       "4        Logboeknr  RBV  :   96 Tijd: 2230   VL-Post: ...   \n",
       "5        Logboeknr  RBV  :   38 Tijd: 1123   VL-Post: ...   \n",
       "...                                                   ...   \n",
       "898521   GVC : sp-2 en 3  stop lampen op de stootjukke...   \n",
       "898522   Whz : Ovw 100.1 albert Plesmanweg blijft  dic...   \n",
       "898523   Whz : Ovw 100.1 albert Plesmanweg blijft  dic...   \n",
       "898524  Bdg-Apn : Km 12.7 twee gedode zwanen langs het...   \n",
       "898525  Bdg-Apn : Km 12.7 twee gedode zwanen langs het...   \n",
       "\n",
       "                               stm_sap_meldtekst stm_geo_mld  \\\n",
       "1          Logboeknr  Geeltje  :   49 Tijd: 0900       624.0   \n",
       "2       Logboeknr  RBV  :   48 Tijd: 1235   VL-P       201.0   \n",
       "3       Logboeknr  RBV  :   72 Tijd: 1640   VL-P        25.0   \n",
       "4       Logboeknr  RBV  :   96 Tijd: 2230   VL-P        12.0   \n",
       "5       Logboeknr  RBV  :   38 Tijd: 1123   VL-P       614.0   \n",
       "...                                          ...         ...   \n",
       "898521  GVC : sp-2 en 3  stop lampen op de stoot       560.0   \n",
       "898522  Whz : Ovw 100.1 albert Plesmanweg blijft       468.0   \n",
       "898523  Whz : Ovw 100.1 albert Plesmanweg blijft       468.0   \n",
       "898524  Bdg-Apn : Km 12.7 twee gedode zwanen lan       102.0   \n",
       "898525  Bdg-Apn : Km 12.7 twee gedode zwanen lan       102.0   \n",
       "\n",
       "        stm_equipm_nr_mld stm_equipm_soort_mld  ...   stm_fh_dd  stm_fh_tijd  \\\n",
       "1                     NaN                  NaN  ...  02/01/2006     09:00:00   \n",
       "2                     NaN                  NaN  ...  02/01/2006     13:26:00   \n",
       "3                     NaN                  NaN  ...  02/01/2006     17:20:00   \n",
       "4                     NaN                  NaN  ...  02/01/2006     22:36:00   \n",
       "5              10621391.0           DETECTREIN  ...  02/01/2006     11:30:00   \n",
       "...                   ...                  ...  ...         ...          ...   \n",
       "898521                NaN                  NaN  ...  11/05/2013     09:29:00   \n",
       "898522         10021085.0              OVERWEG  ...  11/05/2013     10:44:00   \n",
       "898523         10021085.0              OVERWEG  ...  11/05/2013     10:44:00   \n",
       "898524                NaN                  NaN  ...  20/08/2016     15:14:00   \n",
       "898525                NaN                  NaN  ...  20/08/2016     15:14:00   \n",
       "\n",
       "        stm_fh_duur  stm_sap_storeinddatum stm_sap_storeindtijd  \\\n",
       "1               0.0             02/01/2006             09:00:00   \n",
       "2              51.0             02/01/2006             13:26:00   \n",
       "3              40.0             02/01/2006             17:20:00   \n",
       "4               6.0             02/01/2006             22:36:00   \n",
       "5               7.0                    NaN             00:00:00   \n",
       "...             ...                    ...                  ...   \n",
       "898521         83.0             11/05/2013             09:30:00   \n",
       "898522         83.0             11/05/2013             10:44:00   \n",
       "898523         83.0             11/05/2013             10:44:00   \n",
       "898524         19.0             20/08/2016             15:15:00   \n",
       "898525         19.0             20/08/2016             15:15:00   \n",
       "\n",
       "                             stm_oorz_tekst_kort stm_pplg_van  stm_pplg_naar  \\\n",
       "1                                            NaN          NaN            NaN   \n",
       "2                       schapen op de spoorbaan!          NaN            NaN   \n",
       "3                          Persoon langs de baan          NaN            NaN   \n",
       "4                   Bijna aanrijding met persoon          NaN            NaN   \n",
       "5       Geen SMC-melding.Geen onderzoek geweest.          NaN            NaN   \n",
       "...                                          ...          ...            ...   \n",
       "898521                                       NaN          NaN            NaN   \n",
       "898522                                       NaN          NaN            NaN   \n",
       "898523                                       NaN          NaN            NaN   \n",
       "898524  Gestoord object: SPOOR LA. Gestoord onde          NaN            NaN   \n",
       "898525  Gestoord object: SPOOR LA. Gestoord onde          NaN            NaN   \n",
       "\n",
       "       stm_dstrglp_van stm_dstrglp_naar  \n",
       "1                  NaN              NaN  \n",
       "2                   Lp              Apg  \n",
       "3                  Hgl              NaN  \n",
       "4                  Hgv              NaN  \n",
       "5                   Ht              NaN  \n",
       "...                ...              ...  \n",
       "898521             NaN       11/05/2013  \n",
       "898522             NaN              NaN  \n",
       "898523             NaN       00/00/0000  \n",
       "898524             NaN              NaN  \n",
       "898525             NaN              NaN  \n",
       "\n",
       "[737230 rows x 60 columns]"
      ]
     },
     "execution_count": 6,
     "metadata": {},
     "output_type": "execute_result"
    }
   ],
   "source": [
    "# Verwijder de rijen die geen value bevatten in de benodigde kolommen\n",
    "df_filtered = drop_rows_with_null(['stm_geo_mld', 'stm_sap_melddatum', 'stm_oorz_code', 'stm_sap_meldtijd',\n",
    "                          'stm_fh_dd', 'stm_fh_tijd','stm_oorz_groep',\n",
    "                          'stm_fh_duur'], df)\n",
    "print(len(df))\n",
    "print(len(df_filtered))\n",
    "df_filtered"
   ]
  },
  {
   "cell_type": "code",
   "execution_count": 7,
   "metadata": {},
   "outputs": [],
   "source": [
    "df_filtered.drop_duplicates(subset =\"#stm_sap_meldnr\", \n",
    "                     keep = False, inplace = True)"
   ]
  },
  {
   "cell_type": "code",
   "execution_count": 8,
   "metadata": {},
   "outputs": [
    {
     "data": {
      "text/plain": [
       "325512"
      ]
     },
     "execution_count": 8,
     "metadata": {},
     "output_type": "execute_result"
    }
   ],
   "source": [
    "len(df_filtered)"
   ]
  },
  {
   "cell_type": "markdown",
   "metadata": {},
   "source": [
    "# Data preparation:"
   ]
  },
  {
   "cell_type": "code",
   "execution_count": 9,
   "metadata": {},
   "outputs": [],
   "source": [
    "df_filtered['stm_sap_meld_ddt'] = df_filtered['stm_sap_meld_ddt'].apply(pd.to_datetime) # maakt het type: datetime"
   ]
  },
  {
   "cell_type": "code",
   "execution_count": 10,
   "metadata": {},
   "outputs": [],
   "source": [
    "df_year = pd.DataFrame(df_filtered['stm_sap_meld_ddt'].dt.year)\n",
    "df_filtered.insert(5, 'Jaar', df_year) # zet het jaar los in de tabel"
   ]
  },
  {
   "cell_type": "code",
   "execution_count": 11,
   "metadata": {},
   "outputs": [],
   "source": [
    "df_day = pd.DataFrame(df_filtered['stm_sap_meld_ddt'].dt.dayofyear)\n",
    "df_filtered.insert(6, 'Dag_van_jaar', df_day) # zet de dag count van het jaar los in de tabel (1-365)"
   ]
  },
  {
   "cell_type": "code",
   "execution_count": 12,
   "metadata": {},
   "outputs": [],
   "source": [
    "df_hour = pd.DataFrame(df_filtered['stm_sap_meld_ddt'].dt.hour)\n",
    "df_filtered.insert(7, 'Uur_van_dag', df_hour) # zet het uur van de dag los in de tabel (0-23)"
   ]
  },
  {
   "cell_type": "code",
   "execution_count": 13,
   "metadata": {},
   "outputs": [],
   "source": [
    "df_min = pd.DataFrame(df_filtered['stm_sap_meld_ddt'].dt.minute)\n",
    "df_filtered.insert(8, 'Minuut_van_uur', df_min) # zet de minuten van het uur los in de tabel (0-59)"
   ]
  },
  {
   "cell_type": "code",
   "execution_count": 14,
   "metadata": {},
   "outputs": [],
   "source": [
    "df_hour_min = (df_filtered['Uur_van_dag'] * 60) + df_filtered['Minuut_van_uur']\n",
    "df_filtered.insert(9, 'Minuut_van_dag', df_hour_min) # zet de minuut van de dag in een tabel (0-1440)"
   ]
  },
  {
   "cell_type": "code",
   "execution_count": 15,
   "metadata": {},
   "outputs": [
    {
     "data": {
      "text/html": [
       "<div>\n",
       "<style scoped>\n",
       "    .dataframe tbody tr th:only-of-type {\n",
       "        vertical-align: middle;\n",
       "    }\n",
       "\n",
       "    .dataframe tbody tr th {\n",
       "        vertical-align: top;\n",
       "    }\n",
       "\n",
       "    .dataframe thead th {\n",
       "        text-align: right;\n",
       "    }\n",
       "</style>\n",
       "<table border=\"1\" class=\"dataframe\">\n",
       "  <thead>\n",
       "    <tr style=\"text-align: right;\">\n",
       "      <th></th>\n",
       "      <th>Unnamed: 0</th>\n",
       "      <th>#stm_sap_meldnr</th>\n",
       "      <th>stm_mon_nr</th>\n",
       "      <th>stm_vl_post</th>\n",
       "      <th>stm_sap_meld_ddt</th>\n",
       "      <th>Jaar</th>\n",
       "      <th>Dag_van_jaar</th>\n",
       "      <th>Uur_van_dag</th>\n",
       "      <th>Minuut_van_uur</th>\n",
       "      <th>Minuut_van_dag</th>\n",
       "      <th>...</th>\n",
       "      <th>stm_fh_dd</th>\n",
       "      <th>stm_fh_tijd</th>\n",
       "      <th>stm_fh_duur</th>\n",
       "      <th>stm_sap_storeinddatum</th>\n",
       "      <th>stm_sap_storeindtijd</th>\n",
       "      <th>stm_oorz_tekst_kort</th>\n",
       "      <th>stm_pplg_van</th>\n",
       "      <th>stm_pplg_naar</th>\n",
       "      <th>stm_dstrglp_van</th>\n",
       "      <th>stm_dstrglp_naar</th>\n",
       "    </tr>\n",
       "  </thead>\n",
       "  <tbody>\n",
       "    <tr>\n",
       "      <th>2</th>\n",
       "      <td>2</td>\n",
       "      <td>50053213</td>\n",
       "      <td>48.0</td>\n",
       "      <td>GN</td>\n",
       "      <td>2006-02-01 12:35:00</td>\n",
       "      <td>2006</td>\n",
       "      <td>32</td>\n",
       "      <td>12</td>\n",
       "      <td>35</td>\n",
       "      <td>755</td>\n",
       "      <td>...</td>\n",
       "      <td>02/01/2006</td>\n",
       "      <td>13:26:00</td>\n",
       "      <td>51.0</td>\n",
       "      <td>02/01/2006</td>\n",
       "      <td>13:26:00</td>\n",
       "      <td>schapen op de spoorbaan!</td>\n",
       "      <td>NaN</td>\n",
       "      <td>NaN</td>\n",
       "      <td>Lp</td>\n",
       "      <td>Apg</td>\n",
       "    </tr>\n",
       "    <tr>\n",
       "      <th>3</th>\n",
       "      <td>3</td>\n",
       "      <td>50053214</td>\n",
       "      <td>72.0</td>\n",
       "      <td>ZL</td>\n",
       "      <td>2006-02-01 16:40:00</td>\n",
       "      <td>2006</td>\n",
       "      <td>32</td>\n",
       "      <td>16</td>\n",
       "      <td>40</td>\n",
       "      <td>1000</td>\n",
       "      <td>...</td>\n",
       "      <td>02/01/2006</td>\n",
       "      <td>17:20:00</td>\n",
       "      <td>40.0</td>\n",
       "      <td>02/01/2006</td>\n",
       "      <td>17:20:00</td>\n",
       "      <td>Persoon langs de baan</td>\n",
       "      <td>NaN</td>\n",
       "      <td>NaN</td>\n",
       "      <td>Hgl</td>\n",
       "      <td>NaN</td>\n",
       "    </tr>\n",
       "    <tr>\n",
       "      <th>4</th>\n",
       "      <td>4</td>\n",
       "      <td>50053215</td>\n",
       "      <td>96.0</td>\n",
       "      <td>ZL</td>\n",
       "      <td>2006-02-01 22:30:00</td>\n",
       "      <td>2006</td>\n",
       "      <td>32</td>\n",
       "      <td>22</td>\n",
       "      <td>30</td>\n",
       "      <td>1350</td>\n",
       "      <td>...</td>\n",
       "      <td>02/01/2006</td>\n",
       "      <td>22:36:00</td>\n",
       "      <td>6.0</td>\n",
       "      <td>02/01/2006</td>\n",
       "      <td>22:36:00</td>\n",
       "      <td>Bijna aanrijding met persoon</td>\n",
       "      <td>NaN</td>\n",
       "      <td>NaN</td>\n",
       "      <td>Hgv</td>\n",
       "      <td>NaN</td>\n",
       "    </tr>\n",
       "    <tr>\n",
       "      <th>5</th>\n",
       "      <td>5</td>\n",
       "      <td>50053218</td>\n",
       "      <td>38.0</td>\n",
       "      <td>EHV</td>\n",
       "      <td>2006-02-01 11:23:00</td>\n",
       "      <td>2006</td>\n",
       "      <td>32</td>\n",
       "      <td>11</td>\n",
       "      <td>23</td>\n",
       "      <td>683</td>\n",
       "      <td>...</td>\n",
       "      <td>02/01/2006</td>\n",
       "      <td>11:30:00</td>\n",
       "      <td>7.0</td>\n",
       "      <td>NaN</td>\n",
       "      <td>00:00:00</td>\n",
       "      <td>Geen SMC-melding.Geen onderzoek geweest.</td>\n",
       "      <td>NaN</td>\n",
       "      <td>NaN</td>\n",
       "      <td>Ht</td>\n",
       "      <td>NaN</td>\n",
       "    </tr>\n",
       "    <tr>\n",
       "      <th>6</th>\n",
       "      <td>6</td>\n",
       "      <td>50053219</td>\n",
       "      <td>99.0</td>\n",
       "      <td>EHV</td>\n",
       "      <td>2006-02-01 23:25:00</td>\n",
       "      <td>2006</td>\n",
       "      <td>32</td>\n",
       "      <td>23</td>\n",
       "      <td>25</td>\n",
       "      <td>1405</td>\n",
       "      <td>...</td>\n",
       "      <td>02/01/2006</td>\n",
       "      <td>23:38:00</td>\n",
       "      <td>13.0</td>\n",
       "      <td>03/01/2006</td>\n",
       "      <td>09:44:00</td>\n",
       "      <td>Geen SMC-melding.</td>\n",
       "      <td>NaN</td>\n",
       "      <td>NaN</td>\n",
       "      <td>Tb</td>\n",
       "      <td>NaN</td>\n",
       "    </tr>\n",
       "    <tr>\n",
       "      <th>...</th>\n",
       "      <td>...</td>\n",
       "      <td>...</td>\n",
       "      <td>...</td>\n",
       "      <td>...</td>\n",
       "      <td>...</td>\n",
       "      <td>...</td>\n",
       "      <td>...</td>\n",
       "      <td>...</td>\n",
       "      <td>...</td>\n",
       "      <td>...</td>\n",
       "      <td>...</td>\n",
       "      <td>...</td>\n",
       "      <td>...</td>\n",
       "      <td>...</td>\n",
       "      <td>...</td>\n",
       "      <td>...</td>\n",
       "      <td>...</td>\n",
       "      <td>...</td>\n",
       "      <td>...</td>\n",
       "      <td>...</td>\n",
       "      <td>...</td>\n",
       "    </tr>\n",
       "    <tr>\n",
       "      <th>898277</th>\n",
       "      <td>908381</td>\n",
       "      <td>99003153</td>\n",
       "      <td>0.0</td>\n",
       "      <td>NaN</td>\n",
       "      <td>2012-02-09 12:22:00</td>\n",
       "      <td>2012</td>\n",
       "      <td>40</td>\n",
       "      <td>12</td>\n",
       "      <td>22</td>\n",
       "      <td>742</td>\n",
       "      <td>...</td>\n",
       "      <td>02/09/2012</td>\n",
       "      <td>13:21:00</td>\n",
       "      <td>58.0</td>\n",
       "      <td>02/09/2012</td>\n",
       "      <td>13:22:00</td>\n",
       "      <td>NaN</td>\n",
       "      <td>NaN</td>\n",
       "      <td>NaN</td>\n",
       "      <td>NaN</td>\n",
       "      <td>NaN</td>\n",
       "    </tr>\n",
       "    <tr>\n",
       "      <th>898316</th>\n",
       "      <td>908420</td>\n",
       "      <td>99003170</td>\n",
       "      <td>0.0</td>\n",
       "      <td>NaN</td>\n",
       "      <td>2013-01-08 12:01:00</td>\n",
       "      <td>2013</td>\n",
       "      <td>8</td>\n",
       "      <td>12</td>\n",
       "      <td>1</td>\n",
       "      <td>721</td>\n",
       "      <td>...</td>\n",
       "      <td>01/08/2013</td>\n",
       "      <td>12:09:00</td>\n",
       "      <td>8.0</td>\n",
       "      <td>01/08/2013</td>\n",
       "      <td>12:10:00</td>\n",
       "      <td>NaN</td>\n",
       "      <td>NaN</td>\n",
       "      <td>NaN</td>\n",
       "      <td>NaN</td>\n",
       "      <td>00/00/0000</td>\n",
       "    </tr>\n",
       "    <tr>\n",
       "      <th>898317</th>\n",
       "      <td>908421</td>\n",
       "      <td>99003172</td>\n",
       "      <td>0.0</td>\n",
       "      <td>NaN</td>\n",
       "      <td>2013-08-17 12:57:00</td>\n",
       "      <td>2013</td>\n",
       "      <td>229</td>\n",
       "      <td>12</td>\n",
       "      <td>57</td>\n",
       "      <td>777</td>\n",
       "      <td>...</td>\n",
       "      <td>17/08/2013</td>\n",
       "      <td>13:08:00</td>\n",
       "      <td>10.0</td>\n",
       "      <td>17/08/2013</td>\n",
       "      <td>13:50:00</td>\n",
       "      <td>NaN</td>\n",
       "      <td>NaN</td>\n",
       "      <td>NaN</td>\n",
       "      <td>NaN</td>\n",
       "      <td>00/00/0000</td>\n",
       "    </tr>\n",
       "    <tr>\n",
       "      <th>898322</th>\n",
       "      <td>908426</td>\n",
       "      <td>99003175</td>\n",
       "      <td>0.0</td>\n",
       "      <td>NaN</td>\n",
       "      <td>2013-10-19 13:23:00</td>\n",
       "      <td>2013</td>\n",
       "      <td>292</td>\n",
       "      <td>13</td>\n",
       "      <td>23</td>\n",
       "      <td>803</td>\n",
       "      <td>...</td>\n",
       "      <td>19/10/2013</td>\n",
       "      <td>15:42:00</td>\n",
       "      <td>139.0</td>\n",
       "      <td>19/10/2013</td>\n",
       "      <td>15:43:00</td>\n",
       "      <td>NaN</td>\n",
       "      <td>NaN</td>\n",
       "      <td>NaN</td>\n",
       "      <td>NaN</td>\n",
       "      <td>19/10/2013</td>\n",
       "    </tr>\n",
       "    <tr>\n",
       "      <th>898422</th>\n",
       "      <td>908526</td>\n",
       "      <td>99003211</td>\n",
       "      <td>0.0</td>\n",
       "      <td>NaN</td>\n",
       "      <td>2016-10-15 12:20:00</td>\n",
       "      <td>2016</td>\n",
       "      <td>289</td>\n",
       "      <td>12</td>\n",
       "      <td>20</td>\n",
       "      <td>740</td>\n",
       "      <td>...</td>\n",
       "      <td>15/10/2016</td>\n",
       "      <td>18:01:08</td>\n",
       "      <td>283.0</td>\n",
       "      <td>16/10/2016</td>\n",
       "      <td>07:52:19</td>\n",
       "      <td>vertragingen blijken het nu goed te blij</td>\n",
       "      <td>NaN</td>\n",
       "      <td>NaN</td>\n",
       "      <td>NaN</td>\n",
       "      <td>NaN</td>\n",
       "    </tr>\n",
       "  </tbody>\n",
       "</table>\n",
       "<p>225917 rows × 65 columns</p>\n",
       "</div>"
      ],
      "text/plain": [
       "       Unnamed: 0  #stm_sap_meldnr  stm_mon_nr stm_vl_post  \\\n",
       "2               2         50053213        48.0          GN   \n",
       "3               3         50053214        72.0          ZL   \n",
       "4               4         50053215        96.0          ZL   \n",
       "5               5         50053218        38.0         EHV   \n",
       "6               6         50053219        99.0         EHV   \n",
       "...           ...              ...         ...         ...   \n",
       "898277     908381         99003153         0.0         NaN   \n",
       "898316     908420         99003170         0.0         NaN   \n",
       "898317     908421         99003172         0.0         NaN   \n",
       "898322     908426         99003175         0.0         NaN   \n",
       "898422     908526         99003211         0.0         NaN   \n",
       "\n",
       "          stm_sap_meld_ddt  Jaar  Dag_van_jaar  Uur_van_dag  Minuut_van_uur  \\\n",
       "2      2006-02-01 12:35:00  2006            32           12              35   \n",
       "3      2006-02-01 16:40:00  2006            32           16              40   \n",
       "4      2006-02-01 22:30:00  2006            32           22              30   \n",
       "5      2006-02-01 11:23:00  2006            32           11              23   \n",
       "6      2006-02-01 23:25:00  2006            32           23              25   \n",
       "...                    ...   ...           ...          ...             ...   \n",
       "898277 2012-02-09 12:22:00  2012            40           12              22   \n",
       "898316 2013-01-08 12:01:00  2013             8           12               1   \n",
       "898317 2013-08-17 12:57:00  2013           229           12              57   \n",
       "898322 2013-10-19 13:23:00  2013           292           13              23   \n",
       "898422 2016-10-15 12:20:00  2016           289           12              20   \n",
       "\n",
       "        Minuut_van_dag  ...   stm_fh_dd stm_fh_tijd stm_fh_duur  \\\n",
       "2                  755  ...  02/01/2006    13:26:00        51.0   \n",
       "3                 1000  ...  02/01/2006    17:20:00        40.0   \n",
       "4                 1350  ...  02/01/2006    22:36:00         6.0   \n",
       "5                  683  ...  02/01/2006    11:30:00         7.0   \n",
       "6                 1405  ...  02/01/2006    23:38:00        13.0   \n",
       "...                ...  ...         ...         ...         ...   \n",
       "898277             742  ...  02/09/2012    13:21:00        58.0   \n",
       "898316             721  ...  01/08/2013    12:09:00         8.0   \n",
       "898317             777  ...  17/08/2013    13:08:00        10.0   \n",
       "898322             803  ...  19/10/2013    15:42:00       139.0   \n",
       "898422             740  ...  15/10/2016    18:01:08       283.0   \n",
       "\n",
       "        stm_sap_storeinddatum stm_sap_storeindtijd  \\\n",
       "2                  02/01/2006             13:26:00   \n",
       "3                  02/01/2006             17:20:00   \n",
       "4                  02/01/2006             22:36:00   \n",
       "5                         NaN             00:00:00   \n",
       "6                  03/01/2006             09:44:00   \n",
       "...                       ...                  ...   \n",
       "898277             02/09/2012             13:22:00   \n",
       "898316             01/08/2013             12:10:00   \n",
       "898317             17/08/2013             13:50:00   \n",
       "898322             19/10/2013             15:43:00   \n",
       "898422             16/10/2016             07:52:19   \n",
       "\n",
       "                             stm_oorz_tekst_kort  stm_pplg_van  stm_pplg_naar  \\\n",
       "2                       schapen op de spoorbaan!           NaN            NaN   \n",
       "3                          Persoon langs de baan           NaN            NaN   \n",
       "4                   Bijna aanrijding met persoon           NaN            NaN   \n",
       "5       Geen SMC-melding.Geen onderzoek geweest.           NaN            NaN   \n",
       "6                              Geen SMC-melding.           NaN            NaN   \n",
       "...                                          ...           ...            ...   \n",
       "898277                                       NaN           NaN            NaN   \n",
       "898316                                       NaN           NaN            NaN   \n",
       "898317                                       NaN           NaN            NaN   \n",
       "898322                                       NaN           NaN            NaN   \n",
       "898422  vertragingen blijken het nu goed te blij           NaN            NaN   \n",
       "\n",
       "        stm_dstrglp_van stm_dstrglp_naar  \n",
       "2                    Lp              Apg  \n",
       "3                   Hgl              NaN  \n",
       "4                   Hgv              NaN  \n",
       "5                    Ht              NaN  \n",
       "6                    Tb              NaN  \n",
       "...                 ...              ...  \n",
       "898277              NaN              NaN  \n",
       "898316              NaN       00/00/0000  \n",
       "898317              NaN       00/00/0000  \n",
       "898322              NaN       19/10/2013  \n",
       "898422              NaN              NaN  \n",
       "\n",
       "[225917 rows x 65 columns]"
      ]
     },
     "execution_count": 15,
     "metadata": {},
     "output_type": "execute_result"
    }
   ],
   "source": [
    "# hoger dan 5 minuten,als het onder de 5 minuten zit is er een goede kans dat het een fout was.\n",
    "df_filtered = (df_filtered.loc[(df_filtered['stm_fh_duur'] > 5) & (df_filtered['stm_fh_duur'] < 360)])\n",
    "df_filtered\n"
   ]
  },
  {
   "cell_type": "code",
   "execution_count": 16,
   "metadata": {},
   "outputs": [
    {
     "name": "stderr",
     "output_type": "stream",
     "text": [
      "<ipython-input-16-e2cb031b2713>:2: SettingWithCopyWarning: \n",
      "A value is trying to be set on a copy of a slice from a DataFrame.\n",
      "Try using .loc[row_indexer,col_indexer] = value instead\n",
      "\n",
      "See the caveats in the documentation: https://pandas.pydata.org/pandas-docs/stable/user_guide/indexing.html#returning-a-view-versus-a-copy\n",
      "  df_filtered['stm_aanntpl_tijd'] = df_filtered['stm_aanntpl_tijd'].apply(pd.to_datetime)\n"
     ]
    }
   ],
   "source": [
    "# minuut van de dag dat de aannemer ter plekken is gekomen lijst gemaakt en in dataset gezet.\n",
    "df_filtered['stm_aanntpl_tijd'] = df_filtered['stm_aanntpl_tijd'].apply(pd.to_datetime)\n",
    "df_hour = pd.DataFrame(df_filtered['stm_aanntpl_tijd'].dt.hour)\n",
    "df_filtered.insert(0, 'Uur_herstel', df_hour)\n",
    "df_min = pd.DataFrame(df_filtered['stm_aanntpl_tijd'].dt.minute)\n",
    "df_filtered.insert(1, 'Min_van_uur_herstel', df_min)\n",
    "df_min_of_day_herstel = (df_filtered['Uur_herstel'] * 60) + df_filtered['Min_van_uur_herstel']\n",
    "df_filtered.insert(2, 'Minuut_van_dag_herstel', df_min_of_day_herstel)\n",
    "# Eigenlijk precies hetzelfde als hier boven maar dan in 1 cel"
   ]
  },
  {
   "cell_type": "code",
   "execution_count": 17,
   "metadata": {},
   "outputs": [
    {
     "name": "stderr",
     "output_type": "stream",
     "text": [
      "<ipython-input-17-6c0389443f03>:2: SettingWithCopyWarning: \n",
      "A value is trying to be set on a copy of a slice from a DataFrame.\n",
      "Try using .loc[row_indexer,col_indexer] = value instead\n",
      "\n",
      "See the caveats in the documentation: https://pandas.pydata.org/pandas-docs/stable/user_guide/indexing.html#returning-a-view-versus-a-copy\n",
      "  df_filtered['stm_fh_ddt'] = df_filtered['stm_fh_ddt'].apply(pd.to_datetime)\n"
     ]
    }
   ],
   "source": [
    "# minuut van de dag dat de aannemer klaar is lijst gemaakt en in dataset gezet.\n",
    "df_filtered['stm_fh_ddt'] = df_filtered['stm_fh_ddt'].apply(pd.to_datetime)\n",
    "df_hour2 = pd.DataFrame(df_filtered['stm_fh_ddt'].dt.hour)\n",
    "df_filtered.insert(3, 'Uur_hersteld', df_hour2)\n",
    "df_min2 = pd.DataFrame(df_filtered['stm_fh_ddt'].dt.minute)\n",
    "df_filtered.insert(4, 'Min_van_uur_hersteld', df_min2)\n",
    "df_min_of_day_herstel2 = (df_filtered['Uur_hersteld'] * 60) + df_filtered['Min_van_uur_hersteld']\n",
    "df_filtered.insert(5, 'Minuut_van_dag_hersteld', df_min_of_day_herstel2)\n",
    "# Eigenlijk precies hetzelfde als hier boven maar dan in 1 cel"
   ]
  },
  {
   "cell_type": "code",
   "execution_count": 18,
   "metadata": {},
   "outputs": [],
   "source": [
    "Echte_herstel_tijd = df_filtered['Minuut_van_dag_hersteld'] - df_filtered['Minuut_van_dag_herstel']\n",
    "df_filtered.insert(6, 'Echte_hersteltijd', Echte_herstel_tijd)\n",
    "# berekent het verschil tussen de minuten van de dag (dus het berekent eigenlijk de reparatie tijd, \n",
    "# van aankomst aannemer tot gefixt)"
   ]
  },
  {
   "cell_type": "code",
   "execution_count": 19,
   "metadata": {},
   "outputs": [],
   "source": [
    "# hoger dan 5 minuten,als het onder de 5 minuten zit is er een goede kans dat het een fout was.\n",
    "#onder de 360 min (6 uur) de productowner had dit als waarde aan ons gegeven. \n",
    "df_filtered = (df_filtered.loc[(df_filtered['Echte_hersteltijd'] > 5) & (df_filtered['Echte_hersteltijd'] < 360)])"
   ]
  },
  {
   "cell_type": "markdown",
   "metadata": {},
   "source": [
    "# Baseline\n",
    "Target variabele is 'stm_fh_duur'. Dit is de functie hersteltijd dit houd in dat vanaf de melding tot dat het probleem opgelost is getimed wordt. \n",
    "\n",
    "baseline:  "
   ]
  },
  {
   "cell_type": "code",
   "execution_count": 20,
   "metadata": {},
   "outputs": [
    {
     "data": {
      "text/plain": [
       "31         62.0\n",
       "44         40.0\n",
       "45        214.0\n",
       "65         49.0\n",
       "101       350.0\n",
       "          ...  \n",
       "898274    215.0\n",
       "898275     34.0\n",
       "898277     20.0\n",
       "898322     29.0\n",
       "898422    282.0\n",
       "Name: Echte_hersteltijd, Length: 173749, dtype: float64"
      ]
     },
     "execution_count": 20,
     "metadata": {},
     "output_type": "execute_result"
    }
   ],
   "source": [
    "# De target variabele filteren tussen de 0 min en 360 min. Prodcut ower gaf dit als grens aan. \n",
    "#data_fht = df_filtered['stm_fh_duur'].loc[(df_filtered['stm_fh_duur'] > 0) & (df_filtered['stm_fh_duur'] < 360)]\n",
    "data_fht = df_filtered['Echte_hersteltijd'].loc[(df_filtered['Echte_hersteltijd'] > 0) & (df_filtered['Echte_hersteltijd'] < 360)]\n",
    "data_fht"
   ]
  },
  {
   "cell_type": "code",
   "execution_count": 21,
   "metadata": {},
   "outputs": [
    {
     "data": {
      "text/plain": [
       "count    173749.000000\n",
       "mean         57.258390\n",
       "std          56.968584\n",
       "min           6.000000\n",
       "25%          20.000000\n",
       "50%          38.000000\n",
       "75%          72.000000\n",
       "max         359.000000\n",
       "Name: Echte_hersteltijd, dtype: float64"
      ]
     },
     "execution_count": 21,
     "metadata": {},
     "output_type": "execute_result"
    }
   ],
   "source": [
    "data_fht.describe()"
   ]
  },
  {
   "cell_type": "code",
   "execution_count": 22,
   "metadata": {},
   "outputs": [
    {
     "data": {
      "text/plain": [
       "57.258389976345185"
      ]
     },
     "execution_count": 22,
     "metadata": {},
     "output_type": "execute_result"
    }
   ],
   "source": [
    "data_fht.mean()"
   ]
  },
  {
   "cell_type": "code",
   "execution_count": 23,
   "metadata": {},
   "outputs": [
    {
     "data": {
      "text/plain": [
       "38.0"
      ]
     },
     "execution_count": 23,
     "metadata": {},
     "output_type": "execute_result"
    }
   ],
   "source": [
    "data_fht.median()"
   ]
  },
  {
   "cell_type": "code",
   "execution_count": 24,
   "metadata": {},
   "outputs": [
    {
     "data": {
      "text/plain": [
       "<matplotlib.axes._subplots.AxesSubplot at 0x2261f0134f0>"
      ]
     },
     "execution_count": 24,
     "metadata": {},
     "output_type": "execute_result"
    },
    {
     "data": {
      "image/png": "[encoded data removed]",
      "text/plain": [
       "<Figure size 1152x576 with 1 Axes>"
      ]
     },
     "metadata": {
      "needs_background": "light"
     },
     "output_type": "display_data"
    }
   ],
   "source": [
    "data_fht.plot.box(figsize=(16,8))"
   ]
  },
  {
   "cell_type": "code",
   "execution_count": 25,
   "metadata": {},
   "outputs": [
    {
     "data": {
      "text/plain": [
       "115023"
      ]
     },
     "execution_count": 25,
     "metadata": {},
     "output_type": "execute_result"
    }
   ],
   "source": [
    "len(data_fht[data_fht < data_fht.mean()])"
   ]
  },
  {
   "cell_type": "code",
   "execution_count": 26,
   "metadata": {},
   "outputs": [
    {
     "data": {
      "text/plain": [
       "66.20066878082753"
      ]
     },
     "execution_count": 26,
     "metadata": {},
     "output_type": "execute_result"
    }
   ],
   "source": [
    "len(data_fht[data_fht < data_fht.mean()])/len(data_fht)*100"
   ]
  },
  {
   "cell_type": "code",
   "execution_count": 27,
   "metadata": {},
   "outputs": [
    {
     "data": {
      "text/plain": [
       "49.83107816447864"
      ]
     },
     "execution_count": 27,
     "metadata": {},
     "output_type": "execute_result"
    }
   ],
   "source": [
    "len(data_fht[data_fht < data_fht.median()])/len(data_fht)*100"
   ]
  },
  {
   "cell_type": "markdown",
   "metadata": {},
   "source": [
    "65% van alle herstel tijden zit onder het gemiddelde (102 min)\n",
    "\n",
    "49% van alle herstel tijden zit onder de mediaan (82 min)\n",
    "\n"
   ]
  },
  {
   "cell_type": "code",
   "execution_count": 28,
   "metadata": {},
   "outputs": [
    {
     "data": {
      "text/html": [
       "<div>\n",
       "<style scoped>\n",
       "    .dataframe tbody tr th:only-of-type {\n",
       "        vertical-align: middle;\n",
       "    }\n",
       "\n",
       "    .dataframe tbody tr th {\n",
       "        vertical-align: top;\n",
       "    }\n",
       "\n",
       "    .dataframe thead th {\n",
       "        text-align: right;\n",
       "    }\n",
       "</style>\n",
       "<table border=\"1\" class=\"dataframe\">\n",
       "  <thead>\n",
       "    <tr style=\"text-align: right;\">\n",
       "      <th></th>\n",
       "      <th>Echte_hersteltijd</th>\n",
       "      <th>mediaan</th>\n",
       "      <th>mean</th>\n",
       "    </tr>\n",
       "  </thead>\n",
       "  <tbody>\n",
       "    <tr>\n",
       "      <th>31</th>\n",
       "      <td>62.0</td>\n",
       "      <td>38.0</td>\n",
       "      <td>57.25839</td>\n",
       "    </tr>\n",
       "    <tr>\n",
       "      <th>44</th>\n",
       "      <td>40.0</td>\n",
       "      <td>38.0</td>\n",
       "      <td>57.25839</td>\n",
       "    </tr>\n",
       "    <tr>\n",
       "      <th>45</th>\n",
       "      <td>214.0</td>\n",
       "      <td>38.0</td>\n",
       "      <td>57.25839</td>\n",
       "    </tr>\n",
       "    <tr>\n",
       "      <th>65</th>\n",
       "      <td>49.0</td>\n",
       "      <td>38.0</td>\n",
       "      <td>57.25839</td>\n",
       "    </tr>\n",
       "    <tr>\n",
       "      <th>101</th>\n",
       "      <td>350.0</td>\n",
       "      <td>38.0</td>\n",
       "      <td>57.25839</td>\n",
       "    </tr>\n",
       "  </tbody>\n",
       "</table>\n",
       "</div>"
      ],
      "text/plain": [
       "     Echte_hersteltijd  mediaan      mean\n",
       "31                62.0     38.0  57.25839\n",
       "44                40.0     38.0  57.25839\n",
       "45               214.0     38.0  57.25839\n",
       "65                49.0     38.0  57.25839\n",
       "101              350.0     38.0  57.25839"
      ]
     },
     "execution_count": 28,
     "metadata": {},
     "output_type": "execute_result"
    }
   ],
   "source": [
    "data_fht = data_fht.to_frame()\n",
    "#data_fht['mediaan'] = data_fht['stm_fh_duur'].median()\n",
    "data_fht['mediaan'] = data_fht['Echte_hersteltijd'].median()\n",
    "#data_fht['mean'] = data_fht['stm_fh_duur'].mean()\n",
    "data_fht['mean'] = data_fht['Echte_hersteltijd'].mean()\n",
    "data_fht.head()"
   ]
  },
  {
   "cell_type": "code",
   "execution_count": 29,
   "metadata": {},
   "outputs": [
    {
     "data": {
      "text/plain": [
       "56.96841997740195"
      ]
     },
     "execution_count": 29,
     "metadata": {},
     "output_type": "execute_result"
    }
   ],
   "source": [
    "# de score bepalen aan de hand van de RSME\n",
    "#np.sqrt(mean_squared_error(data_fht.loc[:,'stm_fh_duur'],data_fht.loc[:,'mean']))\n",
    "np.sqrt(mean_squared_error(data_fht.loc[:,'Echte_hersteltijd'],data_fht.loc[:,'mean']))"
   ]
  },
  {
   "cell_type": "code",
   "execution_count": 30,
   "metadata": {},
   "outputs": [
    {
     "data": {
      "text/plain": [
       "60.13556733915997"
      ]
     },
     "execution_count": 30,
     "metadata": {},
     "output_type": "execute_result"
    }
   ],
   "source": [
    "#de score bepalen aan de hand van de RSME\n",
    "#np.sqrt(mean_squared_error(data_fht.loc[:,'stm_fh_duur'],data_fht.loc[:,'mediaan']))\n",
    "np.sqrt(mean_squared_error(data_fht.loc[:,'Echte_hersteltijd'],data_fht.loc[:,'mediaan']))"
   ]
  },
  {
   "cell_type": "markdown",
   "metadata": {},
   "source": [
    "# KNeighborsclassifier\n"
   ]
  },
  {
   "cell_type": "code",
   "execution_count": 31,
   "metadata": {},
   "outputs": [],
   "source": [
    "X = df_filtered[['stm_km_van_mld','stm_oorz_code' ,'stm_prioriteit', 'Dag_van_jaar', 'Jaar', 'Minuut_van_dag']]\n",
    "#y = df_filtered[['stm_fh_duur']] # oude niet 'echte' hersteltijd.\n",
    "y = df_filtered[['Echte_hersteltijd']]"
   ]
  },
  {
   "cell_type": "code",
   "execution_count": 32,
   "metadata": {},
   "outputs": [],
   "source": [
    "from sklearn.model_selection import train_test_split\n",
    "\n",
    "X_train, X_test, y_train, y_test = train_test_split(X, y, test_size=0.1, random_state=None)"
   ]
  },
  {
   "cell_type": "code",
   "execution_count": 33,
   "metadata": {},
   "outputs": [
    {
     "data": {
      "text/plain": [
       "KNeighborsClassifier()"
      ]
     },
     "execution_count": 33,
     "metadata": {},
     "output_type": "execute_result"
    }
   ],
   "source": [
    "from sklearn.neighbors import KNeighborsClassifier\n",
    "\n",
    "clf = KNeighborsClassifier()\n",
    "\n",
    "clf"
   ]
  },
  {
   "cell_type": "code",
   "execution_count": 34,
   "metadata": {},
   "outputs": [
    {
     "name": "stderr",
     "output_type": "stream",
     "text": [
      "<ipython-input-34-4f66baab8f93>:1: DataConversionWarning: A column-vector y was passed when a 1d array was expected. Please change the shape of y to (n_samples, ), for example using ravel().\n",
      "  clf.fit(X_train, y_train)\n"
     ]
    },
    {
     "data": {
      "text/plain": [
       "KNeighborsClassifier()"
      ]
     },
     "execution_count": 34,
     "metadata": {},
     "output_type": "execute_result"
    }
   ],
   "source": [
    "clf.fit(X_train, y_train)"
   ]
  },
  {
   "cell_type": "code",
   "execution_count": 35,
   "metadata": {},
   "outputs": [],
   "source": [
    "y_pred_train = clf.predict(X_train)\n",
    "\n",
    "y_pred_test = clf.predict(X_test)"
   ]
  },
  {
   "cell_type": "code",
   "execution_count": 36,
   "metadata": {},
   "outputs": [
    {
     "name": "stdout",
     "output_type": "stream",
     "text": [
      "Accuracy traindata\n",
      "0.2278447823807027\n",
      "\n",
      "Accuracy testdata\n",
      "0.021237410071942447\n"
     ]
    }
   ],
   "source": [
    "from sklearn.metrics import accuracy_score\n",
    "\n",
    "print('Accuracy traindata')\n",
    "print(accuracy_score(y_train, y_pred_train))\n",
    "\n",
    "print('')\n",
    "print('Accuracy testdata')\n",
    "print(accuracy_score(y_test, y_pred_test))"
   ]
  },
  {
   "cell_type": "code",
   "execution_count": 37,
   "metadata": {},
   "outputs": [
    {
     "name": "stdout",
     "output_type": "stream",
     "text": [
      "69.94063093878341\n"
     ]
    }
   ],
   "source": [
    "y_pred_test_KN = clf.predict(X_test)\n",
    "\n",
    "error_metric_KN = np.sqrt(mean_squared_error(y_pred=y_pred_test, y_true=y_test))\n",
    "print(error_metric_KN)"
   ]
  },
  {
   "cell_type": "code",
   "execution_count": 38,
   "metadata": {},
   "outputs": [
    {
     "data": {
      "text/plain": [
       "count    1.737490e+05\n",
       "mean     3.216044e+04\n",
       "std      1.403069e+05\n",
       "min      0.000000e+00\n",
       "25%      0.000000e+00\n",
       "50%      1.293000e+04\n",
       "75%      4.395000e+04\n",
       "max      5.058500e+07\n",
       "Name: stm_km_van_mld, dtype: float64"
      ]
     },
     "execution_count": 38,
     "metadata": {},
     "output_type": "execute_result"
    }
   ],
   "source": [
    "df_filtered['stm_km_van_mld'].describe()"
   ]
  },
  {
   "cell_type": "markdown",
   "metadata": {},
   "source": [
    "# linear regression "
   ]
  },
  {
   "cell_type": "code",
   "execution_count": 84,
   "metadata": {},
   "outputs": [],
   "source": [
    "X = df_filtered[['stm_km_van_mld', 'stm_prioriteit', 'Dag_van_jaar', 'Jaar', 'Minuut_van_dag']]\n",
    "#y = df_filtered[['stm_fh_duur']]\n",
    "y= df_filtered[['Echte_hersteltijd']]"
   ]
  },
  {
   "cell_type": "code",
   "execution_count": 85,
   "metadata": {},
   "outputs": [],
   "source": [
    "# de data splitsen in training en testing data\n",
    "from sklearn.model_selection import train_test_split\n",
    "# test_size\n",
    "X_train, X_test, y_train,y_test = train_test_split(X,y, test_size=0.1, random_state=None) "
   ]
  },
  {
   "cell_type": "code",
   "execution_count": 86,
   "metadata": {},
   "outputs": [],
   "source": [
    "from sklearn.linear_model import LinearRegression"
   ]
  },
  {
   "cell_type": "code",
   "execution_count": 87,
   "metadata": {},
   "outputs": [],
   "source": [
    "linear_reg_model = LinearRegression()"
   ]
  },
  {
   "cell_type": "code",
   "execution_count": 88,
   "metadata": {},
   "outputs": [
    {
     "data": {
      "text/plain": [
       "LinearRegression()"
      ]
     },
     "execution_count": 88,
     "metadata": {},
     "output_type": "execute_result"
    }
   ],
   "source": [
    "linear_reg_model.fit(X_train, y_train)"
   ]
  },
  {
   "cell_type": "code",
   "execution_count": 89,
   "metadata": {},
   "outputs": [
    {
     "name": "stdout",
     "output_type": "stream",
     "text": [
      "57.13778528005483\n"
     ]
    }
   ],
   "source": [
    "from sklearn.metrics import mean_squared_error\n",
    "\n",
    "y_pred_test = linear_reg_model.predict(X_test)\n",
    "\n",
    "error_metric = np.sqrt(mean_squared_error(y_pred=y_pred_test, y_true=y_test))\n",
    "print(error_metric)"
   ]
  },
  {
   "cell_type": "code",
   "execution_count": 90,
   "metadata": {},
   "outputs": [
    {
     "data": {
      "text/plain": [
       "Text(0.5, 1.0, 'voorspelling tegen over daadwerkelijke data')"
      ]
     },
     "execution_count": 90,
     "metadata": {},
     "output_type": "execute_result"
    },
    {
     "data": {
      "image/png": "[encoded data removed]",
      "text/plain": [
       "<Figure size 432x288 with 1 Axes>"
      ]
     },
     "metadata": {
      "needs_background": "light"
     },
     "output_type": "display_data"
    }
   ],
   "source": [
    "# model plotten en lineare regressie er in verwerken\n",
    "fig, ax = plt.subplots()\n",
    "ax.scatter(y_test, y_pred_test)\n",
    "ax.plot(y_test, y_test, color='red')\n",
    "ax.set_xlabel('testing')\n",
    "ax.set_ylabel('predicting')\n",
    "ax.set_title('voorspelling tegen over daadwerkelijke data')"
   ]
  },
  {
   "cell_type": "code",
   "execution_count": 91,
   "metadata": {},
   "outputs": [
    {
     "data": {
      "text/plain": [
       "array([[54.69104572]])"
      ]
     },
     "execution_count": 91,
     "metadata": {},
     "output_type": "execute_result"
    }
   ],
   "source": [
    "from collections import OrderedDict\n",
    "new_data = OrderedDict([\n",
    "    ('stm_km_van_mld',40),\n",
    "    ('stm_prioriteit',6),\n",
    "    ('Dag_van_jaar',150),\n",
    "    ('Jaar',2020),\n",
    "    ('Minuut_van_dag', 940)\n",
    "])\n",
    "\n",
    "new_data = pd.Series(new_data).values.reshape(1,-1)\n",
    "\n",
    "linear_reg_model.predict(new_data)"
   ]
  },
  {
   "cell_type": "markdown",
   "metadata": {},
   "source": [
    "Het linear regression model geeft een RMSE van 55.9 "
   ]
  },
  {
   "cell_type": "code",
   "execution_count": 47,
   "metadata": {},
   "outputs": [
    {
     "data": {
      "text/plain": [
       "173749"
      ]
     },
     "execution_count": 47,
     "metadata": {},
     "output_type": "execute_result"
    }
   ],
   "source": [
    "len(df_filtered)"
   ]
  },
  {
   "cell_type": "markdown",
   "metadata": {},
   "source": [
    "# Decision Tree\n"
   ]
  },
  {
   "cell_type": "code",
   "execution_count": 48,
   "metadata": {},
   "outputs": [],
   "source": [
    "import pandas as pd\n",
    "from sklearn.tree import DecisionTreeClassifier # Import Decision Tree Classifier\n",
    "from sklearn.model_selection import train_test_split # Import train_test_split function\n",
    "from sklearn import metrics #Import scikit-learn metrics module for accuracy calculation"
   ]
  },
  {
   "cell_type": "code",
   "execution_count": 49,
   "metadata": {},
   "outputs": [
    {
     "data": {
      "text/plain": [
       "31        ONR-DERD\n",
       "44        ONR-DERD\n",
       "45        ONR-DERD\n",
       "65        ONR-DERD\n",
       "101           WEER\n",
       "            ...   \n",
       "898274     ONR-RIB\n",
       "898275     TECHONV\n",
       "898277     TECHONV\n",
       "898322    ONR-DERD\n",
       "898422     TECHONV\n",
       "Name: stm_oorz_groep, Length: 173749, dtype: object"
      ]
     },
     "execution_count": 49,
     "metadata": {},
     "output_type": "execute_result"
    }
   ],
   "source": [
    "df_filtered['stm_oorz_groep']"
   ]
  },
  {
   "cell_type": "code",
   "execution_count": 57,
   "metadata": {},
   "outputs": [
    {
     "data": {
      "text/html": [
       "<div>\n",
       "<style scoped>\n",
       "    .dataframe tbody tr th:only-of-type {\n",
       "        vertical-align: middle;\n",
       "    }\n",
       "\n",
       "    .dataframe tbody tr th {\n",
       "        vertical-align: top;\n",
       "    }\n",
       "\n",
       "    .dataframe thead th {\n",
       "        text-align: right;\n",
       "    }\n",
       "</style>\n",
       "<table border=\"1\" class=\"dataframe\">\n",
       "  <thead>\n",
       "    <tr style=\"text-align: right;\">\n",
       "      <th></th>\n",
       "      <th>Uur_herstel</th>\n",
       "      <th>Min_van_uur_herstel</th>\n",
       "      <th>Minuut_van_dag_herstel</th>\n",
       "      <th>Uur_hersteld</th>\n",
       "      <th>Min_van_uur_hersteld</th>\n",
       "      <th>Minuut_van_dag_hersteld</th>\n",
       "      <th>Echte_hersteltijd</th>\n",
       "      <th>Unnamed: 0</th>\n",
       "      <th>#stm_sap_meldnr</th>\n",
       "      <th>stm_mon_nr</th>\n",
       "      <th>...</th>\n",
       "      <th>stm_sap_storeindtijd</th>\n",
       "      <th>stm_oorz_tekst_kort</th>\n",
       "      <th>stm_pplg_van</th>\n",
       "      <th>stm_pplg_naar</th>\n",
       "      <th>stm_dstrglp_van</th>\n",
       "      <th>stm_dstrglp_naar</th>\n",
       "      <th>stm_oorz_groep_ONR-DERD</th>\n",
       "      <th>stm_oorz_groep_ONR-RIB</th>\n",
       "      <th>stm_oorz_groep_TECHONV</th>\n",
       "      <th>stm_oorz_groep_WEER</th>\n",
       "    </tr>\n",
       "  </thead>\n",
       "  <tbody>\n",
       "    <tr>\n",
       "      <th>31</th>\n",
       "      <td>0</td>\n",
       "      <td>0</td>\n",
       "      <td>0</td>\n",
       "      <td>1.0</td>\n",
       "      <td>2.0</td>\n",
       "      <td>62.0</td>\n",
       "      <td>62.0</td>\n",
       "      <td>31</td>\n",
       "      <td>50053257</td>\n",
       "      <td>0.0</td>\n",
       "      <td>...</td>\n",
       "      <td>01:02:00</td>\n",
       "      <td>Suicidaal persoon langs het spoor.</td>\n",
       "      <td>NaN</td>\n",
       "      <td>NaN</td>\n",
       "      <td>NaN</td>\n",
       "      <td>NaN</td>\n",
       "      <td>1</td>\n",
       "      <td>0</td>\n",
       "      <td>0</td>\n",
       "      <td>0</td>\n",
       "    </tr>\n",
       "    <tr>\n",
       "      <th>44</th>\n",
       "      <td>0</td>\n",
       "      <td>0</td>\n",
       "      <td>0</td>\n",
       "      <td>0.0</td>\n",
       "      <td>40.0</td>\n",
       "      <td>40.0</td>\n",
       "      <td>40.0</td>\n",
       "      <td>44</td>\n",
       "      <td>50053290</td>\n",
       "      <td>0.0</td>\n",
       "      <td>...</td>\n",
       "      <td>00:40:00</td>\n",
       "      <td>Mcn meldt suicidaal persoon thv station.</td>\n",
       "      <td>NaN</td>\n",
       "      <td>NaN</td>\n",
       "      <td>NaN</td>\n",
       "      <td>NaN</td>\n",
       "      <td>1</td>\n",
       "      <td>0</td>\n",
       "      <td>0</td>\n",
       "      <td>0</td>\n",
       "    </tr>\n",
       "    <tr>\n",
       "      <th>45</th>\n",
       "      <td>0</td>\n",
       "      <td>0</td>\n",
       "      <td>0</td>\n",
       "      <td>3.0</td>\n",
       "      <td>34.0</td>\n",
       "      <td>214.0</td>\n",
       "      <td>214.0</td>\n",
       "      <td>45</td>\n",
       "      <td>50053292</td>\n",
       "      <td>0.0</td>\n",
       "      <td>...</td>\n",
       "      <td>03:34:00</td>\n",
       "      <td>op overweg 22.9 zijn fietsen neergelegd&gt;</td>\n",
       "      <td>NaN</td>\n",
       "      <td>NaN</td>\n",
       "      <td>NaN</td>\n",
       "      <td>NaN</td>\n",
       "      <td>1</td>\n",
       "      <td>0</td>\n",
       "      <td>0</td>\n",
       "      <td>0</td>\n",
       "    </tr>\n",
       "    <tr>\n",
       "      <th>65</th>\n",
       "      <td>0</td>\n",
       "      <td>0</td>\n",
       "      <td>0</td>\n",
       "      <td>0.0</td>\n",
       "      <td>49.0</td>\n",
       "      <td>49.0</td>\n",
       "      <td>49.0</td>\n",
       "      <td>67</td>\n",
       "      <td>50053366</td>\n",
       "      <td>1.0</td>\n",
       "      <td>...</td>\n",
       "      <td>00:49:00</td>\n",
       "      <td>ree</td>\n",
       "      <td>NaN</td>\n",
       "      <td>NaN</td>\n",
       "      <td>Dv</td>\n",
       "      <td>Apda</td>\n",
       "      <td>1</td>\n",
       "      <td>0</td>\n",
       "      <td>0</td>\n",
       "      <td>0</td>\n",
       "    </tr>\n",
       "    <tr>\n",
       "      <th>101</th>\n",
       "      <td>0</td>\n",
       "      <td>0</td>\n",
       "      <td>0</td>\n",
       "      <td>5.0</td>\n",
       "      <td>50.0</td>\n",
       "      <td>350.0</td>\n",
       "      <td>350.0</td>\n",
       "      <td>103</td>\n",
       "      <td>50053412</td>\n",
       "      <td>7.0</td>\n",
       "      <td>...</td>\n",
       "      <td>05:50:00</td>\n",
       "      <td>Rijp op bovenleiding</td>\n",
       "      <td>NaN</td>\n",
       "      <td>NaN</td>\n",
       "      <td>Hde</td>\n",
       "      <td>NaN</td>\n",
       "      <td>0</td>\n",
       "      <td>0</td>\n",
       "      <td>0</td>\n",
       "      <td>1</td>\n",
       "    </tr>\n",
       "    <tr>\n",
       "      <th>...</th>\n",
       "      <td>...</td>\n",
       "      <td>...</td>\n",
       "      <td>...</td>\n",
       "      <td>...</td>\n",
       "      <td>...</td>\n",
       "      <td>...</td>\n",
       "      <td>...</td>\n",
       "      <td>...</td>\n",
       "      <td>...</td>\n",
       "      <td>...</td>\n",
       "      <td>...</td>\n",
       "      <td>...</td>\n",
       "      <td>...</td>\n",
       "      <td>...</td>\n",
       "      <td>...</td>\n",
       "      <td>...</td>\n",
       "      <td>...</td>\n",
       "      <td>...</td>\n",
       "      <td>...</td>\n",
       "      <td>...</td>\n",
       "      <td>...</td>\n",
       "    </tr>\n",
       "    <tr>\n",
       "      <th>898274</th>\n",
       "      <td>8</td>\n",
       "      <td>17</td>\n",
       "      <td>497</td>\n",
       "      <td>11.0</td>\n",
       "      <td>52.0</td>\n",
       "      <td>712.0</td>\n",
       "      <td>215.0</td>\n",
       "      <td>908378</td>\n",
       "      <td>99003150</td>\n",
       "      <td>0.0</td>\n",
       "      <td>...</td>\n",
       "      <td>00:00:00</td>\n",
       "      <td>NaN</td>\n",
       "      <td>NaN</td>\n",
       "      <td>NaN</td>\n",
       "      <td>NaN</td>\n",
       "      <td>NaN</td>\n",
       "      <td>0</td>\n",
       "      <td>1</td>\n",
       "      <td>0</td>\n",
       "      <td>0</td>\n",
       "    </tr>\n",
       "    <tr>\n",
       "      <th>898275</th>\n",
       "      <td>11</td>\n",
       "      <td>20</td>\n",
       "      <td>680</td>\n",
       "      <td>11.0</td>\n",
       "      <td>54.0</td>\n",
       "      <td>714.0</td>\n",
       "      <td>34.0</td>\n",
       "      <td>908379</td>\n",
       "      <td>99003151</td>\n",
       "      <td>0.0</td>\n",
       "      <td>...</td>\n",
       "      <td>11:54:00</td>\n",
       "      <td>NaN</td>\n",
       "      <td>NaN</td>\n",
       "      <td>NaN</td>\n",
       "      <td>NaN</td>\n",
       "      <td>NaN</td>\n",
       "      <td>0</td>\n",
       "      <td>0</td>\n",
       "      <td>1</td>\n",
       "      <td>0</td>\n",
       "    </tr>\n",
       "    <tr>\n",
       "      <th>898277</th>\n",
       "      <td>13</td>\n",
       "      <td>1</td>\n",
       "      <td>781</td>\n",
       "      <td>13.0</td>\n",
       "      <td>21.0</td>\n",
       "      <td>801.0</td>\n",
       "      <td>20.0</td>\n",
       "      <td>908381</td>\n",
       "      <td>99003153</td>\n",
       "      <td>0.0</td>\n",
       "      <td>...</td>\n",
       "      <td>13:22:00</td>\n",
       "      <td>NaN</td>\n",
       "      <td>NaN</td>\n",
       "      <td>NaN</td>\n",
       "      <td>NaN</td>\n",
       "      <td>NaN</td>\n",
       "      <td>0</td>\n",
       "      <td>0</td>\n",
       "      <td>1</td>\n",
       "      <td>0</td>\n",
       "    </tr>\n",
       "    <tr>\n",
       "      <th>898322</th>\n",
       "      <td>15</td>\n",
       "      <td>13</td>\n",
       "      <td>913</td>\n",
       "      <td>15.0</td>\n",
       "      <td>42.0</td>\n",
       "      <td>942.0</td>\n",
       "      <td>29.0</td>\n",
       "      <td>908426</td>\n",
       "      <td>99003175</td>\n",
       "      <td>0.0</td>\n",
       "      <td>...</td>\n",
       "      <td>15:43:00</td>\n",
       "      <td>NaN</td>\n",
       "      <td>NaN</td>\n",
       "      <td>NaN</td>\n",
       "      <td>NaN</td>\n",
       "      <td>19/10/2013</td>\n",
       "      <td>1</td>\n",
       "      <td>0</td>\n",
       "      <td>0</td>\n",
       "      <td>0</td>\n",
       "    </tr>\n",
       "    <tr>\n",
       "      <th>898422</th>\n",
       "      <td>13</td>\n",
       "      <td>19</td>\n",
       "      <td>799</td>\n",
       "      <td>18.0</td>\n",
       "      <td>1.0</td>\n",
       "      <td>1081.0</td>\n",
       "      <td>282.0</td>\n",
       "      <td>908526</td>\n",
       "      <td>99003211</td>\n",
       "      <td>0.0</td>\n",
       "      <td>...</td>\n",
       "      <td>07:52:19</td>\n",
       "      <td>vertragingen blijken het nu goed te blij</td>\n",
       "      <td>NaN</td>\n",
       "      <td>NaN</td>\n",
       "      <td>NaN</td>\n",
       "      <td>NaN</td>\n",
       "      <td>0</td>\n",
       "      <td>0</td>\n",
       "      <td>1</td>\n",
       "      <td>0</td>\n",
       "    </tr>\n",
       "  </tbody>\n",
       "</table>\n",
       "<p>173749 rows × 75 columns</p>\n",
       "</div>"
      ],
      "text/plain": [
       "        Uur_herstel  Min_van_uur_herstel  Minuut_van_dag_herstel  \\\n",
       "31                0                    0                       0   \n",
       "44                0                    0                       0   \n",
       "45                0                    0                       0   \n",
       "65                0                    0                       0   \n",
       "101               0                    0                       0   \n",
       "...             ...                  ...                     ...   \n",
       "898274            8                   17                     497   \n",
       "898275           11                   20                     680   \n",
       "898277           13                    1                     781   \n",
       "898322           15                   13                     913   \n",
       "898422           13                   19                     799   \n",
       "\n",
       "        Uur_hersteld  Min_van_uur_hersteld  Minuut_van_dag_hersteld  \\\n",
       "31               1.0                   2.0                     62.0   \n",
       "44               0.0                  40.0                     40.0   \n",
       "45               3.0                  34.0                    214.0   \n",
       "65               0.0                  49.0                     49.0   \n",
       "101              5.0                  50.0                    350.0   \n",
       "...              ...                   ...                      ...   \n",
       "898274          11.0                  52.0                    712.0   \n",
       "898275          11.0                  54.0                    714.0   \n",
       "898277          13.0                  21.0                    801.0   \n",
       "898322          15.0                  42.0                    942.0   \n",
       "898422          18.0                   1.0                   1081.0   \n",
       "\n",
       "        Echte_hersteltijd Unnamed: 0  #stm_sap_meldnr  stm_mon_nr  ...  \\\n",
       "31                   62.0         31         50053257         0.0  ...   \n",
       "44                   40.0         44         50053290         0.0  ...   \n",
       "45                  214.0         45         50053292         0.0  ...   \n",
       "65                   49.0         67         50053366         1.0  ...   \n",
       "101                 350.0        103         50053412         7.0  ...   \n",
       "...                   ...        ...              ...         ...  ...   \n",
       "898274              215.0     908378         99003150         0.0  ...   \n",
       "898275               34.0     908379         99003151         0.0  ...   \n",
       "898277               20.0     908381         99003153         0.0  ...   \n",
       "898322               29.0     908426         99003175         0.0  ...   \n",
       "898422              282.0     908526         99003211         0.0  ...   \n",
       "\n",
       "       stm_sap_storeindtijd                       stm_oorz_tekst_kort  \\\n",
       "31                 01:02:00        Suicidaal persoon langs het spoor.   \n",
       "44                 00:40:00  Mcn meldt suicidaal persoon thv station.   \n",
       "45                 03:34:00  op overweg 22.9 zijn fietsen neergelegd>   \n",
       "65                 00:49:00                                       ree   \n",
       "101                05:50:00                      Rijp op bovenleiding   \n",
       "...                     ...                                       ...   \n",
       "898274             00:00:00                                       NaN   \n",
       "898275             11:54:00                                       NaN   \n",
       "898277             13:22:00                                       NaN   \n",
       "898322             15:43:00                                       NaN   \n",
       "898422             07:52:19  vertragingen blijken het nu goed te blij   \n",
       "\n",
       "        stm_pplg_van  stm_pplg_naar  stm_dstrglp_van  stm_dstrglp_naar  \\\n",
       "31               NaN            NaN              NaN               NaN   \n",
       "44               NaN            NaN              NaN               NaN   \n",
       "45               NaN            NaN              NaN               NaN   \n",
       "65               NaN            NaN               Dv              Apda   \n",
       "101              NaN            NaN              Hde               NaN   \n",
       "...              ...            ...              ...               ...   \n",
       "898274           NaN            NaN              NaN               NaN   \n",
       "898275           NaN            NaN              NaN               NaN   \n",
       "898277           NaN            NaN              NaN               NaN   \n",
       "898322           NaN            NaN              NaN        19/10/2013   \n",
       "898422           NaN            NaN              NaN               NaN   \n",
       "\n",
       "        stm_oorz_groep_ONR-DERD stm_oorz_groep_ONR-RIB stm_oorz_groep_TECHONV  \\\n",
       "31                            1                      0                      0   \n",
       "44                            1                      0                      0   \n",
       "45                            1                      0                      0   \n",
       "65                            1                      0                      0   \n",
       "101                           0                      0                      0   \n",
       "...                         ...                    ...                    ...   \n",
       "898274                        0                      1                      0   \n",
       "898275                        0                      0                      1   \n",
       "898277                        0                      0                      1   \n",
       "898322                        1                      0                      0   \n",
       "898422                        0                      0                      1   \n",
       "\n",
       "       stm_oorz_groep_WEER  \n",
       "31                       0  \n",
       "44                       0  \n",
       "45                       0  \n",
       "65                       0  \n",
       "101                      1  \n",
       "...                    ...  \n",
       "898274                   0  \n",
       "898275                   0  \n",
       "898277                   0  \n",
       "898322                   0  \n",
       "898422                   0  \n",
       "\n",
       "[173749 rows x 75 columns]"
      ]
     },
     "execution_count": 57,
     "metadata": {},
     "output_type": "execute_result"
    }
   ],
   "source": [
    "df2  = pd.get_dummies(df_filtered, columns=[\"stm_oorz_groep\"])\n",
    "df2"
   ]
  },
  {
   "cell_type": "code",
   "execution_count": 59,
   "metadata": {},
   "outputs": [],
   "source": [
    "X = df2[['stm_km_van_mld','stm_oorz_code','stm_geo_mld','stm_oorz_groep_WEER','stm_prioriteit', 'Dag_van_jaar', 'Jaar', 'Minuut_van_dag']]\n",
    "#y = df_filtered[['stm_fh_duur']] # oude niet 'echte' hersteltijd.\n",
    "y = df2[['Echte_hersteltijd']]"
   ]
  },
  {
   "cell_type": "code",
   "execution_count": 72,
   "metadata": {},
   "outputs": [],
   "source": [
    "X_train, X_test, y_train, y_test = train_test_split(X, y, test_size=0.1, random_state=0)"
   ]
  },
  {
   "cell_type": "code",
   "execution_count": 73,
   "metadata": {},
   "outputs": [],
   "source": [
    "clf = DecisionTreeClassifier()\n",
    "\n",
    "# Train Decision Tree Classifer\n",
    "clf = clf.fit(X_train,y_train)\n",
    "\n",
    "#Predict the response for test dataset\n",
    "y_pred = clf.predict(X_test)"
   ]
  },
  {
   "cell_type": "code",
   "execution_count": 74,
   "metadata": {},
   "outputs": [
    {
     "name": "stdout",
     "output_type": "stream",
     "text": [
      "Accuracy: 0.016115107913669064\n"
     ]
    }
   ],
   "source": [
    "print(\"Accuracy:\",metrics.accuracy_score(y_test, y_pred))"
   ]
  },
  {
   "cell_type": "code",
   "execution_count": 75,
   "metadata": {},
   "outputs": [
    {
     "name": "stdout",
     "output_type": "stream",
     "text": [
      "57.12592820518196\n"
     ]
    }
   ],
   "source": [
    "y_pred_test_TC = clf.predict(X_test)\n",
    "\n",
    "error_metric_TC = np.sqrt(mean_squared_error(y_pred=y_pred_test, y_true=y_test))\n",
    "print(error_metric_TC)"
   ]
  },
  {
   "cell_type": "code",
   "execution_count": null,
   "metadata": {},
   "outputs": [],
   "source": [
    "df_filtered['stm_contractgeb_mld']"
   ]
  },
  {
   "cell_type": "code",
   "execution_count": null,
   "metadata": {},
   "outputs": [],
   "source": [
    "df_filtered['stm_geo_mld']"
   ]
  },
  {
   "cell_type": "code",
   "execution_count": null,
   "metadata": {},
   "outputs": [],
   "source": [
    "df_filtered['stm_oorz_groep']"
   ]
  },
  {
   "cell_type": "code",
   "execution_count": null,
   "metadata": {},
   "outputs": [],
   "source": []
  },
  {
   "cell_type": "code",
   "execution_count": null,
   "metadata": {},
   "outputs": [],
   "source": []
  }
 ],
 "metadata": {
  "kernelspec": {
   "display_name": "Python 3",
   "language": "python",
   "name": "python3"
  },
  "language_info": {
   "codemirror_mode": {
    "name": "ipython",
    "version": 3
   },
   "file_extension": ".py",
   "mimetype": "text/x-python",
   "name": "python",
   "nbconvert_exporter": "python",
   "pygments_lexer": "ipython3",
   "version": "3.8.3"
  }
 },
 "nbformat": 4,
 "nbformat_minor": 4
}
