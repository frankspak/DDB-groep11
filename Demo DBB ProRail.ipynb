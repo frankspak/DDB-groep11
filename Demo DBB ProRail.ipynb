{
 "cells": [
  {
   "cell_type": "code",
   "execution_count": 1,
   "metadata": {},
   "outputs": [],
   "source": [
    "import pandas as pd\n",
    "import numpy as np\n",
    "import math\n",
    "import random\n",
    "from matplotlib import pyplot as plt\n",
    "import seaborn as sns\n",
    "from sklearn.metrics import mean_squared_error\n",
    "import datetime"
   ]
  },
  {
   "cell_type": "code",
   "execution_count": 2,
   "metadata": {},
   "outputs": [
    {
     "name": "stdout",
     "output_type": "stream",
     "text": [
      "Done\n"
     ]
    }
   ],
   "source": [
    "filename = \"sap_storing_data_hu_project.csv\" \n",
    "df_not_cleaned = pd.read_csv(filename, low_memory=False)\n",
    "#verwijder alle kolommen die niet van gebruik zijn:\n",
    "df = df_not_cleaned.drop(columns=['stm_sap_mon_meld_ddt', 'stm_mon_begin_ddt', 'stm_mon_toelichting_trdl', 'stm_oh_pg_mld', 'stm_geo_mld_uit_functiepl', 'stm_scenario_mon', 'stm_status_melding_sap', 'stm_mon_nr_status_omschr', 'stm_mon_nr__statuscode', 'stm_mon_nr_status_wijzdd', 'stm_aanntpl_ddt', 'stm_geo_gst_uit_functiepl', 'stm_objectdl_code_gst', 'stm_objectdl_groep_gst', 'stm_progfh_in_ddt', 'stm_progfh_in_invoer_ddt', 'stm_progfh_gw_ddt', 'stm_progfh_gw_lwd_ddt', 'stm_progfh_hz', 'stm_veroorz_groep', 'stm_veroorz_code', 'stm_progfh_gw_duur', 'stm_progfh_gw_lwd_tijd', 'stm_progfh_gw_lwd_datum', 'stm_progfh_gw_datum', 'stm_arbeid', 'stm_functiepl_gst', 'stm_functiepl_mld', 'stm_mon_begintijd', 'stm_mon_begindatum', 'stm_aangelegd_tijd', 'stm_aangelegd_dd', 'stm_dir_betrok_tr', 'stm_evb', 'stm_mon_vhdsincident', 'stm_mon_eind_ddt', 'stm_afspr_aanvangddt', 'stm_effect', 'stm_veroorz_tekst_kort', 'stm_projnr', 'stm_wbi_nummer', 'stm_status_gebr', 'stm_standplaats', 'stm_actie', 'stm_hinderwaarde', 'stm_rec_toegev_ddt', 'stm_afsluit_tijd', 'stm_afsluit_dd', 'stm_afsluit_ddt', 'stm_akkoord_melding_jn', 'stm_fact_jn', 'stm_status_sapnaarmon', 'stm_akkoord_mon_toewijz', 'stm_controle_dd', 'stm_mon_eind_tijd', 'stm_mon_eind_datum', 'stm_reactie_duur', 'stm_afspr_aanvangtijd', 'stm_afspr_aanvangdd', 'stm_historie_toelichting', 'stm_schade_verhaalb_jn', 'stm_x_bron_arch_dt', 'stm_x_bron_bestandsnaam', 'stm_x_bron_publ_dt', 'stm_rapportage_jaar', 'stm_rapportage_maand', 'stm_sorteerveld', 'stm_afspr_func_hersteltijd', 'stm_afspr_func_hersteldd', 'stm_relatiervo', 'stm_relatiervo_volgend', 'stm_relatiervo_vorig', 'stm_schade_statusdatum', 'stm_schade_status_ga', 'stm_schadenr', 'stm_x_start_sessie_dt', 'stm_x_bk', 'stm_x_run_id', 'stm_x_actueel_ind', 'stm_x_vervallen_ind'])\n",
    "print(\"Done\")"
   ]
  },
  {
   "cell_type": "code",
   "execution_count": 3,
   "metadata": {},
   "outputs": [],
   "source": [
    "#deze functie verwijdert alle rijen waar geen value op de gegeven kolommen zitten\n",
    "def drop_rows_with_null(lst, df):\n",
    "    dfisnull = df.isnull()[lst]\n",
    "    matches = dfisnull[(dfisnull).any(axis=1)]\n",
    "    return df.drop(matches.index)"
   ]
  },
  {
   "cell_type": "code",
   "execution_count": 4,
   "metadata": {},
   "outputs": [],
   "source": [
    "df_filtered = drop_rows_with_null(['stm_geo_mld', 'stm_sap_melddatum', 'stm_oorz_code', 'stm_sap_meldtijd',\n",
    "                          'stm_fh_dd', 'stm_fh_tijd','stm_oorz_groep',\n",
    "                          'stm_fh_duur'], df)"
   ]
  },
  {
   "cell_type": "code",
   "execution_count": 5,
   "metadata": {},
   "outputs": [],
   "source": [
    "df_filtered.drop_duplicates(subset =\"#stm_sap_meldnr\", \n",
    "                     keep = False, inplace = True)"
   ]
  },
  {
   "cell_type": "code",
   "execution_count": 6,
   "metadata": {},
   "outputs": [],
   "source": [
    "df_filtered['stm_sap_meld_ddt'] = df_filtered['stm_sap_meld_ddt'].apply(pd.to_datetime) # maakt het type: datetime"
   ]
  },
  {
   "cell_type": "code",
   "execution_count": 7,
   "metadata": {},
   "outputs": [],
   "source": [
    "df_year = pd.DataFrame(df_filtered['stm_sap_meld_ddt'].dt.year)\n",
    "df_filtered.insert(5, 'Jaar', df_year) # zet het jaar los in de tabel"
   ]
  },
  {
   "cell_type": "code",
   "execution_count": 8,
   "metadata": {},
   "outputs": [],
   "source": [
    "df_day = pd.DataFrame(df_filtered['stm_sap_meld_ddt'].dt.dayofyear)\n",
    "df_filtered.insert(6, 'Dag_van_jaar', df_day) # zet de dag count van het jaar los in de tabel (1-365)"
   ]
  },
  {
   "cell_type": "code",
   "execution_count": 9,
   "metadata": {},
   "outputs": [],
   "source": [
    "df_hour = pd.DataFrame(df_filtered['stm_sap_meld_ddt'].dt.hour)\n",
    "df_filtered.insert(7, 'Uur_van_dag', df_hour) # zet het uur van de dag los in de tabel (0-23)"
   ]
  },
  {
   "cell_type": "code",
   "execution_count": 10,
   "metadata": {},
   "outputs": [],
   "source": [
    "df_min = pd.DataFrame(df_filtered['stm_sap_meld_ddt'].dt.minute)\n",
    "df_filtered.insert(8, 'Minuut_van_uur', df_min) # zet de minuten van het uur los in de tabel (0-59)"
   ]
  },
  {
   "cell_type": "code",
   "execution_count": 11,
   "metadata": {},
   "outputs": [],
   "source": [
    "df_hour_min = (df_filtered['Uur_van_dag'] * 60) + df_filtered['Minuut_van_uur']\n",
    "df_filtered.insert(9, 'Minuut_van_dag', df_hour_min) # zet de minuut van de dag in een tabel (0-1440)"
   ]
  },
  {
   "cell_type": "code",
   "execution_count": 12,
   "metadata": {},
   "outputs": [],
   "source": [
    "df_filtered = (df_filtered.loc[(df_filtered['stm_fh_duur'] > 5) & (df_filtered['stm_fh_duur'] < 360)])"
   ]
  },
  {
   "cell_type": "code",
   "execution_count": 13,
   "metadata": {},
   "outputs": [],
   "source": [
    "# minuut van de dag dat de aannemer ter plekken is gekomen lijst gemaakt en in dataset gezet.\n",
    "df_filtered['stm_aanntpl_tijd'] = df_filtered['stm_aanntpl_tijd'].apply(pd.to_datetime)\n",
    "df_hour = pd.DataFrame(df_filtered['stm_aanntpl_tijd'].dt.hour)\n",
    "df_filtered.insert(0, 'Uur_herstel', df_hour)\n",
    "df_min = pd.DataFrame(df_filtered['stm_aanntpl_tijd'].dt.minute)\n",
    "df_filtered.insert(1, 'Min_van_uur_herstel', df_min)\n",
    "df_min_of_day_herstel = (df_filtered['Uur_herstel'] * 60) + df_filtered['Min_van_uur_herstel']\n",
    "df_filtered.insert(2, 'Minuut_van_dag_herstel', df_min_of_day_herstel)\n",
    "# Eigenlijk precies hetzelfde als hier boven maar dan in 1 cel"
   ]
  },
  {
   "cell_type": "code",
   "execution_count": 14,
   "metadata": {},
   "outputs": [],
   "source": [
    "# minuut van de dag dat de aannemer klaar is lijst gemaakt en in dataset gezet.\n",
    "df_filtered['stm_fh_ddt'] = df_filtered['stm_fh_ddt'].apply(pd.to_datetime)\n",
    "df_hour2 = pd.DataFrame(df_filtered['stm_fh_ddt'].dt.hour)\n",
    "df_filtered.insert(3, 'Uur_hersteld', df_hour2)\n",
    "df_min2 = pd.DataFrame(df_filtered['stm_fh_ddt'].dt.minute)\n",
    "df_filtered.insert(4, 'Min_van_uur_hersteld', df_min2)\n",
    "df_min_of_day_herstel2 = (df_filtered['Uur_hersteld'] * 60) + df_filtered['Min_van_uur_hersteld']\n",
    "df_filtered.insert(5, 'Minuut_van_dag_hersteld', df_min_of_day_herstel2)\n",
    "# Eigenlijk precies hetzelfde als hier boven maar dan in 1 cel"
   ]
  },
  {
   "cell_type": "code",
   "execution_count": 15,
   "metadata": {},
   "outputs": [],
   "source": [
    "Echte_herstel_tijd = df_filtered['Minuut_van_dag_hersteld'] - df_filtered['Minuut_van_dag_herstel']\n",
    "df_filtered.insert(6, 'Echte_hersteltijd', Echte_herstel_tijd)\n",
    "# berekent het verschil tussen de minuten van de dag (dus het berekent eigenlijk de reparatie tijd, \n",
    "# van aankomst aannemer tot gefixt)"
   ]
  },
  {
   "cell_type": "code",
   "execution_count": 16,
   "metadata": {},
   "outputs": [
    {
     "data": {
      "text/html": [
       "<div>\n",
       "<style scoped>\n",
       "    .dataframe tbody tr th:only-of-type {\n",
       "        vertical-align: middle;\n",
       "    }\n",
       "\n",
       "    .dataframe tbody tr th {\n",
       "        vertical-align: top;\n",
       "    }\n",
       "\n",
       "    .dataframe thead th {\n",
       "        text-align: right;\n",
       "    }\n",
       "</style>\n",
       "<table border=\"1\" class=\"dataframe\">\n",
       "  <thead>\n",
       "    <tr style=\"text-align: right;\">\n",
       "      <th></th>\n",
       "      <th>Uur_herstel</th>\n",
       "      <th>Min_van_uur_herstel</th>\n",
       "      <th>Minuut_van_dag_herstel</th>\n",
       "      <th>Uur_hersteld</th>\n",
       "      <th>Min_van_uur_hersteld</th>\n",
       "      <th>Minuut_van_dag_hersteld</th>\n",
       "      <th>Echte_hersteltijd</th>\n",
       "      <th>Unnamed: 0</th>\n",
       "      <th>#stm_sap_meldnr</th>\n",
       "      <th>stm_mon_nr</th>\n",
       "      <th>...</th>\n",
       "      <th>stm_fh_dd</th>\n",
       "      <th>stm_fh_tijd</th>\n",
       "      <th>stm_fh_duur</th>\n",
       "      <th>stm_sap_storeinddatum</th>\n",
       "      <th>stm_sap_storeindtijd</th>\n",
       "      <th>stm_oorz_tekst_kort</th>\n",
       "      <th>stm_pplg_van</th>\n",
       "      <th>stm_pplg_naar</th>\n",
       "      <th>stm_dstrglp_van</th>\n",
       "      <th>stm_dstrglp_naar</th>\n",
       "    </tr>\n",
       "  </thead>\n",
       "  <tbody>\n",
       "    <tr>\n",
       "      <th>31</th>\n",
       "      <td>0</td>\n",
       "      <td>0</td>\n",
       "      <td>0</td>\n",
       "      <td>1.0</td>\n",
       "      <td>2.0</td>\n",
       "      <td>62.0</td>\n",
       "      <td>62.0</td>\n",
       "      <td>31</td>\n",
       "      <td>50053257</td>\n",
       "      <td>0.0</td>\n",
       "      <td>...</td>\n",
       "      <td>05/01/2006</td>\n",
       "      <td>01:02:00</td>\n",
       "      <td>29.0</td>\n",
       "      <td>05/01/2006</td>\n",
       "      <td>01:02:00</td>\n",
       "      <td>Suicidaal persoon langs het spoor.</td>\n",
       "      <td>NaN</td>\n",
       "      <td>NaN</td>\n",
       "      <td>NaN</td>\n",
       "      <td>NaN</td>\n",
       "    </tr>\n",
       "    <tr>\n",
       "      <th>44</th>\n",
       "      <td>0</td>\n",
       "      <td>0</td>\n",
       "      <td>0</td>\n",
       "      <td>0.0</td>\n",
       "      <td>40.0</td>\n",
       "      <td>40.0</td>\n",
       "      <td>40.0</td>\n",
       "      <td>44</td>\n",
       "      <td>50053290</td>\n",
       "      <td>0.0</td>\n",
       "      <td>...</td>\n",
       "      <td>07/01/2006</td>\n",
       "      <td>00:40:00</td>\n",
       "      <td>10.0</td>\n",
       "      <td>07/01/2006</td>\n",
       "      <td>00:40:00</td>\n",
       "      <td>Mcn meldt suicidaal persoon thv station.</td>\n",
       "      <td>NaN</td>\n",
       "      <td>NaN</td>\n",
       "      <td>NaN</td>\n",
       "      <td>NaN</td>\n",
       "    </tr>\n",
       "    <tr>\n",
       "      <th>45</th>\n",
       "      <td>0</td>\n",
       "      <td>0</td>\n",
       "      <td>0</td>\n",
       "      <td>3.0</td>\n",
       "      <td>34.0</td>\n",
       "      <td>214.0</td>\n",
       "      <td>214.0</td>\n",
       "      <td>45</td>\n",
       "      <td>50053292</td>\n",
       "      <td>0.0</td>\n",
       "      <td>...</td>\n",
       "      <td>08/01/2006</td>\n",
       "      <td>03:34:00</td>\n",
       "      <td>14.0</td>\n",
       "      <td>08/01/2006</td>\n",
       "      <td>03:34:00</td>\n",
       "      <td>op overweg 22.9 zijn fietsen neergelegd&gt;</td>\n",
       "      <td>NaN</td>\n",
       "      <td>NaN</td>\n",
       "      <td>NaN</td>\n",
       "      <td>NaN</td>\n",
       "    </tr>\n",
       "    <tr>\n",
       "      <th>65</th>\n",
       "      <td>0</td>\n",
       "      <td>0</td>\n",
       "      <td>0</td>\n",
       "      <td>0.0</td>\n",
       "      <td>49.0</td>\n",
       "      <td>49.0</td>\n",
       "      <td>49.0</td>\n",
       "      <td>67</td>\n",
       "      <td>50053366</td>\n",
       "      <td>1.0</td>\n",
       "      <td>...</td>\n",
       "      <td>10/01/2006</td>\n",
       "      <td>00:49:00</td>\n",
       "      <td>48.0</td>\n",
       "      <td>10/01/2006</td>\n",
       "      <td>00:49:00</td>\n",
       "      <td>ree</td>\n",
       "      <td>NaN</td>\n",
       "      <td>NaN</td>\n",
       "      <td>Dv</td>\n",
       "      <td>Apda</td>\n",
       "    </tr>\n",
       "    <tr>\n",
       "      <th>101</th>\n",
       "      <td>0</td>\n",
       "      <td>0</td>\n",
       "      <td>0</td>\n",
       "      <td>5.0</td>\n",
       "      <td>50.0</td>\n",
       "      <td>350.0</td>\n",
       "      <td>350.0</td>\n",
       "      <td>103</td>\n",
       "      <td>50053412</td>\n",
       "      <td>7.0</td>\n",
       "      <td>...</td>\n",
       "      <td>12/01/2006</td>\n",
       "      <td>05:50:00</td>\n",
       "      <td>20.0</td>\n",
       "      <td>12/01/2006</td>\n",
       "      <td>05:50:00</td>\n",
       "      <td>Rijp op bovenleiding</td>\n",
       "      <td>NaN</td>\n",
       "      <td>NaN</td>\n",
       "      <td>Hde</td>\n",
       "      <td>NaN</td>\n",
       "    </tr>\n",
       "    <tr>\n",
       "      <th>...</th>\n",
       "      <td>...</td>\n",
       "      <td>...</td>\n",
       "      <td>...</td>\n",
       "      <td>...</td>\n",
       "      <td>...</td>\n",
       "      <td>...</td>\n",
       "      <td>...</td>\n",
       "      <td>...</td>\n",
       "      <td>...</td>\n",
       "      <td>...</td>\n",
       "      <td>...</td>\n",
       "      <td>...</td>\n",
       "      <td>...</td>\n",
       "      <td>...</td>\n",
       "      <td>...</td>\n",
       "      <td>...</td>\n",
       "      <td>...</td>\n",
       "      <td>...</td>\n",
       "      <td>...</td>\n",
       "      <td>...</td>\n",
       "      <td>...</td>\n",
       "    </tr>\n",
       "    <tr>\n",
       "      <th>898274</th>\n",
       "      <td>8</td>\n",
       "      <td>17</td>\n",
       "      <td>497</td>\n",
       "      <td>11.0</td>\n",
       "      <td>52.0</td>\n",
       "      <td>712.0</td>\n",
       "      <td>215.0</td>\n",
       "      <td>908378</td>\n",
       "      <td>99003150</td>\n",
       "      <td>0.0</td>\n",
       "      <td>...</td>\n",
       "      <td>02/09/2012</td>\n",
       "      <td>11:52:00</td>\n",
       "      <td>256.0</td>\n",
       "      <td>NaN</td>\n",
       "      <td>00:00:00</td>\n",
       "      <td>NaN</td>\n",
       "      <td>NaN</td>\n",
       "      <td>NaN</td>\n",
       "      <td>NaN</td>\n",
       "      <td>NaN</td>\n",
       "    </tr>\n",
       "    <tr>\n",
       "      <th>898275</th>\n",
       "      <td>11</td>\n",
       "      <td>20</td>\n",
       "      <td>680</td>\n",
       "      <td>11.0</td>\n",
       "      <td>54.0</td>\n",
       "      <td>714.0</td>\n",
       "      <td>34.0</td>\n",
       "      <td>908379</td>\n",
       "      <td>99003151</td>\n",
       "      <td>0.0</td>\n",
       "      <td>...</td>\n",
       "      <td>02/09/2012</td>\n",
       "      <td>11:54:00</td>\n",
       "      <td>79.0</td>\n",
       "      <td>02/09/2012</td>\n",
       "      <td>11:54:00</td>\n",
       "      <td>NaN</td>\n",
       "      <td>NaN</td>\n",
       "      <td>NaN</td>\n",
       "      <td>NaN</td>\n",
       "      <td>NaN</td>\n",
       "    </tr>\n",
       "    <tr>\n",
       "      <th>898277</th>\n",
       "      <td>13</td>\n",
       "      <td>1</td>\n",
       "      <td>781</td>\n",
       "      <td>13.0</td>\n",
       "      <td>21.0</td>\n",
       "      <td>801.0</td>\n",
       "      <td>20.0</td>\n",
       "      <td>908381</td>\n",
       "      <td>99003153</td>\n",
       "      <td>0.0</td>\n",
       "      <td>...</td>\n",
       "      <td>02/09/2012</td>\n",
       "      <td>13:21:00</td>\n",
       "      <td>58.0</td>\n",
       "      <td>02/09/2012</td>\n",
       "      <td>13:22:00</td>\n",
       "      <td>NaN</td>\n",
       "      <td>NaN</td>\n",
       "      <td>NaN</td>\n",
       "      <td>NaN</td>\n",
       "      <td>NaN</td>\n",
       "    </tr>\n",
       "    <tr>\n",
       "      <th>898322</th>\n",
       "      <td>15</td>\n",
       "      <td>13</td>\n",
       "      <td>913</td>\n",
       "      <td>15.0</td>\n",
       "      <td>42.0</td>\n",
       "      <td>942.0</td>\n",
       "      <td>29.0</td>\n",
       "      <td>908426</td>\n",
       "      <td>99003175</td>\n",
       "      <td>0.0</td>\n",
       "      <td>...</td>\n",
       "      <td>19/10/2013</td>\n",
       "      <td>15:42:00</td>\n",
       "      <td>139.0</td>\n",
       "      <td>19/10/2013</td>\n",
       "      <td>15:43:00</td>\n",
       "      <td>NaN</td>\n",
       "      <td>NaN</td>\n",
       "      <td>NaN</td>\n",
       "      <td>NaN</td>\n",
       "      <td>19/10/2013</td>\n",
       "    </tr>\n",
       "    <tr>\n",
       "      <th>898422</th>\n",
       "      <td>13</td>\n",
       "      <td>19</td>\n",
       "      <td>799</td>\n",
       "      <td>18.0</td>\n",
       "      <td>1.0</td>\n",
       "      <td>1081.0</td>\n",
       "      <td>282.0</td>\n",
       "      <td>908526</td>\n",
       "      <td>99003211</td>\n",
       "      <td>0.0</td>\n",
       "      <td>...</td>\n",
       "      <td>15/10/2016</td>\n",
       "      <td>18:01:08</td>\n",
       "      <td>283.0</td>\n",
       "      <td>16/10/2016</td>\n",
       "      <td>07:52:19</td>\n",
       "      <td>vertragingen blijken het nu goed te blij</td>\n",
       "      <td>NaN</td>\n",
       "      <td>NaN</td>\n",
       "      <td>NaN</td>\n",
       "      <td>NaN</td>\n",
       "    </tr>\n",
       "  </tbody>\n",
       "</table>\n",
       "<p>173749 rows × 72 columns</p>\n",
       "</div>"
      ],
      "text/plain": [
       "        Uur_herstel  Min_van_uur_herstel  Minuut_van_dag_herstel  \\\n",
       "31                0                    0                       0   \n",
       "44                0                    0                       0   \n",
       "45                0                    0                       0   \n",
       "65                0                    0                       0   \n",
       "101               0                    0                       0   \n",
       "...             ...                  ...                     ...   \n",
       "898274            8                   17                     497   \n",
       "898275           11                   20                     680   \n",
       "898277           13                    1                     781   \n",
       "898322           15                   13                     913   \n",
       "898422           13                   19                     799   \n",
       "\n",
       "        Uur_hersteld  Min_van_uur_hersteld  Minuut_van_dag_hersteld  \\\n",
       "31               1.0                   2.0                     62.0   \n",
       "44               0.0                  40.0                     40.0   \n",
       "45               3.0                  34.0                    214.0   \n",
       "65               0.0                  49.0                     49.0   \n",
       "101              5.0                  50.0                    350.0   \n",
       "...              ...                   ...                      ...   \n",
       "898274          11.0                  52.0                    712.0   \n",
       "898275          11.0                  54.0                    714.0   \n",
       "898277          13.0                  21.0                    801.0   \n",
       "898322          15.0                  42.0                    942.0   \n",
       "898422          18.0                   1.0                   1081.0   \n",
       "\n",
       "        Echte_hersteltijd Unnamed: 0  #stm_sap_meldnr  stm_mon_nr  ...  \\\n",
       "31                   62.0         31         50053257         0.0  ...   \n",
       "44                   40.0         44         50053290         0.0  ...   \n",
       "45                  214.0         45         50053292         0.0  ...   \n",
       "65                   49.0         67         50053366         1.0  ...   \n",
       "101                 350.0        103         50053412         7.0  ...   \n",
       "...                   ...        ...              ...         ...  ...   \n",
       "898274              215.0     908378         99003150         0.0  ...   \n",
       "898275               34.0     908379         99003151         0.0  ...   \n",
       "898277               20.0     908381         99003153         0.0  ...   \n",
       "898322               29.0     908426         99003175         0.0  ...   \n",
       "898422              282.0     908526         99003211         0.0  ...   \n",
       "\n",
       "         stm_fh_dd stm_fh_tijd  stm_fh_duur  stm_sap_storeinddatum  \\\n",
       "31      05/01/2006    01:02:00         29.0             05/01/2006   \n",
       "44      07/01/2006    00:40:00         10.0             07/01/2006   \n",
       "45      08/01/2006    03:34:00         14.0             08/01/2006   \n",
       "65      10/01/2006    00:49:00         48.0             10/01/2006   \n",
       "101     12/01/2006    05:50:00         20.0             12/01/2006   \n",
       "...            ...         ...          ...                    ...   \n",
       "898274  02/09/2012    11:52:00        256.0                    NaN   \n",
       "898275  02/09/2012    11:54:00         79.0             02/09/2012   \n",
       "898277  02/09/2012    13:21:00         58.0             02/09/2012   \n",
       "898322  19/10/2013    15:42:00        139.0             19/10/2013   \n",
       "898422  15/10/2016    18:01:08        283.0             16/10/2016   \n",
       "\n",
       "        stm_sap_storeindtijd                       stm_oorz_tekst_kort  \\\n",
       "31                  01:02:00        Suicidaal persoon langs het spoor.   \n",
       "44                  00:40:00  Mcn meldt suicidaal persoon thv station.   \n",
       "45                  03:34:00  op overweg 22.9 zijn fietsen neergelegd>   \n",
       "65                  00:49:00                                       ree   \n",
       "101                 05:50:00                      Rijp op bovenleiding   \n",
       "...                      ...                                       ...   \n",
       "898274              00:00:00                                       NaN   \n",
       "898275              11:54:00                                       NaN   \n",
       "898277              13:22:00                                       NaN   \n",
       "898322              15:43:00                                       NaN   \n",
       "898422              07:52:19  vertragingen blijken het nu goed te blij   \n",
       "\n",
       "        stm_pplg_van stm_pplg_naar stm_dstrglp_van stm_dstrglp_naar  \n",
       "31               NaN           NaN             NaN              NaN  \n",
       "44               NaN           NaN             NaN              NaN  \n",
       "45               NaN           NaN             NaN              NaN  \n",
       "65               NaN           NaN              Dv             Apda  \n",
       "101              NaN           NaN             Hde              NaN  \n",
       "...              ...           ...             ...              ...  \n",
       "898274           NaN           NaN             NaN              NaN  \n",
       "898275           NaN           NaN             NaN              NaN  \n",
       "898277           NaN           NaN             NaN              NaN  \n",
       "898322           NaN           NaN             NaN       19/10/2013  \n",
       "898422           NaN           NaN             NaN              NaN  \n",
       "\n",
       "[173749 rows x 72 columns]"
      ]
     },
     "execution_count": 16,
     "metadata": {},
     "output_type": "execute_result"
    }
   ],
   "source": [
    "# hoger dan 5 minuten,als het onder de 5 minuten zit is er een goede kans dat het een fout was.\n",
    "#onder de 360 min (6 uur) de productowner had dit als waarde aan ons gegeven. \n",
    "df_filtered = (df_filtered.loc[(df_filtered['Echte_hersteltijd'] > 5) & (df_filtered['Echte_hersteltijd'] < 360)])\n",
    "df_filtered # dit is de data set na alle filtering. 173749 van de 898526 zijn overgebleven"
   ]
  },
  {
   "cell_type": "markdown",
   "metadata": {},
   "source": [
    "# Baseline\n",
    "Target variabele is 'stm_fh_duur'. Dit is de functie hersteltijd dit houd in dat vanaf de melding tot dat het probleem opgelost is getimed wordt. \n",
    "\n",
    "baseline:  "
   ]
  },
  {
   "cell_type": "code",
   "execution_count": 40,
   "metadata": {},
   "outputs": [
    {
     "data": {
      "text/plain": [
       "31         62.0\n",
       "44         40.0\n",
       "45        214.0\n",
       "65         49.0\n",
       "101       350.0\n",
       "          ...  \n",
       "898274    215.0\n",
       "898275     34.0\n",
       "898277     20.0\n",
       "898322     29.0\n",
       "898422    282.0\n",
       "Name: Echte_hersteltijd, Length: 173749, dtype: float64"
      ]
     },
     "execution_count": 40,
     "metadata": {},
     "output_type": "execute_result"
    }
   ],
   "source": [
    "data_fht = df_filtered['Echte_hersteltijd'].loc[(df_filtered['Echte_hersteltijd'] > 5) & (df_filtered['Echte_hersteltijd'] < 360)]\n",
    "data_fht"
   ]
  },
  {
   "cell_type": "code",
   "execution_count": 19,
   "metadata": {},
   "outputs": [
    {
     "data": {
      "text/plain": [
       "57.258389976345185"
      ]
     },
     "execution_count": 19,
     "metadata": {},
     "output_type": "execute_result"
    }
   ],
   "source": [
    "data_fht.mean()"
   ]
  },
  {
   "cell_type": "code",
   "execution_count": 20,
   "metadata": {},
   "outputs": [
    {
     "data": {
      "text/plain": [
       "38.0"
      ]
     },
     "execution_count": 20,
     "metadata": {},
     "output_type": "execute_result"
    }
   ],
   "source": [
    "data_fht.median()"
   ]
  },
  {
   "cell_type": "code",
   "execution_count": 21,
   "metadata": {},
   "outputs": [
    {
     "data": {
      "text/plain": [
       "<AxesSubplot:>"
      ]
     },
     "execution_count": 21,
     "metadata": {},
     "output_type": "execute_result"
    },
    {
     "data": {
      "image/png": "[encoded data removed]",
      "text/plain": [
       "<Figure size 1152x576 with 1 Axes>"
      ]
     },
     "metadata": {
      "needs_background": "light"
     },
     "output_type": "display_data"
    }
   ],
   "source": [
    "data_fht.plot.box(figsize=(16,8))"
   ]
  },
  {
   "cell_type": "code",
   "execution_count": 41,
   "metadata": {},
   "outputs": [
    {
     "data": {
      "text/plain": [
       "66.20066878082753"
      ]
     },
     "execution_count": 41,
     "metadata": {},
     "output_type": "execute_result"
    }
   ],
   "source": [
    "len(data_fht[data_fht < data_fht.mean()])/len(data_fht)*100"
   ]
  },
  {
   "cell_type": "code",
   "execution_count": 42,
   "metadata": {},
   "outputs": [
    {
     "data": {
      "text/plain": [
       "49.83107816447864"
      ]
     },
     "execution_count": 42,
     "metadata": {},
     "output_type": "execute_result"
    }
   ],
   "source": [
    "len(data_fht[data_fht < data_fht.median()])/len(data_fht)*100"
   ]
  },
  {
   "cell_type": "markdown",
   "metadata": {},
   "source": [
    "66.2% van alle herstel tijden zit onder het gemiddelde (102 min)\n",
    "\n",
    "49.8% van alle herstel tijden zit onder de mediaan (82 min)"
   ]
  },
  {
   "cell_type": "code",
   "execution_count": 24,
   "metadata": {},
   "outputs": [
    {
     "data": {
      "text/html": [
       "<div>\n",
       "<style scoped>\n",
       "    .dataframe tbody tr th:only-of-type {\n",
       "        vertical-align: middle;\n",
       "    }\n",
       "\n",
       "    .dataframe tbody tr th {\n",
       "        vertical-align: top;\n",
       "    }\n",
       "\n",
       "    .dataframe thead th {\n",
       "        text-align: right;\n",
       "    }\n",
       "</style>\n",
       "<table border=\"1\" class=\"dataframe\">\n",
       "  <thead>\n",
       "    <tr style=\"text-align: right;\">\n",
       "      <th></th>\n",
       "      <th>Echte_hersteltijd</th>\n",
       "      <th>mediaan</th>\n",
       "      <th>mean</th>\n",
       "    </tr>\n",
       "  </thead>\n",
       "  <tbody>\n",
       "    <tr>\n",
       "      <th>31</th>\n",
       "      <td>62.0</td>\n",
       "      <td>38.0</td>\n",
       "      <td>57.25839</td>\n",
       "    </tr>\n",
       "    <tr>\n",
       "      <th>44</th>\n",
       "      <td>40.0</td>\n",
       "      <td>38.0</td>\n",
       "      <td>57.25839</td>\n",
       "    </tr>\n",
       "    <tr>\n",
       "      <th>45</th>\n",
       "      <td>214.0</td>\n",
       "      <td>38.0</td>\n",
       "      <td>57.25839</td>\n",
       "    </tr>\n",
       "    <tr>\n",
       "      <th>65</th>\n",
       "      <td>49.0</td>\n",
       "      <td>38.0</td>\n",
       "      <td>57.25839</td>\n",
       "    </tr>\n",
       "    <tr>\n",
       "      <th>101</th>\n",
       "      <td>350.0</td>\n",
       "      <td>38.0</td>\n",
       "      <td>57.25839</td>\n",
       "    </tr>\n",
       "  </tbody>\n",
       "</table>\n",
       "</div>"
      ],
      "text/plain": [
       "     Echte_hersteltijd  mediaan      mean\n",
       "31                62.0     38.0  57.25839\n",
       "44                40.0     38.0  57.25839\n",
       "45               214.0     38.0  57.25839\n",
       "65                49.0     38.0  57.25839\n",
       "101              350.0     38.0  57.25839"
      ]
     },
     "execution_count": 24,
     "metadata": {},
     "output_type": "execute_result"
    }
   ],
   "source": [
    "data_fht = data_fht.to_frame()\n",
    "#data_fht['mediaan'] = data_fht['stm_fh_duur'].median()\n",
    "data_fht['mediaan'] = data_fht['Echte_hersteltijd'].median()\n",
    "#data_fht['mean'] = data_fht['stm_fh_duur'].mean()\n",
    "data_fht['mean'] = data_fht['Echte_hersteltijd'].mean()\n",
    "data_fht.head()"
   ]
  },
  {
   "cell_type": "code",
   "execution_count": 25,
   "metadata": {},
   "outputs": [
    {
     "data": {
      "text/plain": [
       "60.13556733915997"
      ]
     },
     "execution_count": 25,
     "metadata": {},
     "output_type": "execute_result"
    }
   ],
   "source": [
    "#de score bepalen aan de hand van de RSME\n",
    "#np.sqrt(mean_squared_error(data_fht.loc[:,'stm_fh_duur'],data_fht.loc[:,'mediaan']))\n",
    "np.sqrt(mean_squared_error(data_fht.loc[:,'Echte_hersteltijd'],data_fht.loc[:,'mediaan']))"
   ]
  },
  {
   "cell_type": "markdown",
   "metadata": {},
   "source": [
    "# linear regression"
   ]
  },
  {
   "cell_type": "code",
   "execution_count": 26,
   "metadata": {},
   "outputs": [],
   "source": [
    "X = df_filtered[['stm_km_van_mld', 'stm_prioriteit', 'Dag_van_jaar', 'Jaar', 'Minuut_van_dag']]\n",
    "#y = df_filtered[['stm_fh_duur']]\n",
    "y= df_filtered[['Echte_hersteltijd']]"
   ]
  },
  {
   "cell_type": "code",
   "execution_count": 27,
   "metadata": {},
   "outputs": [],
   "source": [
    "# de data splitsen in training en testing data\n",
    "from sklearn.model_selection import train_test_split\n",
    "# test_size\n",
    "X_train, X_test, y_train,y_test = train_test_split(X,y, test_size=0.1, random_state=0) "
   ]
  },
  {
   "cell_type": "code",
   "execution_count": 28,
   "metadata": {},
   "outputs": [],
   "source": [
    "from sklearn.linear_model import LinearRegression"
   ]
  },
  {
   "cell_type": "code",
   "execution_count": 29,
   "metadata": {},
   "outputs": [],
   "source": [
    "linear_reg_model = LinearRegression()"
   ]
  },
  {
   "cell_type": "code",
   "execution_count": 30,
   "metadata": {},
   "outputs": [
    {
     "data": {
      "text/plain": [
       "LinearRegression()"
      ]
     },
     "execution_count": 30,
     "metadata": {},
     "output_type": "execute_result"
    }
   ],
   "source": [
    "linear_reg_model.fit(X_train, y_train)"
   ]
  },
  {
   "cell_type": "code",
   "execution_count": 31,
   "metadata": {},
   "outputs": [
    {
     "name": "stdout",
     "output_type": "stream",
     "text": [
      "56.71417117303172\n"
     ]
    }
   ],
   "source": [
    "from sklearn.metrics import mean_squared_error\n",
    "\n",
    "y_pred_test = linear_reg_model.predict(X_test)\n",
    "\n",
    "error_metric = np.sqrt(mean_squared_error(y_pred=y_pred_test, y_true=y_test))\n",
    "print(error_metric)"
   ]
  },
  {
   "cell_type": "code",
   "execution_count": 32,
   "metadata": {},
   "outputs": [],
   "source": [
    "X = df_filtered[['stm_km_van_mld', 'stm_prioriteit', 'Dag_van_jaar', 'Jaar', 'Minuut_van_dag']]\n",
    "#y = df_filtered[['stm_fh_duur']]\n",
    "y= df_filtered[['Echte_hersteltijd']]"
   ]
  },
  {
   "cell_type": "code",
   "execution_count": 33,
   "metadata": {},
   "outputs": [
    {
     "data": {
      "text/plain": [
       "Text(0.5, 1.0, 'voorspelling tegen over daadwerkelijke data')"
      ]
     },
     "execution_count": 33,
     "metadata": {},
     "output_type": "execute_result"
    },
    {
     "data": {
      "image/png": "[encoded data removed]",
      "text/plain": [
       "<Figure size 432x288 with 1 Axes>"
      ]
     },
     "metadata": {
      "needs_background": "light"
     },
     "output_type": "display_data"
    }
   ],
   "source": [
    "# model plotten en lineare regressie er in verwerken\n",
    "fig, ax = plt.subplots()\n",
    "ax.scatter(y_test, y_pred_test)\n",
    "ax.plot(y_test, y_test, color='red')\n",
    "ax.set_xlabel('testing')\n",
    "ax.set_ylabel('predicting')\n",
    "ax.set_title('voorspelling tegen over daadwerkelijke data')"
   ]
  },
  {
   "cell_type": "code",
   "execution_count": 34,
   "metadata": {},
   "outputs": [
    {
     "data": {
      "text/plain": [
       "'[[63.55698693]]'"
      ]
     },
     "execution_count": 34,
     "metadata": {},
     "output_type": "execute_result"
    }
   ],
   "source": [
    "from collections import OrderedDict\n",
    "new_data = OrderedDict([\n",
    "    ('stm_km_van_mld',40),\n",
    "    ('stm_prioriteit',6),\n",
    "    ('Dag_van_jaar',100),\n",
    "    ('Jaar',2020),\n",
    "    ('Minuut_van_dag', 420)\n",
    "])\n",
    "\n",
    "new_data = pd.Series(new_data).values.reshape(1,-1)\n",
    "\n",
    "str(linear_reg_model.predict(new_data))"
   ]
  },
  {
   "cell_type": "markdown",
   "metadata": {},
   "source": [
    "# Validatie"
   ]
  },
  {
   "cell_type": "code",
   "execution_count": 35,
   "metadata": {},
   "outputs": [
    {
     "data": {
      "text/plain": [
       "'[[49.92862375]]'"
      ]
     },
     "execution_count": 35,
     "metadata": {},
     "output_type": "execute_result"
    }
   ],
   "source": [
    "from collections import OrderedDict\n",
    "new_data = OrderedDict([\n",
    "    ('stm_km_van_mld',49482),\n",
    "    ('stm_prioriteit',2),\n",
    "    ('Dag_van_jaar',145),\n",
    "    ('Jaar',2017),\n",
    "    ('Minuut_van_dag', 1025)\n",
    "])\n",
    "\n",
    "new_data = pd.Series(new_data).values.reshape(1,-1)\n",
    "\n",
    "str(linear_reg_model.predict(new_data))"
   ]
  },
  {
   "cell_type": "code",
   "execution_count": 36,
   "metadata": {},
   "outputs": [
    {
     "data": {
      "text/plain": [
       "'[[53.28005973]]'"
      ]
     },
     "execution_count": 36,
     "metadata": {},
     "output_type": "execute_result"
    }
   ],
   "source": [
    "from collections import OrderedDict\n",
    "new_data = OrderedDict([\n",
    "    ('stm_km_van_mld',78781),\n",
    "    ('stm_prioriteit',2),\n",
    "    ('Dag_van_jaar',145),\n",
    "    ('Jaar',2018),\n",
    "    ('Minuut_van_dag', 817)\n",
    "])\n",
    "\n",
    "new_data = pd.Series(new_data).values.reshape(1,-1)\n",
    "\n",
    "str(linear_reg_model.predict(new_data))"
   ]
  },
  {
   "cell_type": "code",
   "execution_count": 37,
   "metadata": {},
   "outputs": [
    {
     "data": {
      "text/plain": [
       "'[[48.78279187]]'"
      ]
     },
     "execution_count": 37,
     "metadata": {},
     "output_type": "execute_result"
    }
   ],
   "source": [
    "from collections import OrderedDict\n",
    "new_data = OrderedDict([\n",
    "    ('stm_km_van_mld',0),\n",
    "    ('stm_prioriteit',1),\n",
    "    ('Dag_van_jaar',11),\n",
    "    ('Jaar',2018),\n",
    "    ('Minuut_van_dag', 1020)\n",
    "])\n",
    "\n",
    "new_data = pd.Series(new_data).values.reshape(1,-1)\n",
    "\n",
    "str(linear_reg_model.predict(new_data))"
   ]
  },
  {
   "cell_type": "markdown",
   "metadata": {},
   "source": [
    "# Applicatie\n",
    "Als je de onderstaande code wilt runnen, zorg dan dat de meegeleverde afbeeldingen in dezelfde map staan en de bovenstaande code gerund is."
   ]
  },
  {
   "cell_type": "code",
   "execution_count": 39,
   "metadata": {},
   "outputs": [],
   "source": [
    "\"\"\"\n",
    "from tkinter import *\n",
    "from datetime import datetime\n",
    "import random\n",
    "import pandas as pd\n",
    "import numpy as np\n",
    "from collections import OrderedDict\n",
    "from sklearn.model_selection import train_test_split\n",
    "\n",
    "\n",
    "def showcontents1():\n",
    "    historyframe.pack_forget()\n",
    "    screenframe.pack_forget()\n",
    "    entryframe.pack_forget()\n",
    "    screenframe.pack(side=LEFT, padx=150)\n",
    "    mylist.delete(0, END)\n",
    "    file = open(\"example.txt\", \"r\")\n",
    "    lines = file.readlines()\n",
    "    for i in reversed(lines):\n",
    "        mylist.insert(END, i)\n",
    "\n",
    "    text.pack(side=TOP)\n",
    "    mylist.pack(side=TOP)\n",
    "\n",
    "    file.close()\n",
    "\n",
    "\n",
    "def showentryframe():\n",
    "    screenframe.pack_forget()\n",
    "    historyframe.pack_forget()\n",
    "    entryframe.pack_forget()\n",
    "    texterror.grid_forget()\n",
    "\n",
    "    entry.delete('1.0', 'end')\n",
    "    entry2.delete('1.0', 'end')\n",
    "    entry3.delete('1.0', 'end')\n",
    "\n",
    "    entryframe.pack(side=LEFT, padx=150)\n",
    "    textentry.grid(row=0, column=0, sticky=W + E + N + S, pady=5)\n",
    "    textentry2.grid(row=1, column=0, sticky=W + E + N + S, pady=5)\n",
    "    textentry3.grid(row=2, column=0, sticky=W + E + N + S, pady=5)\n",
    "\n",
    "    entry.grid(row=0, column=1, sticky=W + E + N + S, pady=5)\n",
    "    entry2.grid(row=1, column=1, sticky=W + E + N + S, pady=5)\n",
    "    entry3.grid(row=2, column=1, sticky=W + E + N + S, pady=5)\n",
    "    enterbutton.grid(row=3, column=0)\n",
    "\n",
    "\n",
    "def home():\n",
    "    screenframe.pack_forget()\n",
    "    entryframe.pack_forget()\n",
    "    historyframe.pack_forget()    \n",
    "\n",
    "\n",
    "def enterdata():\n",
    "    Datum_tijd = datetime.now().strftime(\"%m/%d/%Y, %H:%M:%S\")\n",
    "    location = str(entry.get(\"1.0\", END)).split('\\n')[0]\n",
    "    prioriteit = str(entry2.get(\"1.0\", END)).split('\\n')[0]\n",
    "    km_afstand = str(entry3.get(\"1.0\", END)).split('\\n')[0]\n",
    "    \n",
    "    Datum_tijd2 = datetime.now().strftime(\"%m/%d/%Y, %H:%M:%S\") , '2012-11-14 14:32:30' # er moeten minimaal 2 inzitten daarom een random maar ingevuld\n",
    "    datum_Dataset = pd.DataFrame(Datum_tijd2, columns=['dates'])\n",
    "    datum_Dataset['dates'] = datum_Dataset['dates'].apply(pd.to_datetime)\n",
    "    df_jaar = pd.DataFrame(datum_Dataset['dates'].dt.year)\n",
    "    datum_Dataset.insert(1, 'Jaar', df_jaar) # zet het jaar los in de tabel\n",
    "    df_day = pd.DataFrame(datum_Dataset['dates'].dt.dayofyear)\n",
    "    datum_Dataset.insert(2, 'Dag_van_jaar', df_day) # zet de dag count van het jaar los in de tabel (1-365)\n",
    "    df_hour = pd.DataFrame(datum_Dataset['dates'].dt.hour)\n",
    "    datum_Dataset.insert(3, 'Uur_van_dag', df_hour) # zet het uur van de dag los in de tabel (0-23)\n",
    "    df_min = pd.DataFrame(datum_Dataset['dates'].dt.minute)\n",
    "    datum_Dataset.insert(4, 'Minuut_van_uur', df_min) # zet de minuten van het uur los in de tabel (0-59)\n",
    "    df_hour_min = (datum_Dataset['Uur_van_dag'] * 60) + datum_Dataset['Minuut_van_uur']\n",
    "    datum_Dataset.insert(5, 'Minuut_van_dag', df_hour_min) # zet de minuut van de dag in een tabel (0-1440)\n",
    "\n",
    "    jaar = datum_Dataset['Jaar'][0]\n",
    "    dag_van_jaar = datum_Dataset['Dag_van_jaar'][0]\n",
    "    min_dag = datum_Dataset['Minuut_van_dag'][0]\n",
    "    \n",
    "    new_data = OrderedDict([\n",
    "    ('stm_km_van_mld',km_afstand),\n",
    "    ('stm_prioriteit',prioriteit),\n",
    "    ('Dag_van_jaar',dag_van_jaar),\n",
    "    ('Jaar',int(jaar)),\n",
    "    ('Minuut_van_dag', min_dag)\n",
    "    ])\n",
    "    new_data = pd.Series(new_data).values.reshape(1,-1)\n",
    "    repairtime = str(linear_reg_model.predict(new_data))\n",
    "\n",
    "    if type == \"\" or location == \"\" or km_afstand == \"\":\n",
    "        texterror.grid(row=3, column=1, sticky=W + E + N + S, pady=5)\n",
    "    else:\n",
    "        file = open('example.txt', 'a')\n",
    "        file.write(location + \" | \" + Datum_tijd + \" | \" + repairtime + \"\\n\")\n",
    "        file.close()\n",
    "        showentryframe()\n",
    "        \n",
    "\n",
    "root = Tk()\n",
    "\n",
    "#startscreen\n",
    "loginframe = Frame(master=root)\n",
    "loginframe.pack(fill=\"both\", expand=True)\n",
    "background_image=PhotoImage(file=\"hoofdmenu.png\")\n",
    "background_label = Label(image=background_image, master=loginframe)\n",
    "background_label.place(x=0, y=0, relwidth=1, relheight=1)\n",
    "\n",
    "buttonsframe = Frame(loginframe)\n",
    "buttonsframe.pack(side=LEFT, padx=50)\n",
    "\n",
    "#screen button 2\n",
    "screenframe = Frame(loginframe)\n",
    "mylist = Listbox(master=screenframe, font=('verdana', 20, 'bold'), width=60, height=20, bg='#ee5943', fg='black')\n",
    "text = Text(screenframe, font=('verdana', 20, 'bold'),  width=60, height=1, bg='#e34114', fg='black')\n",
    "text.insert(END, \"Location/Train route     |     Created at     |     Estimated repairtime\")\n",
    "\n",
    "#screen button 3\n",
    "historyframe = Frame(loginframe)\n",
    "mylist_history = Listbox(master=historyframe, font=('verdana', 15, 'bold'), width=80, height=25, bg='#ee5943', fg='black')\n",
    "text_history = Text(historyframe, font=('verdana', 20, 'bold'),  width=60, height=1, bg='#e34114', fg='black')\n",
    "text_history.insert(END, \"Location/Train route | Created at | Finished at| Repairtime\")\n",
    "\n",
    "#screen button 4\n",
    "entryframe = Frame(loginframe, bg='#c41b0c')\n",
    "entry = Text(master=entryframe,relief='flat',bd=2,font=('verdana', 20, 'bold'),height=0,fg='black',bg='#FFFFFF', width=70)\n",
    "entry2 = Text(master=entryframe,relief='flat',bd=2,font=('verdana', 20, 'bold'),height=0,fg='black',bg='#FFFFFF', width=70)\n",
    "entry3 = Text(master=entryframe,relief='flat',bd=2,font=('verdana', 20, 'bold'),height=0,fg='black',bg='#FFFFFF', width=70)\n",
    "\n",
    "textentry = Text(entryframe, font=('verdana', 20, 'bold'),  width=5, height=1, bg='#ee5943', bd=0)\n",
    "textentry2 = Text(entryframe, font=('verdana', 20, 'bold'),  width=8, height=1, bg='#ee5943', bd=0)\n",
    "textentry3 = Text(entryframe, font=('verdana', 20, 'bold'),  width=11, height=1, bg='#ee5943', bd=0)\n",
    "\n",
    "textentry.insert(END, \"Location\") \n",
    "textentry2.insert(END, \"Prioriteit\")\n",
    "textentry3.insert(END, \"KM afstand\")\n",
    "\n",
    "\n",
    "enterbutton = Button(master=entryframe, text='Enter',command=enterdata,bg='#e32514', fg='white',relief=FLAT, font=('verdana',20,'bold'),cursor='circle')\n",
    "texterror = Text(entryframe, font=('verdana', 20, 'bold'),  width=60, height=1, bg='#c41b0c', bd=0)\n",
    "texterror.insert(END, \"Not all boxes filled\")\n",
    "\n",
    "#button 1\n",
    "img1 = PhotoImage(file=\"prorailbutton.png\") # make sure to add \"/\" not \"\\\"\n",
    "how = Button(master=buttonsframe, command=home, relief=FLAT,cursor='circle')\n",
    "how.config(bg='#ef5b44', image=img1)\n",
    "how.pack(anchor='nw')\n",
    "\n",
    "label5 = Label(master=loginframe, text='{:^200}'.format('-----------------------------------'),\n",
    "               bg='#850800', fg='white', font=('verdana', 30, 'bold'))\n",
    "\n",
    "#button 2\n",
    "img2 = PhotoImage(file=\"currentbutton.png\") # make sure to add \"/\" not \"\\\"\n",
    "how = Button(master=buttonsframe, command=showcontents1,relief=FLAT,cursor='circle')\n",
    "how.config(bg='#ef5b44', image=img2)\n",
    "how.pack(anchor='nw')\n",
    "\n",
    "\n",
    "#button 4\n",
    "img4 = PhotoImage(file=\"newbutton.png\") # make sure to add \"/\" not \"\\\"\n",
    "how = Button(master=buttonsframe, command=showentryframe, relief=FLAT, cursor='circle')\n",
    "how.config(bg='#ef5b44', image=img4)\n",
    "how.pack(anchor='nw')\n",
    "\n",
    "\n",
    "root.mainloop()\n",
    "\"\"\""
   ]
  },
  {
   "cell_type": "code",
   "execution_count": null,
   "metadata": {},
   "outputs": [],
   "source": []
  }
 ],
 "metadata": {
  "kernelspec": {
   "display_name": "Python 3",
   "language": "python",
   "name": "python3"
  },
  "language_info": {
   "codemirror_mode": {
    "name": "ipython",
    "version": 3
   },
   "file_extension": ".py",
   "mimetype": "text/x-python",
   "name": "python",
   "nbconvert_exporter": "python",
   "pygments_lexer": "ipython3",
   "version": "3.8.0"
  }
 },
 "nbformat": 4,
 "nbformat_minor": 4
}
